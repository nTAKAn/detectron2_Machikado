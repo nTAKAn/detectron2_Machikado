{
 "cells": [
  {
   "cell_type": "markdown",
   "metadata": {},
   "source": [
    "# detectron2 for まちカドまぞく ～訓練編～\n",
    "\n",
    "<img src=\"https://user-images.githubusercontent.com/33882378/79055210-2ff0e600-7c86-11ea-93c6-8a65112f80f0.jpg\">\n",
    "\n",
    "detectron2 で独自データセット学習する方法\n",
    "\n",
    "参考にしたホームページ: https://demura.net/deeplearning/16807.html"
   ]
  },
  {
   "cell_type": "code",
   "execution_count": 1,
   "metadata": {},
   "outputs": [],
   "source": [
    "import os\n",
    "import numpy as np\n",
    "import json\n",
    "import matplotlib.pyplot as plt\n",
    "import cv2\n",
    "import random"
   ]
  },
  {
   "cell_type": "markdown",
   "metadata": {},
   "source": [
    "---\n",
    "## 独自のデータセットを読み込んで、データセットを用意する\n",
    "\n",
    "基本的に元になっているデータ形式をゴリゴリ自分で読み込んで、detectron2 の形式に変換していく\n",
    "\n",
    "### VoTT Export 形式からの読み込み"
   ]
  },
  {
   "cell_type": "code",
   "execution_count": 2,
   "metadata": {},
   "outputs": [],
   "source": [
    "# VoTT のエクスポートファイルや、画像が格納されているディレクトリ\n",
    "BASE_DIRECTORY = './vott-json-export/'\n",
    "# VoTT のエクスポートファイル名\n",
    "EXPORT_FILENAME = 'Machikado-export.json'\n",
    "# 訓練データに使用する割合\n",
    "TRAIN_RATIO = 0.7\n",
    "# 乱数シード\n",
    "RANDOM_STATE = 0"
   ]
  },
  {
   "cell_type": "markdown",
   "metadata": {},
   "source": [
    "* vott の場合は \"tags\" 格納されているカテゴリ名が格納されているのでそれを読み出せば良い"
   ]
  },
  {
   "cell_type": "code",
   "execution_count": 3,
   "metadata": {},
   "outputs": [
    {
     "data": {
      "text/plain": [
       "OrderedDict([(0, 'Shamiko'),\n",
       "             (1, 'Gosenzo'),\n",
       "             (2, 'Lilith'),\n",
       "             (3, 'Momo'),\n",
       "             (4, 'Mikan'),\n",
       "             (5, 'Mob')])"
      ]
     },
     "execution_count": 3,
     "metadata": {},
     "output_type": "execute_result"
    }
   ],
   "source": [
    "from collections import OrderedDict\n",
    "\n",
    "# エクスポートファイルからカテゴリ名を調べる\n",
    "with open(BASE_DIRECTORY + EXPORT_FILENAME, 'r') as f:\n",
    "    json_data = json.load(f)\n",
    "    \n",
    "CAT_NAME2ID = OrderedDict()\n",
    "CAT_ID2NAME = OrderedDict()\n",
    "\n",
    "for i, node in enumerate(json_data['tags']):\n",
    "    CAT_NAME2ID[node['name']] = i\n",
    "    CAT_ID2NAME[i] = node['name']\n",
    "\n",
    "CAT_ID2NAME"
   ]
  },
  {
   "cell_type": "markdown",
   "metadata": {},
   "source": [
    "* 所定の形式の辞書のリストと返す引数の無い関数を作れば良い\n",
    "* vott のアノテーションデータは \"assets\" に全て格納されているので、\"assets\" をゴリゴリ読み込んでいく。\n",
    "* マスクに必要な座標データは、\"regions\" に格納されている。\"regions\" は複数の領域データを含んでいる可能性があるので全て列挙する。\n",
    "領域データがない場合もあるのでそれも処理しておく。（VoTT で閲覧のみで、アノテーションされていないデータは領域データが無い）\n",
    "* 領域データの \"tags\" にカテゴリ名が格納されているので、１つ前のセルで読み込んだタグ情報(CAT_NAME2ID)を使用して整数のIDを振っていく。\n",
    "（tags は複数のカテゴリ名が格納されている可能性がある。VoTT で複数のタグをチェック出来るので注意）"
   ]
  },
  {
   "cell_type": "code",
   "execution_count": 4,
   "metadata": {},
   "outputs": [],
   "source": [
    "from PIL import Image\n",
    "from detectron2.structures import BoxMode\n",
    "\n",
    "# machikado用にアレンジした読み込み関数\n",
    "def get_machikado_dicts():\n",
    "    with open(BASE_DIRECTORY + EXPORT_FILENAME, 'r') as f:\n",
    "        json_data = json.load(f, object_pairs_hook=OrderedDict) # データ順を固定しておく\n",
    "    \n",
    "    assets = json_data['assets']\n",
    "\n",
    "    dataset_dicts = []\n",
    "    for item in assets.values():\n",
    "        asset = item['asset']\n",
    "        regions = item['regions']\n",
    "\n",
    "        if len(regions) == 0:\n",
    "            print('警告: name: {} - 領域データが空だったのでスキップ'.format(asset['name']))\n",
    "            continue\n",
    "        \n",
    "        # 画像サイズを取得し確認する\n",
    "        # （VoTT でアノテーション中画像を差し替えると画像のサイズが古い画像のままになるので修正する）\n",
    "        im = Image.open(BASE_DIRECTORY + asset['name'])\n",
    "        w, h = im.size\n",
    "        \n",
    "        if asset['size']['height'] != h or asset['size']['width'] != w:\n",
    "            print('警告: name: {} - 画像サイズの不整合 image_size:({}, {}), {}: ({}, {})'.format(\n",
    "                asset['name'], asset['size']['width'], asset['size']['height'], EXPORT_FILENAME, w, h))\n",
    "        \n",
    "        record = {}\n",
    "        record['file_name'] = BASE_DIRECTORY + asset['name']\n",
    "        record['height'] = h\n",
    "        record['width'] = w\n",
    "        \n",
    "        objs = []\n",
    "        for region in regions:\n",
    "            points = region['points']\n",
    "            assert len(points), '座標データが無い！'\n",
    "\n",
    "            if len(region['tags']) > 1:\n",
    "                print('警告: name: {} - 複数のタグを確認！ tags: {}'.format(asset['name'], region['tags']))\n",
    "\n",
    "            poly = []\n",
    "            for pt in points:\n",
    "                poly += [pt['x'], pt['y']]\n",
    "\n",
    "            bbox = region['boundingBox']\n",
    "\n",
    "            obj = {\n",
    "                'bbox': [bbox['left'], bbox['top'], bbox['left'] + bbox['width'], bbox['top'] + bbox['height']],\n",
    "                'bbox_mode': BoxMode.XYWH_ABS, # XYWH_REL はまだサポートされていないらしい\n",
    "                'segmentation': [poly],\n",
    "                'category_id': CAT_NAME2ID[region['tags'][0]],\n",
    "                'iscrowd': 0\n",
    "            }\n",
    "            objs.append(obj)\n",
    "\n",
    "        record['annotations'] = objs\n",
    "        dataset_dicts.append(record)\n",
    "        \n",
    "    return dataset_dicts"
   ]
  },
  {
   "cell_type": "markdown",
   "metadata": {},
   "source": [
    "### DatasetCatalogを用意する\n",
    "\n",
    "* 初めから訓練、テストが分かれてれば良いが、一緒のフォルダでも分割後にラムダ式で指定すれば良い"
   ]
  },
  {
   "cell_type": "code",
   "execution_count": 5,
   "metadata": {},
   "outputs": [
    {
     "name": "stdout",
     "output_type": "stream",
     "text": [
      "警告: name: 59.jpg - 画像サイズの不整合 image_size:(268, 201), Machikado-export.json: (600, 600)\n"
     ]
    }
   ],
   "source": [
    "from detectron2.data import DatasetCatalog\n",
    "\n",
    "dataset_dicts = get_machikado_dicts()\n",
    "\n",
    "# 訓練用、テスト用に分ける\n",
    "random.seed(RANDOM_STATE)\n",
    "random.shuffle(dataset_dicts)\n",
    "\n",
    "split_idx = int(len(dataset_dicts) * TRAIN_RATIO) + 1\n",
    "\n",
    "# 登録\n",
    "DatasetCatalog.clear()\n",
    "DatasetCatalog.register('train', lambda : dataset_dicts[:split_idx])\n",
    "DatasetCatalog.register('test', lambda : dataset_dicts[split_idx:])"
   ]
  },
  {
   "cell_type": "markdown",
   "metadata": {},
   "source": [
    "---\n",
    "\n",
    "## 学習\n",
    "\n",
    "* engine/defaults.py 399 行目コメントアウトでウザイ モデル表示をしないように出来る\n",
    "* モデルを変更したい場合は https://github.com/facebookresearch/detectron2/blob/master/MODEL_ZOO.md ここに色々あるので試すと良い\n",
    "* ```cfg.MODEL.WEIGHTS = ``` の部分は使用したい重みファイルに変える。(ダウンロードしてきた重みファイルへのパスを設定する)\n",
    "* merge_from_file はきちんと推論の時も揃えないとダメ！！"
   ]
  },
  {
   "cell_type": "code",
   "execution_count": 6,
   "metadata": {},
   "outputs": [],
   "source": [
    "from detectron2.config import get_cfg\n",
    "\n",
    "cfg = get_cfg()\n",
    "cfg.OUTPUT_DIR = './output'\n",
    "cfg.CUDA = 'cuda:0'\n",
    "\n",
    "# cfg.merge_from_file(\"../configs/COCO-InstanceSegmentation/mask_rcnn_R_50_FPN_3x.yaml\")\n",
    "# cfg.MODEL.WEIGHTS = './coco_models/model_final_f10217.pkl'\n",
    "# cfg.SOLVER.IMS_PER_BATCH = 2\n",
    "\n",
    "# 重いけど、これ精度良いです。\n",
    "cfg.merge_from_file('../configs/COCO-InstanceSegmentation/mask_rcnn_X_101_32x8d_FPN_3x.yaml')\n",
    "cfg.MODEL.WEIGHTS = './coco_models/model_final_2d9806.pkl'\n",
    "cfg.SOLVER.IMS_PER_BATCH = 1 # GTX2070 ではこれが限界\n",
    "\n",
    "cfg.DATASETS.TRAIN = ('train',)\n",
    "cfg.DATASETS.TEST = ()   # no metrics implemented for this dataset\n",
    "cfg.DATALOADER.NUM_WORKERS = 2\n",
    "cfg.SOLVER.BASE_LR = 0.00025\n",
    "cfg.SOLVER.MAX_ITER = 1500    # 300 iterations seems good enough, but you can certainly train longer <- とあるが、まあデータセットによるよね・・・\n",
    "cfg.MODEL.ROI_HEADS.BATCH_SIZE_PER_IMAGE = 128   # faster, and good enough for this toy dataset\n",
    "cfg.MODEL.ROI_HEADS.NUM_CLASSES = len(CAT_ID2NAME) "
   ]
  },
  {
   "cell_type": "markdown",
   "metadata": {},
   "source": [
    "TensorBoard を見たければ、detectron2_Machikado まで cd で移動して・・・\n",
    "\n",
    "```\n",
    "tensorboard --logdir output\n",
    "```\n",
    "\n",
    "docker な人は以下の様にする\n",
    "（事前に6006ポートをポートフォワーディングしておくことと、--bind_all が必要）\n",
    "\n",
    "```\n",
    "tensorboard --logdir output --bind_all\n",
    "```"
   ]
  },
  {
   "cell_type": "code",
   "execution_count": 7,
   "metadata": {},
   "outputs": [
    {
     "name": "stdout",
     "output_type": "stream",
     "text": [
      "\u001b[32m[04/12 04:14:28 d2.data.build]: \u001b[0mRemoved 0 images with no usable annotations. 50 images left.\n",
      "\u001b[32m[04/12 04:14:28 d2.data.common]: \u001b[0mSerializing 50 elements to byte tensors and concatenating them all ...\n",
      "\u001b[32m[04/12 04:14:28 d2.data.common]: \u001b[0mSerialized dataset takes 0.11 MiB\n",
      "\u001b[32m[04/12 04:14:28 d2.data.detection_utils]: \u001b[0mTransformGens used in training: [ResizeShortestEdge(short_edge_length=(640, 672, 704, 736, 768, 800), max_size=1333, sample_style='choice'), RandomFlip()]\n",
      "\u001b[32m[04/12 04:14:28 d2.data.build]: \u001b[0mUsing training sampler TrainingSampler\n"
     ]
    },
    {
     "name": "stderr",
     "output_type": "stream",
     "text": [
      "'roi_heads.box_predictor.cls_score.weight' has shape (81, 1024) in the checkpoint but (7, 1024) in the model! Skipped.\n",
      "'roi_heads.box_predictor.cls_score.bias' has shape (81,) in the checkpoint but (7,) in the model! Skipped.\n",
      "'roi_heads.box_predictor.bbox_pred.weight' has shape (320, 1024) in the checkpoint but (24, 1024) in the model! Skipped.\n",
      "'roi_heads.box_predictor.bbox_pred.bias' has shape (320,) in the checkpoint but (24,) in the model! Skipped.\n",
      "'roi_heads.mask_head.predictor.weight' has shape (80, 256, 1, 1) in the checkpoint but (6, 256, 1, 1) in the model! Skipped.\n",
      "'roi_heads.mask_head.predictor.bias' has shape (80,) in the checkpoint but (6,) in the model! Skipped.\n"
     ]
    },
    {
     "name": "stdout",
     "output_type": "stream",
     "text": [
      "\u001b[32m[04/12 04:14:29 d2.engine.train_loop]: \u001b[0mStarting training from iteration 0\n",
      "\u001b[32m[04/12 04:14:39 d2.utils.events]: \u001b[0m eta: 0:11:08  iter: 19  total_loss: 3.300  loss_cls: 1.927  loss_box_reg: 0.634  loss_mask: 0.693  loss_rpn_cls: 0.004  loss_rpn_loc: 0.017  time: 0.4769  data_time: 0.0076  lr: 0.000005  max_mem: 3678M\n",
      "\u001b[32m[04/12 04:14:48 d2.utils.events]: \u001b[0m eta: 0:11:32  iter: 39  total_loss: 3.057  loss_cls: 1.778  loss_box_reg: 0.463  loss_mask: 0.691  loss_rpn_cls: 0.004  loss_rpn_loc: 0.019  time: 0.4714  data_time: 0.0019  lr: 0.000010  max_mem: 3678M\n",
      "\u001b[32m[04/12 04:14:58 d2.utils.events]: \u001b[0m eta: 0:11:23  iter: 59  total_loss: 2.894  loss_cls: 1.465  loss_box_reg: 0.642  loss_mask: 0.687  loss_rpn_cls: 0.014  loss_rpn_loc: 0.021  time: 0.4705  data_time: 0.0019  lr: 0.000015  max_mem: 3678M\n",
      "\u001b[32m[04/12 04:15:08 d2.utils.events]: \u001b[0m eta: 0:11:17  iter: 79  total_loss: 2.485  loss_cls: 1.145  loss_box_reg: 0.718  loss_mask: 0.683  loss_rpn_cls: 0.003  loss_rpn_loc: 0.024  time: 0.4735  data_time: 0.0019  lr: 0.000020  max_mem: 3678M\n",
      "\u001b[32m[04/12 04:15:18 d2.utils.events]: \u001b[0m eta: 0:11:23  iter: 99  total_loss: 2.000  loss_cls: 0.802  loss_box_reg: 0.509  loss_mask: 0.685  loss_rpn_cls: 0.010  loss_rpn_loc: 0.032  time: 0.4806  data_time: 0.0019  lr: 0.000025  max_mem: 3678M\n",
      "\u001b[32m[04/12 04:15:28 d2.utils.events]: \u001b[0m eta: 0:11:17  iter: 119  total_loss: 2.055  loss_cls: 0.654  loss_box_reg: 0.701  loss_mask: 0.667  loss_rpn_cls: 0.011  loss_rpn_loc: 0.031  time: 0.4879  data_time: 0.0019  lr: 0.000030  max_mem: 3678M\n",
      "\u001b[32m[04/12 04:15:38 d2.utils.events]: \u001b[0m eta: 0:11:07  iter: 139  total_loss: 2.049  loss_cls: 0.601  loss_box_reg: 0.755  loss_mask: 0.660  loss_rpn_cls: 0.005  loss_rpn_loc: 0.019  time: 0.4868  data_time: 0.0019  lr: 0.000035  max_mem: 3775M\n",
      "\u001b[32m[04/12 04:15:48 d2.utils.events]: \u001b[0m eta: 0:10:57  iter: 159  total_loss: 1.482  loss_cls: 0.385  loss_box_reg: 0.475  loss_mask: 0.637  loss_rpn_cls: 0.002  loss_rpn_loc: 0.025  time: 0.4874  data_time: 0.0020  lr: 0.000040  max_mem: 3775M\n",
      "\u001b[32m[04/12 04:15:58 d2.utils.events]: \u001b[0m eta: 0:10:50  iter: 179  total_loss: 1.640  loss_cls: 0.397  loss_box_reg: 0.559  loss_mask: 0.635  loss_rpn_cls: 0.002  loss_rpn_loc: 0.026  time: 0.4885  data_time: 0.0020  lr: 0.000045  max_mem: 3775M\n",
      "\u001b[32m[04/12 04:16:08 d2.utils.events]: \u001b[0m eta: 0:10:41  iter: 199  total_loss: 1.739  loss_cls: 0.463  loss_box_reg: 0.656  loss_mask: 0.605  loss_rpn_cls: 0.003  loss_rpn_loc: 0.015  time: 0.4877  data_time: 0.0020  lr: 0.000050  max_mem: 3775M\n",
      "\u001b[32m[04/12 04:16:17 d2.utils.events]: \u001b[0m eta: 0:10:27  iter: 219  total_loss: 2.087  loss_cls: 0.618  loss_box_reg: 0.847  loss_mask: 0.578  loss_rpn_cls: 0.000  loss_rpn_loc: 0.017  time: 0.4856  data_time: 0.0018  lr: 0.000055  max_mem: 3775M\n",
      "\u001b[32m[04/12 04:16:27 d2.utils.events]: \u001b[0m eta: 0:10:17  iter: 239  total_loss: 1.245  loss_cls: 0.316  loss_box_reg: 0.378  loss_mask: 0.530  loss_rpn_cls: 0.001  loss_rpn_loc: 0.028  time: 0.4858  data_time: 0.0020  lr: 0.000060  max_mem: 3775M\n",
      "\u001b[32m[04/12 04:16:36 d2.utils.events]: \u001b[0m eta: 0:10:07  iter: 259  total_loss: 1.729  loss_cls: 0.412  loss_box_reg: 0.591  loss_mask: 0.558  loss_rpn_cls: 0.002  loss_rpn_loc: 0.017  time: 0.4844  data_time: 0.0020  lr: 0.000065  max_mem: 3775M\n",
      "\u001b[32m[04/12 04:16:46 d2.utils.events]: \u001b[0m eta: 0:09:57  iter: 279  total_loss: 1.745  loss_cls: 0.494  loss_box_reg: 0.717  loss_mask: 0.507  loss_rpn_cls: 0.001  loss_rpn_loc: 0.017  time: 0.4839  data_time: 0.0020  lr: 0.000070  max_mem: 3775M\n",
      "\u001b[32m[04/12 04:16:56 d2.utils.events]: \u001b[0m eta: 0:09:51  iter: 299  total_loss: 1.296  loss_cls: 0.343  loss_box_reg: 0.420  loss_mask: 0.460  loss_rpn_cls: 0.001  loss_rpn_loc: 0.032  time: 0.4857  data_time: 0.0018  lr: 0.000075  max_mem: 3775M\n",
      "\u001b[32m[04/12 04:17:05 d2.utils.events]: \u001b[0m eta: 0:09:37  iter: 319  total_loss: 1.331  loss_cls: 0.345  loss_box_reg: 0.456  loss_mask: 0.457  loss_rpn_cls: 0.002  loss_rpn_loc: 0.018  time: 0.4840  data_time: 0.0017  lr: 0.000080  max_mem: 3775M\n",
      "\u001b[32m[04/12 04:17:14 d2.utils.events]: \u001b[0m eta: 0:09:24  iter: 339  total_loss: 1.641  loss_cls: 0.461  loss_box_reg: 0.746  loss_mask: 0.373  loss_rpn_cls: 0.000  loss_rpn_loc: 0.019  time: 0.4821  data_time: 0.0017  lr: 0.000085  max_mem: 3775M\n",
      "\u001b[32m[04/12 04:17:25 d2.utils.events]: \u001b[0m eta: 0:09:17  iter: 359  total_loss: 1.664  loss_cls: 0.498  loss_box_reg: 0.824  loss_mask: 0.336  loss_rpn_cls: 0.000  loss_rpn_loc: 0.017  time: 0.4835  data_time: 0.0018  lr: 0.000090  max_mem: 3775M\n",
      "\u001b[32m[04/12 04:17:34 d2.utils.events]: \u001b[0m eta: 0:09:07  iter: 379  total_loss: 1.590  loss_cls: 0.476  loss_box_reg: 0.695  loss_mask: 0.360  loss_rpn_cls: 0.000  loss_rpn_loc: 0.015  time: 0.4827  data_time: 0.0019  lr: 0.000095  max_mem: 3775M\n",
      "\u001b[32m[04/12 04:17:44 d2.utils.events]: \u001b[0m eta: 0:08:57  iter: 399  total_loss: 1.085  loss_cls: 0.330  loss_box_reg: 0.429  loss_mask: 0.241  loss_rpn_cls: 0.000  loss_rpn_loc: 0.025  time: 0.4832  data_time: 0.0020  lr: 0.000100  max_mem: 3775M\n",
      "\u001b[32m[04/12 04:17:54 d2.utils.events]: \u001b[0m eta: 0:08:47  iter: 419  total_loss: 1.354  loss_cls: 0.429  loss_box_reg: 0.626  loss_mask: 0.218  loss_rpn_cls: 0.001  loss_rpn_loc: 0.014  time: 0.4831  data_time: 0.0020  lr: 0.000105  max_mem: 3775M\n",
      "\u001b[32m[04/12 04:18:03 d2.utils.events]: \u001b[0m eta: 0:08:37  iter: 439  total_loss: 1.538  loss_cls: 0.448  loss_box_reg: 0.711  loss_mask: 0.253  loss_rpn_cls: 0.000  loss_rpn_loc: 0.024  time: 0.4829  data_time: 0.0019  lr: 0.000110  max_mem: 3775M\n",
      "\u001b[32m[04/12 04:18:13 d2.utils.events]: \u001b[0m eta: 0:08:28  iter: 459  total_loss: 1.215  loss_cls: 0.391  loss_box_reg: 0.510  loss_mask: 0.236  loss_rpn_cls: 0.000  loss_rpn_loc: 0.016  time: 0.4825  data_time: 0.0020  lr: 0.000115  max_mem: 3775M\n",
      "\u001b[32m[04/12 04:18:23 d2.utils.events]: \u001b[0m eta: 0:08:18  iter: 479  total_loss: 1.315  loss_cls: 0.438  loss_box_reg: 0.604  loss_mask: 0.189  loss_rpn_cls: 0.000  loss_rpn_loc: 0.022  time: 0.4831  data_time: 0.0020  lr: 0.000120  max_mem: 3775M\n",
      "\u001b[32m[04/12 04:18:33 d2.utils.events]: \u001b[0m eta: 0:08:09  iter: 499  total_loss: 0.931  loss_cls: 0.289  loss_box_reg: 0.315  loss_mask: 0.194  loss_rpn_cls: 0.000  loss_rpn_loc: 0.030  time: 0.4835  data_time: 0.0020  lr: 0.000125  max_mem: 3775M\n",
      "\u001b[32m[04/12 04:18:43 d2.utils.events]: \u001b[0m eta: 0:07:59  iter: 519  total_loss: 1.310  loss_cls: 0.376  loss_box_reg: 0.555  loss_mask: 0.190  loss_rpn_cls: 0.000  loss_rpn_loc: 0.030  time: 0.4842  data_time: 0.0018  lr: 0.000130  max_mem: 3775M\n",
      "\u001b[32m[04/12 04:18:52 d2.utils.events]: \u001b[0m eta: 0:07:49  iter: 539  total_loss: 1.285  loss_cls: 0.475  loss_box_reg: 0.574  loss_mask: 0.155  loss_rpn_cls: 0.000  loss_rpn_loc: 0.020  time: 0.4842  data_time: 0.0018  lr: 0.000135  max_mem: 3775M\n",
      "\u001b[32m[04/12 04:19:01 d2.utils.events]: \u001b[0m eta: 0:07:39  iter: 559  total_loss: 0.684  loss_cls: 0.267  loss_box_reg: 0.193  loss_mask: 0.150  loss_rpn_cls: 0.000  loss_rpn_loc: 0.011  time: 0.4825  data_time: 0.0018  lr: 0.000140  max_mem: 3775M\n",
      "\u001b[32m[04/12 04:19:11 d2.utils.events]: \u001b[0m eta: 0:07:29  iter: 579  total_loss: 1.119  loss_cls: 0.363  loss_box_reg: 0.501  loss_mask: 0.178  loss_rpn_cls: 0.000  loss_rpn_loc: 0.022  time: 0.4833  data_time: 0.0018  lr: 0.000145  max_mem: 3775M\n",
      "\u001b[32m[04/12 04:19:21 d2.utils.events]: \u001b[0m eta: 0:07:19  iter: 599  total_loss: 1.144  loss_cls: 0.369  loss_box_reg: 0.511  loss_mask: 0.145  loss_rpn_cls: 0.000  loss_rpn_loc: 0.020  time: 0.4827  data_time: 0.0016  lr: 0.000150  max_mem: 3775M\n",
      "\u001b[32m[04/12 04:19:31 d2.utils.events]: \u001b[0m eta: 0:07:10  iter: 619  total_loss: 1.074  loss_cls: 0.356  loss_box_reg: 0.444  loss_mask: 0.134  loss_rpn_cls: 0.002  loss_rpn_loc: 0.018  time: 0.4832  data_time: 0.0017  lr: 0.000155  max_mem: 3775M\n",
      "\u001b[32m[04/12 04:19:41 d2.utils.events]: \u001b[0m eta: 0:07:00  iter: 639  total_loss: 0.929  loss_cls: 0.266  loss_box_reg: 0.432  loss_mask: 0.131  loss_rpn_cls: 0.000  loss_rpn_loc: 0.023  time: 0.4836  data_time: 0.0019  lr: 0.000160  max_mem: 3775M\n",
      "\u001b[32m[04/12 04:19:50 d2.utils.events]: \u001b[0m eta: 0:06:50  iter: 659  total_loss: 0.595  loss_cls: 0.251  loss_box_reg: 0.239  loss_mask: 0.135  loss_rpn_cls: 0.000  loss_rpn_loc: 0.013  time: 0.4823  data_time: 0.0018  lr: 0.000165  max_mem: 3775M\n",
      "\u001b[32m[04/12 04:19:59 d2.utils.events]: \u001b[0m eta: 0:06:40  iter: 679  total_loss: 1.007  loss_cls: 0.315  loss_box_reg: 0.435  loss_mask: 0.131  loss_rpn_cls: 0.000  loss_rpn_loc: 0.017  time: 0.4824  data_time: 0.0020  lr: 0.000170  max_mem: 3775M\n",
      "\u001b[32m[04/12 04:20:09 d2.utils.events]: \u001b[0m eta: 0:06:30  iter: 699  total_loss: 0.908  loss_cls: 0.279  loss_box_reg: 0.339  loss_mask: 0.169  loss_rpn_cls: 0.000  loss_rpn_loc: 0.015  time: 0.4823  data_time: 0.0020  lr: 0.000175  max_mem: 3775M\n",
      "\u001b[32m[04/12 04:20:19 d2.utils.events]: \u001b[0m eta: 0:06:20  iter: 719  total_loss: 0.582  loss_cls: 0.246  loss_box_reg: 0.221  loss_mask: 0.134  loss_rpn_cls: 0.000  loss_rpn_loc: 0.015  time: 0.4823  data_time: 0.0019  lr: 0.000180  max_mem: 3775M\n",
      "\u001b[32m[04/12 04:20:28 d2.utils.events]: \u001b[0m eta: 0:06:10  iter: 739  total_loss: 0.975  loss_cls: 0.350  loss_box_reg: 0.401  loss_mask: 0.148  loss_rpn_cls: 0.000  loss_rpn_loc: 0.018  time: 0.4819  data_time: 0.0020  lr: 0.000185  max_mem: 3775M\n",
      "\u001b[32m[04/12 04:20:38 d2.utils.events]: \u001b[0m eta: 0:06:01  iter: 759  total_loss: 0.814  loss_cls: 0.183  loss_box_reg: 0.388  loss_mask: 0.140  loss_rpn_cls: 0.000  loss_rpn_loc: 0.025  time: 0.4824  data_time: 0.0020  lr: 0.000190  max_mem: 3775M\n",
      "\u001b[32m[04/12 04:20:47 d2.utils.events]: \u001b[0m eta: 0:05:50  iter: 779  total_loss: 0.646  loss_cls: 0.243  loss_box_reg: 0.235  loss_mask: 0.119  loss_rpn_cls: 0.000  loss_rpn_loc: 0.024  time: 0.4816  data_time: 0.0019  lr: 0.000195  max_mem: 3775M\n",
      "\u001b[32m[04/12 04:20:57 d2.utils.events]: \u001b[0m eta: 0:05:40  iter: 799  total_loss: 0.770  loss_cls: 0.237  loss_box_reg: 0.326  loss_mask: 0.162  loss_rpn_cls: 0.000  loss_rpn_loc: 0.019  time: 0.4813  data_time: 0.0018  lr: 0.000200  max_mem: 3775M\n",
      "\u001b[32m[04/12 04:21:07 d2.utils.events]: \u001b[0m eta: 0:05:31  iter: 819  total_loss: 0.771  loss_cls: 0.205  loss_box_reg: 0.360  loss_mask: 0.135  loss_rpn_cls: 0.000  loss_rpn_loc: 0.020  time: 0.4819  data_time: 0.0019  lr: 0.000205  max_mem: 3775M\n",
      "\u001b[32m[04/12 04:21:17 d2.utils.events]: \u001b[0m eta: 0:05:22  iter: 839  total_loss: 0.719  loss_cls: 0.204  loss_box_reg: 0.270  loss_mask: 0.113  loss_rpn_cls: 0.000  loss_rpn_loc: 0.023  time: 0.4819  data_time: 0.0019  lr: 0.000210  max_mem: 3775M\n",
      "\u001b[32m[04/12 04:21:26 d2.utils.events]: \u001b[0m eta: 0:05:12  iter: 859  total_loss: 0.822  loss_cls: 0.190  loss_box_reg: 0.395  loss_mask: 0.112  loss_rpn_cls: 0.000  loss_rpn_loc: 0.018  time: 0.4817  data_time: 0.0018  lr: 0.000215  max_mem: 3775M\n",
      "\u001b[32m[04/12 04:21:35 d2.utils.events]: \u001b[0m eta: 0:05:02  iter: 879  total_loss: 0.615  loss_cls: 0.185  loss_box_reg: 0.245  loss_mask: 0.120  loss_rpn_cls: 0.000  loss_rpn_loc: 0.013  time: 0.4811  data_time: 0.0018  lr: 0.000220  max_mem: 3775M\n",
      "\u001b[32m[04/12 04:21:45 d2.utils.events]: \u001b[0m eta: 0:04:52  iter: 899  total_loss: 0.502  loss_cls: 0.151  loss_box_reg: 0.231  loss_mask: 0.103  loss_rpn_cls: 0.000  loss_rpn_loc: 0.016  time: 0.4814  data_time: 0.0018  lr: 0.000225  max_mem: 3775M\n",
      "\u001b[32m[04/12 04:21:55 d2.utils.events]: \u001b[0m eta: 0:04:42  iter: 919  total_loss: 0.547  loss_cls: 0.138  loss_box_reg: 0.332  loss_mask: 0.084  loss_rpn_cls: 0.000  loss_rpn_loc: 0.013  time: 0.4811  data_time: 0.0019  lr: 0.000230  max_mem: 3775M\n",
      "\u001b[32m[04/12 04:22:04 d2.utils.events]: \u001b[0m eta: 0:04:32  iter: 939  total_loss: 0.766  loss_cls: 0.200  loss_box_reg: 0.371  loss_mask: 0.154  loss_rpn_cls: 0.000  loss_rpn_loc: 0.017  time: 0.4813  data_time: 0.0020  lr: 0.000235  max_mem: 3775M\n",
      "\u001b[32m[04/12 04:22:14 d2.utils.events]: \u001b[0m eta: 0:04:23  iter: 959  total_loss: 0.669  loss_cls: 0.173  loss_box_reg: 0.281  loss_mask: 0.140  loss_rpn_cls: 0.000  loss_rpn_loc: 0.019  time: 0.4816  data_time: 0.0020  lr: 0.000240  max_mem: 3775M\n",
      "\u001b[32m[04/12 04:22:24 d2.utils.events]: \u001b[0m eta: 0:04:13  iter: 979  total_loss: 0.298  loss_cls: 0.080  loss_box_reg: 0.129  loss_mask: 0.084  loss_rpn_cls: 0.000  loss_rpn_loc: 0.016  time: 0.4815  data_time: 0.0020  lr: 0.000245  max_mem: 3775M\n",
      "\u001b[32m[04/12 04:22:34 d2.utils.events]: \u001b[0m eta: 0:04:03  iter: 999  total_loss: 0.583  loss_cls: 0.110  loss_box_reg: 0.288  loss_mask: 0.133  loss_rpn_cls: 0.000  loss_rpn_loc: 0.013  time: 0.4813  data_time: 0.0020  lr: 0.000250  max_mem: 3775M\n",
      "\u001b[32m[04/12 04:22:44 d2.utils.events]: \u001b[0m eta: 0:03:54  iter: 1019  total_loss: 0.516  loss_cls: 0.114  loss_box_reg: 0.250  loss_mask: 0.112  loss_rpn_cls: 0.000  loss_rpn_loc: 0.016  time: 0.4819  data_time: 0.0020  lr: 0.000250  max_mem: 3775M\n",
      "\u001b[32m[04/12 04:22:54 d2.utils.events]: \u001b[0m eta: 0:03:44  iter: 1039  total_loss: 0.601  loss_cls: 0.111  loss_box_reg: 0.328  loss_mask: 0.103  loss_rpn_cls: 0.000  loss_rpn_loc: 0.014  time: 0.4819  data_time: 0.0018  lr: 0.000250  max_mem: 3775M\n",
      "\u001b[32m[04/12 04:23:03 d2.utils.events]: \u001b[0m eta: 0:03:35  iter: 1059  total_loss: 0.509  loss_cls: 0.112  loss_box_reg: 0.278  loss_mask: 0.117  loss_rpn_cls: 0.000  loss_rpn_loc: 0.014  time: 0.4820  data_time: 0.0018  lr: 0.000250  max_mem: 3775M\n",
      "\u001b[32m[04/12 04:23:13 d2.utils.events]: \u001b[0m eta: 0:03:25  iter: 1079  total_loss: 0.532  loss_cls: 0.087  loss_box_reg: 0.272  loss_mask: 0.095  loss_rpn_cls: 0.000  loss_rpn_loc: 0.010  time: 0.4819  data_time: 0.0017  lr: 0.000250  max_mem: 3775M\n",
      "\u001b[32m[04/12 04:23:23 d2.utils.events]: \u001b[0m eta: 0:03:15  iter: 1099  total_loss: 0.433  loss_cls: 0.084  loss_box_reg: 0.233  loss_mask: 0.116  loss_rpn_cls: 0.000  loss_rpn_loc: 0.021  time: 0.4820  data_time: 0.0018  lr: 0.000250  max_mem: 3775M\n",
      "\u001b[32m[04/12 04:23:32 d2.utils.events]: \u001b[0m eta: 0:03:05  iter: 1119  total_loss: 0.460  loss_cls: 0.081  loss_box_reg: 0.219  loss_mask: 0.098  loss_rpn_cls: 0.000  loss_rpn_loc: 0.015  time: 0.4818  data_time: 0.0018  lr: 0.000250  max_mem: 3775M\n",
      "\u001b[32m[04/12 04:23:42 d2.utils.events]: \u001b[0m eta: 0:02:55  iter: 1139  total_loss: 0.360  loss_cls: 0.097  loss_box_reg: 0.201  loss_mask: 0.093  loss_rpn_cls: 0.000  loss_rpn_loc: 0.019  time: 0.4820  data_time: 0.0019  lr: 0.000250  max_mem: 3775M\n",
      "\u001b[32m[04/12 04:23:52 d2.utils.events]: \u001b[0m eta: 0:02:45  iter: 1159  total_loss: 0.376  loss_cls: 0.080  loss_box_reg: 0.196  loss_mask: 0.086  loss_rpn_cls: 0.000  loss_rpn_loc: 0.011  time: 0.4820  data_time: 0.0018  lr: 0.000250  max_mem: 3775M\n",
      "\u001b[32m[04/12 04:24:02 d2.utils.events]: \u001b[0m eta: 0:02:36  iter: 1179  total_loss: 0.503  loss_cls: 0.075  loss_box_reg: 0.265  loss_mask: 0.095  loss_rpn_cls: 0.000  loss_rpn_loc: 0.015  time: 0.4821  data_time: 0.0019  lr: 0.000250  max_mem: 3775M\n",
      "\u001b[32m[04/12 04:24:11 d2.utils.events]: \u001b[0m eta: 0:02:26  iter: 1199  total_loss: 0.365  loss_cls: 0.068  loss_box_reg: 0.190  loss_mask: 0.091  loss_rpn_cls: 0.000  loss_rpn_loc: 0.012  time: 0.4820  data_time: 0.0019  lr: 0.000250  max_mem: 3775M\n",
      "\u001b[32m[04/12 04:24:21 d2.utils.events]: \u001b[0m eta: 0:02:16  iter: 1219  total_loss: 0.454  loss_cls: 0.093  loss_box_reg: 0.228  loss_mask: 0.084  loss_rpn_cls: 0.000  loss_rpn_loc: 0.012  time: 0.4818  data_time: 0.0018  lr: 0.000250  max_mem: 3775M\n",
      "\u001b[32m[04/12 04:24:30 d2.utils.events]: \u001b[0m eta: 0:02:06  iter: 1239  total_loss: 0.342  loss_cls: 0.063  loss_box_reg: 0.201  loss_mask: 0.089  loss_rpn_cls: 0.000  loss_rpn_loc: 0.017  time: 0.4817  data_time: 0.0018  lr: 0.000250  max_mem: 3775M\n",
      "\u001b[32m[04/12 04:24:39 d2.utils.events]: \u001b[0m eta: 0:01:57  iter: 1259  total_loss: 0.253  loss_cls: 0.047  loss_box_reg: 0.120  loss_mask: 0.099  loss_rpn_cls: 0.000  loss_rpn_loc: 0.010  time: 0.4813  data_time: 0.0019  lr: 0.000250  max_mem: 3775M\n",
      "\u001b[32m[04/12 04:24:49 d2.utils.events]: \u001b[0m eta: 0:01:47  iter: 1279  total_loss: 0.504  loss_cls: 0.100  loss_box_reg: 0.237  loss_mask: 0.100  loss_rpn_cls: 0.000  loss_rpn_loc: 0.015  time: 0.4814  data_time: 0.0019  lr: 0.000250  max_mem: 3775M\n",
      "\u001b[32m[04/12 04:24:59 d2.utils.events]: \u001b[0m eta: 0:01:37  iter: 1299  total_loss: 0.339  loss_cls: 0.048  loss_box_reg: 0.192  loss_mask: 0.089  loss_rpn_cls: 0.000  loss_rpn_loc: 0.010  time: 0.4813  data_time: 0.0018  lr: 0.000250  max_mem: 3775M\n",
      "\u001b[32m[04/12 04:25:08 d2.utils.events]: \u001b[0m eta: 0:01:27  iter: 1319  total_loss: 0.307  loss_cls: 0.045  loss_box_reg: 0.171  loss_mask: 0.081  loss_rpn_cls: 0.000  loss_rpn_loc: 0.010  time: 0.4813  data_time: 0.0018  lr: 0.000250  max_mem: 3775M\n",
      "\u001b[32m[04/12 04:25:18 d2.utils.events]: \u001b[0m eta: 0:01:18  iter: 1339  total_loss: 0.519  loss_cls: 0.084  loss_box_reg: 0.239  loss_mask: 0.136  loss_rpn_cls: 0.000  loss_rpn_loc: 0.014  time: 0.4811  data_time: 0.0019  lr: 0.000250  max_mem: 3775M\n",
      "\u001b[32m[04/12 04:25:27 d2.utils.events]: \u001b[0m eta: 0:01:08  iter: 1359  total_loss: 0.308  loss_cls: 0.049  loss_box_reg: 0.160  loss_mask: 0.078  loss_rpn_cls: 0.000  loss_rpn_loc: 0.011  time: 0.4811  data_time: 0.0018  lr: 0.000250  max_mem: 3775M\n",
      "\u001b[32m[04/12 04:25:38 d2.utils.events]: \u001b[0m eta: 0:00:58  iter: 1379  total_loss: 0.425  loss_cls: 0.082  loss_box_reg: 0.205  loss_mask: 0.097  loss_rpn_cls: 0.000  loss_rpn_loc: 0.013  time: 0.4814  data_time: 0.0018  lr: 0.000250  max_mem: 3775M\n",
      "\u001b[32m[04/12 04:25:47 d2.utils.events]: \u001b[0m eta: 0:00:49  iter: 1399  total_loss: 0.208  loss_cls: 0.031  loss_box_reg: 0.097  loss_mask: 0.082  loss_rpn_cls: 0.000  loss_rpn_loc: 0.013  time: 0.4811  data_time: 0.0018  lr: 0.000250  max_mem: 3775M\n",
      "\u001b[32m[04/12 04:25:57 d2.utils.events]: \u001b[0m eta: 0:00:39  iter: 1419  total_loss: 0.275  loss_cls: 0.046  loss_box_reg: 0.144  loss_mask: 0.071  loss_rpn_cls: 0.000  loss_rpn_loc: 0.015  time: 0.4812  data_time: 0.0018  lr: 0.000250  max_mem: 3775M\n",
      "\u001b[32m[04/12 04:26:06 d2.utils.events]: \u001b[0m eta: 0:00:29  iter: 1439  total_loss: 0.240  loss_cls: 0.037  loss_box_reg: 0.133  loss_mask: 0.077  loss_rpn_cls: 0.000  loss_rpn_loc: 0.009  time: 0.4811  data_time: 0.0019  lr: 0.000250  max_mem: 3775M\n",
      "\u001b[32m[04/12 04:26:16 d2.utils.events]: \u001b[0m eta: 0:00:19  iter: 1459  total_loss: 0.394  loss_cls: 0.063  loss_box_reg: 0.186  loss_mask: 0.080  loss_rpn_cls: 0.000  loss_rpn_loc: 0.012  time: 0.4810  data_time: 0.0017  lr: 0.000250  max_mem: 3775M\n",
      "\u001b[32m[04/12 04:26:25 d2.utils.events]: \u001b[0m eta: 0:00:10  iter: 1479  total_loss: 0.205  loss_cls: 0.032  loss_box_reg: 0.084  loss_mask: 0.076  loss_rpn_cls: 0.000  loss_rpn_loc: 0.012  time: 0.4806  data_time: 0.0017  lr: 0.000250  max_mem: 3775M\n",
      "\u001b[32m[04/12 04:26:43 d2.utils.events]: \u001b[0m eta: 0:00:00  iter: 1499  total_loss: 0.372  loss_cls: 0.054  loss_box_reg: 0.219  loss_mask: 0.088  loss_rpn_cls: 0.000  loss_rpn_loc: 0.014  time: 0.4809  data_time: 0.0017  lr: 0.000250  max_mem: 3775M\n",
      "\u001b[32m[04/12 04:26:44 d2.engine.hooks]: \u001b[0mOverall training speed: 1497 iterations in 0:12:00 (0.4812 s / it)\n",
      "\u001b[32m[04/12 04:26:44 d2.engine.hooks]: \u001b[0mTotal training time: 0:12:13 (0:00:12 on hooks)\n"
     ]
    }
   ],
   "source": [
    "# DefaultTrainer はサンプルなので、ガチにやる人は自分で作るらしい・・・\n",
    "from detectron2.engine import DefaultTrainer\n",
    "\n",
    "# 出力先のディレクトリを作る\n",
    "os.makedirs(cfg.OUTPUT_DIR, exist_ok=True)\n",
    "\n",
    "trainer = DefaultTrainer(cfg) \n",
    "trainer.resume_or_load(resume=False) # True で途中から学習できるらしい\n",
    "trainer.train()"
   ]
  },
  {
   "cell_type": "code",
   "execution_count": null,
   "metadata": {},
   "outputs": [],
   "source": []
  }
 ],
 "metadata": {
  "kernelspec": {
   "display_name": "Python 3",
   "language": "python",
   "name": "python3"
  },
  "language_info": {
   "codemirror_mode": {
    "name": "ipython",
    "version": 3
   },
   "file_extension": ".py",
   "mimetype": "text/x-python",
   "name": "python",
   "nbconvert_exporter": "python",
   "pygments_lexer": "ipython3",
   "version": "3.7.4"
  }
 },
 "nbformat": 4,
 "nbformat_minor": 4
}
