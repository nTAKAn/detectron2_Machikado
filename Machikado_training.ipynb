{
 "cells": [
  {
   "cell_type": "markdown",
   "metadata": {},
   "source": [
    "# detectron2 for まちカドまぞく ～訓練編～\n",
    "\n",
    "<img src=\"https://user-images.githubusercontent.com/33882378/79055210-2ff0e600-7c86-11ea-93c6-8a65112f80f0.jpg\">\n",
    "\n",
    "detectron2 で独自データセット学習する方法\n",
    "\n",
    "参考にしたホームページ: https://demura.net/deeplearning/16807.html"
   ]
  },
  {
   "cell_type": "code",
   "execution_count": 1,
   "metadata": {},
   "outputs": [],
   "source": [
    "import os\n",
    "import numpy as np\n",
    "import json\n",
    "import matplotlib.pyplot as plt\n",
    "import cv2\n",
    "import random"
   ]
  },
  {
   "cell_type": "markdown",
   "metadata": {},
   "source": [
    "---\n",
    "## 独自のデータセットを読み込んで、データセットを用意する\n",
    "\n",
    "基本的に元になっているデータ形式をゴリゴリ自分で読み込んで、detectron2 の形式に変換していく\n",
    "\n",
    "### VoTT Export 形式からの読み込み"
   ]
  },
  {
   "cell_type": "code",
   "execution_count": 2,
   "metadata": {},
   "outputs": [],
   "source": [
    "# VoTT のエクスポートファイルや、画像が格納されているディレクトリ\n",
    "BASE_DIRECTORY = './vott-json-export/'\n",
    "# VoTT のエクスポートファイル名\n",
    "EXPORT_FILENAME = 'Machikado-export.json'\n",
    "# 訓練データに使用する割合\n",
    "TRAIN_RATIO = 0.8\n",
    "# 乱数シード\n",
    "RANDOM_STATE = 0"
   ]
  },
  {
   "cell_type": "markdown",
   "metadata": {},
   "source": [
    "* vott の場合は \"tags\" 格納されているカテゴリ名が格納されているのでそれを読み出せば良い"
   ]
  },
  {
   "cell_type": "code",
   "execution_count": 3,
   "metadata": {},
   "outputs": [
    {
     "data": {
      "text/plain": [
       "OrderedDict([(0, 'Shamiko'),\n",
       "             (1, 'Gosenzo'),\n",
       "             (2, 'Lilith'),\n",
       "             (3, 'Momo'),\n",
       "             (4, 'Mikan'),\n",
       "             (5, 'Mob')])"
      ]
     },
     "execution_count": 3,
     "metadata": {},
     "output_type": "execute_result"
    }
   ],
   "source": [
    "from collections import OrderedDict\n",
    "\n",
    "# エクスポートファイルからカテゴリ名を調べる\n",
    "with open(os.path.join(BASE_DIRECTORY, EXPORT_FILENAME), 'r') as f:\n",
    "    json_data = json.load(f)\n",
    "    \n",
    "CAT_NAME2ID = OrderedDict()\n",
    "CAT_ID2NAME = OrderedDict()\n",
    "\n",
    "for i, node in enumerate(json_data['tags']):\n",
    "    CAT_NAME2ID[node['name']] = i\n",
    "    CAT_ID2NAME[i] = node['name']\n",
    "\n",
    "CAT_ID2NAME"
   ]
  },
  {
   "cell_type": "markdown",
   "metadata": {},
   "source": [
    "* 所定の形式の辞書のリストと返す引数の無い関数を作れば良い\n",
    "* vott のアノテーションデータは \"assets\" に全て格納されているので、\"assets\" をゴリゴリ読み込んでいく。\n",
    "* マスクに必要な座標データは、\"regions\" に格納されている。\"regions\" は複数の領域データを含んでいる可能性があるので全て列挙する。\n",
    "領域データがない場合もあるのでそれも処理しておく。（VoTT で閲覧のみで、アノテーションされていないデータは領域データが無い）\n",
    "* 領域データの \"tags\" にカテゴリ名が格納されているので、１つ前のセルで読み込んだタグ情報(CAT_NAME2ID)を使用して整数のIDを振っていく。\n",
    "（tags は複数のカテゴリ名が格納されている可能性がある。VoTT で複数のタグをチェック出来るので注意）"
   ]
  },
  {
   "cell_type": "code",
   "execution_count": 4,
   "metadata": {},
   "outputs": [],
   "source": [
    "from PIL import Image\n",
    "from detectron2.structures import BoxMode\n",
    "\n",
    "# machikado用にアレンジした読み込み関数\n",
    "def get_machikado_dicts():\n",
    "    with open(os.path.join(BASE_DIRECTORY, EXPORT_FILENAME), 'r') as f:\n",
    "        json_data = json.load(f, object_pairs_hook=OrderedDict) # データ順を固定しておく\n",
    "    \n",
    "    assets = json_data['assets']\n",
    "\n",
    "    dataset_dicts = []\n",
    "    for item in assets.values():\n",
    "        asset = item['asset']\n",
    "        regions = item['regions']\n",
    "\n",
    "        if len(regions) == 0:\n",
    "            print('警告: name: {} - 領域データが空だったのでスキップ'.format(asset['name']))\n",
    "            continue\n",
    "        \n",
    "        # 画像サイズを取得し確認する\n",
    "        # （VoTT でアノテーション中画像を差し替えると画像のサイズが古い画像のままになるので修正する）\n",
    "        file_name = os.path.join(BASE_DIRECTORY, asset['name'])\n",
    "        im = Image.open(file_name)\n",
    "        w, h = im.size\n",
    "        \n",
    "        if asset['size']['height'] != h or asset['size']['width'] != w:\n",
    "            print('警告: name: {} - 画像サイズの不整合 image_size:({}, {}), {}: ({}, {})'.format(\n",
    "                asset['name'], asset['size']['width'], asset['size']['height'], EXPORT_FILENAME, w, h))\n",
    "        \n",
    "        record = {}\n",
    "        record['file_name'] = file_name\n",
    "        record['height'] = h\n",
    "        record['width'] = w\n",
    "        \n",
    "        objs = []\n",
    "        for region in regions:\n",
    "            points = region['points']\n",
    "            assert len(points), '座標データが無い！'\n",
    "\n",
    "            if len(region['tags']) > 1:\n",
    "                print('警告: name: {} - 複数のタグを確認！ tags: {}'.format(asset['name'], region['tags']))\n",
    "\n",
    "            poly = []\n",
    "            for pt in points:\n",
    "                poly += [pt['x'], pt['y']]\n",
    "\n",
    "            bbox = region['boundingBox']\n",
    "\n",
    "            obj = {\n",
    "                'bbox': [bbox['left'], bbox['top'], bbox['width'], bbox['height']],\n",
    "                'bbox_mode': BoxMode.XYWH_ABS, # XYWH_REL はまだサポートされていないらしい\n",
    "                'segmentation': [poly],\n",
    "                'category_id': CAT_NAME2ID[region['tags'][0]],\n",
    "                'iscrowd': 0\n",
    "            }\n",
    "            objs.append(obj)\n",
    "\n",
    "        record['annotations'] = objs\n",
    "        dataset_dicts.append(record)\n",
    "        \n",
    "    return dataset_dicts"
   ]
  },
  {
   "cell_type": "markdown",
   "metadata": {},
   "source": [
    "### DatasetCatalogを用意する\n",
    "\n",
    "* 初めから訓練、テストが分かれてれば良いが、一緒のフォルダでも分割後にラムダ式で指定すれば良い\n",
    "\n",
    "> まあ最初から分けた方が後々楽そうではあるので VoTT のデータを分けて保存出来れば良いと思うが、\n",
    "> VoTT の標準ではないんですよね・・・"
   ]
  },
  {
   "cell_type": "code",
   "execution_count": 5,
   "metadata": {},
   "outputs": [
    {
     "name": "stdout",
     "output_type": "stream",
     "text": [
      "警告: name: 59.jpg - 画像サイズの不整合 image_size:(268, 201), Machikado-export.json: (600, 600)\n"
     ]
    },
    {
     "data": {
      "text/plain": [
       "Metadata(name='test', thing_classes=['Shamiko', 'Gosenzo', 'Lilith', 'Momo', 'Mikan', 'Mob'])"
      ]
     },
     "execution_count": 5,
     "metadata": {},
     "output_type": "execute_result"
    }
   ],
   "source": [
    "from detectron2.data import DatasetCatalog, MetadataCatalog\n",
    "\n",
    "dataset_dicts = get_machikado_dicts()\n",
    "\n",
    "# 訓練用、テスト用に分ける\n",
    "random.seed(RANDOM_STATE)\n",
    "random.shuffle(dataset_dicts)\n",
    "\n",
    "split_idx = int(len(dataset_dicts) * TRAIN_RATIO) + 1\n",
    "\n",
    "# 登録\n",
    "DatasetCatalog.clear()\n",
    "DatasetCatalog.register('train', lambda : dataset_dicts[:split_idx])\n",
    "DatasetCatalog.register('test', lambda : dataset_dicts[split_idx:])\n",
    "\n",
    "MetadataCatalog.get('train').set(thing_classes=list(CAT_NAME2ID.keys()))\n",
    "MetadataCatalog.get('test').set(thing_classes=list(CAT_NAME2ID.keys()))"
   ]
  },
  {
   "cell_type": "markdown",
   "metadata": {},
   "source": [
    "---\n",
    "\n",
    "## 学習\n",
    "\n",
    "* engine/defaults.py 399 行目コメントアウトでウザイ モデル表示をしないように出来る\n",
    "* モデルを変更したい場合は https://github.com/facebookresearch/detectron2/blob/master/MODEL_ZOO.md ここに色々あるので試すと良い\n",
    "* ```cfg.MODEL.WEIGHTS = ``` の部分は使用したい重みファイルに変える。(ダウンロードしてきた重みファイルへのパスを設定する)\n",
    "* merge_from_file はきちんと推論の時も揃えないとダメ！！\n",
    "\n",
    "* 訓練でに以下のエラーが出る場合\n",
    "```python\n",
    "ModuleNotFoundError: No module named 'shapely'\n",
    "```\n",
    "\n",
    "```\n",
    "pip install shapely\n",
    "```"
   ]
  },
  {
   "cell_type": "code",
   "execution_count": 6,
   "metadata": {},
   "outputs": [],
   "source": [
    "from detectron2.config import get_cfg\n",
    "\n",
    "cfg = get_cfg()\n",
    "cfg.OUTPUT_DIR = './output'\n",
    "cfg.CUDA = 'cuda:0'\n",
    "\n",
    "# cfg.merge_from_file(\"../configs/COCO-InstanceSegmentation/mask_rcnn_R_50_FPN_3x.yaml\")\n",
    "# cfg.MODEL.WEIGHTS = './coco_models/model_final_f10217.pkl'\n",
    "# cfg.SOLVER.IMS_PER_BATCH = 2\n",
    "\n",
    "# 重いけど、これ精度良いです。\n",
    "cfg.merge_from_file('../configs/COCO-InstanceSegmentation/mask_rcnn_X_101_32x8d_FPN_3x.yaml')\n",
    "cfg.MODEL.WEIGHTS = './coco_models/model_final_2d9806.pkl'\n",
    "cfg.SOLVER.IMS_PER_BATCH = 1 # GTX2070 ではこれが限界\n",
    "\n",
    "cfg.DATASETS.TRAIN = ('train',)\n",
    "cfg.DATASETS.TEST = ()   # no metrics implemented for this dataset\n",
    "cfg.DATALOADER.NUM_WORKERS = 2\n",
    "cfg.SOLVER.BASE_LR = 0.00025\n",
    "cfg.SOLVER.MAX_ITER = 1500    # 300 iterations seems good enough, but you can certainly train longer <- とあるが、まあデータセットによるよね・・・\n",
    "cfg.MODEL.ROI_HEADS.BATCH_SIZE_PER_IMAGE = 128   # faster, and good enough for this toy dataset\n",
    "cfg.MODEL.ROI_HEADS.NUM_CLASSES = len(CAT_ID2NAME) \n",
    "\n",
    "cfg.INPUT.CROP.ENABLED = True\n",
    "cfg.INPUT.CROP.SIZE = [0.9, 0.9]"
   ]
  },
  {
   "cell_type": "markdown",
   "metadata": {},
   "source": [
    "TensorBoard を見たければ、detectron2_Machikado まで cd で移動して・・・\n",
    "\n",
    "```\n",
    "tensorboard --logdir output\n",
    "```\n",
    "\n",
    "docker な人は以下の様にする\n",
    "（事前に6006ポートをポートフォワーディングしておくことと、--bind_all が必要）\n",
    "\n",
    "```\n",
    "tensorboard --logdir output --bind_all\n",
    "```"
   ]
  },
  {
   "cell_type": "code",
   "execution_count": 7,
   "metadata": {},
   "outputs": [
    {
     "name": "stdout",
     "output_type": "stream",
     "text": [
      "\u001b[32m[04/12 22:21:25 d2.data.build]: \u001b[0mRemoved 0 images with no usable annotations. 57 images left.\n",
      "\u001b[32m[04/12 22:21:25 d2.data.build]: \u001b[0mDistribution of instances among all 6 categories:\n",
      "\u001b[36m|  category  | #instances   |  category  | #instances   |  category  | #instances   |\n",
      "|:----------:|:-------------|:----------:|:-------------|:----------:|:-------------|\n",
      "|  Shamiko   | 39           |  Gosenzo   | 16           |   Lilith   | 11           |\n",
      "|    Momo    | 19           |   Mikan    | 8            |    Mob     | 11           |\n",
      "|            |              |            |              |            |              |\n",
      "|   total    | 104          |            |              |            |              |\u001b[0m\n",
      "\u001b[32m[04/12 22:21:25 d2.data.common]: \u001b[0mSerializing 57 elements to byte tensors and concatenating them all ...\n",
      "\u001b[32m[04/12 22:21:25 d2.data.common]: \u001b[0mSerialized dataset takes 0.13 MiB\n",
      "\u001b[32m[04/12 22:21:25 d2.data.dataset_mapper]: \u001b[0mCropGen used in training: RandomCrop(crop_type='relative_range', crop_size=[0.9, 0.9])\n",
      "\u001b[32m[04/12 22:21:25 d2.data.detection_utils]: \u001b[0mTransformGens used in training: [ResizeShortestEdge(short_edge_length=(640, 672, 704, 736, 768, 800), max_size=1333, sample_style='choice'), RandomFlip()]\n",
      "\u001b[32m[04/12 22:21:25 d2.data.build]: \u001b[0mUsing training sampler TrainingSampler\n"
     ]
    },
    {
     "name": "stderr",
     "output_type": "stream",
     "text": [
      "'roi_heads.box_predictor.cls_score.weight' has shape (81, 1024) in the checkpoint but (7, 1024) in the model! Skipped.\n",
      "'roi_heads.box_predictor.cls_score.bias' has shape (81,) in the checkpoint but (7,) in the model! Skipped.\n",
      "'roi_heads.box_predictor.bbox_pred.weight' has shape (320, 1024) in the checkpoint but (24, 1024) in the model! Skipped.\n",
      "'roi_heads.box_predictor.bbox_pred.bias' has shape (320,) in the checkpoint but (24,) in the model! Skipped.\n",
      "'roi_heads.mask_head.predictor.weight' has shape (80, 256, 1, 1) in the checkpoint but (6, 256, 1, 1) in the model! Skipped.\n",
      "'roi_heads.mask_head.predictor.bias' has shape (80,) in the checkpoint but (6,) in the model! Skipped.\n"
     ]
    },
    {
     "name": "stdout",
     "output_type": "stream",
     "text": [
      "\u001b[32m[04/12 22:21:33 d2.engine.train_loop]: \u001b[0mStarting training from iteration 0\n",
      "\u001b[32m[04/12 22:21:42 d2.utils.events]: \u001b[0m eta: 0:11:40  iter: 19  total_loss: 3.255  loss_cls: 2.082  loss_box_reg: 0.407  loss_mask: 0.691  loss_rpn_cls: 0.005  loss_rpn_loc: 0.010  time: 0.4722  data_time: 0.0103  lr: 0.000005  max_mem: 3678M\n",
      "\u001b[32m[04/12 22:21:52 d2.utils.events]: \u001b[0m eta: 0:11:30  iter: 39  total_loss: 3.306  loss_cls: 1.958  loss_box_reg: 0.624  loss_mask: 0.690  loss_rpn_cls: 0.003  loss_rpn_loc: 0.017  time: 0.4687  data_time: 0.0017  lr: 0.000010  max_mem: 3769M\n",
      "\u001b[32m[04/12 22:22:01 d2.utils.events]: \u001b[0m eta: 0:11:20  iter: 59  total_loss: 3.164  loss_cls: 1.626  loss_box_reg: 0.770  loss_mask: 0.686  loss_rpn_cls: 0.002  loss_rpn_loc: 0.012  time: 0.4703  data_time: 0.0020  lr: 0.000015  max_mem: 3769M\n",
      "\u001b[32m[04/12 22:22:11 d2.utils.events]: \u001b[0m eta: 0:11:19  iter: 79  total_loss: 2.631  loss_cls: 1.294  loss_box_reg: 0.664  loss_mask: 0.681  loss_rpn_cls: 0.002  loss_rpn_loc: 0.009  time: 0.4734  data_time: 0.0018  lr: 0.000020  max_mem: 3769M\n",
      "\u001b[32m[04/12 22:22:21 d2.utils.events]: \u001b[0m eta: 0:11:13  iter: 99  total_loss: 2.251  loss_cls: 0.880  loss_box_reg: 0.604  loss_mask: 0.668  loss_rpn_cls: 0.003  loss_rpn_loc: 0.010  time: 0.4736  data_time: 0.0019  lr: 0.000025  max_mem: 3769M\n",
      "\u001b[32m[04/12 22:22:30 d2.utils.events]: \u001b[0m eta: 0:11:05  iter: 119  total_loss: 2.361  loss_cls: 0.796  loss_box_reg: 0.862  loss_mask: 0.654  loss_rpn_cls: 0.002  loss_rpn_loc: 0.013  time: 0.4752  data_time: 0.0019  lr: 0.000030  max_mem: 3769M\n",
      "\u001b[32m[04/12 22:22:41 d2.utils.events]: \u001b[0m eta: 0:11:01  iter: 139  total_loss: 2.058  loss_cls: 0.624  loss_box_reg: 0.747  loss_mask: 0.639  loss_rpn_cls: 0.003  loss_rpn_loc: 0.012  time: 0.4815  data_time: 0.0019  lr: 0.000035  max_mem: 3769M\n",
      "\u001b[32m[04/12 22:22:51 d2.utils.events]: \u001b[0m eta: 0:10:53  iter: 159  total_loss: 1.496  loss_cls: 0.404  loss_box_reg: 0.496  loss_mask: 0.605  loss_rpn_cls: 0.002  loss_rpn_loc: 0.014  time: 0.4832  data_time: 0.0018  lr: 0.000040  max_mem: 3769M\n",
      "\u001b[32m[04/12 22:23:00 d2.utils.events]: \u001b[0m eta: 0:10:37  iter: 179  total_loss: 1.756  loss_cls: 0.505  loss_box_reg: 0.602  loss_mask: 0.601  loss_rpn_cls: 0.002  loss_rpn_loc: 0.020  time: 0.4789  data_time: 0.0016  lr: 0.000045  max_mem: 3769M\n",
      "\u001b[32m[04/12 22:23:10 d2.utils.events]: \u001b[0m eta: 0:10:30  iter: 199  total_loss: 1.790  loss_cls: 0.427  loss_box_reg: 0.614  loss_mask: 0.565  loss_rpn_cls: 0.002  loss_rpn_loc: 0.015  time: 0.4818  data_time: 0.0017  lr: 0.000050  max_mem: 3769M\n",
      "\u001b[32m[04/12 22:23:19 d2.utils.events]: \u001b[0m eta: 0:10:18  iter: 219  total_loss: 2.034  loss_cls: 0.591  loss_box_reg: 0.899  loss_mask: 0.536  loss_rpn_cls: 0.001  loss_rpn_loc: 0.011  time: 0.4807  data_time: 0.0016  lr: 0.000055  max_mem: 3769M\n",
      "\u001b[32m[04/12 22:23:29 d2.utils.events]: \u001b[0m eta: 0:10:09  iter: 239  total_loss: 1.702  loss_cls: 0.383  loss_box_reg: 0.571  loss_mask: 0.435  loss_rpn_cls: 0.000  loss_rpn_loc: 0.009  time: 0.4808  data_time: 0.0016  lr: 0.000060  max_mem: 3769M\n",
      "\u001b[32m[04/12 22:23:38 d2.utils.events]: \u001b[0m eta: 0:09:58  iter: 259  total_loss: 1.519  loss_cls: 0.438  loss_box_reg: 0.675  loss_mask: 0.437  loss_rpn_cls: 0.000  loss_rpn_loc: 0.011  time: 0.4787  data_time: 0.0017  lr: 0.000065  max_mem: 3769M\n",
      "\u001b[32m[04/12 22:23:48 d2.utils.events]: \u001b[0m eta: 0:09:48  iter: 279  total_loss: 1.612  loss_cls: 0.436  loss_box_reg: 0.709  loss_mask: 0.446  loss_rpn_cls: 0.000  loss_rpn_loc: 0.015  time: 0.4783  data_time: 0.0019  lr: 0.000070  max_mem: 3769M\n",
      "\u001b[32m[04/12 22:23:57 d2.utils.events]: \u001b[0m eta: 0:09:38  iter: 299  total_loss: 1.662  loss_cls: 0.486  loss_box_reg: 0.854  loss_mask: 0.353  loss_rpn_cls: 0.000  loss_rpn_loc: 0.008  time: 0.4777  data_time: 0.0017  lr: 0.000075  max_mem: 3769M\n",
      "\u001b[32m[04/12 22:24:07 d2.utils.events]: \u001b[0m eta: 0:09:29  iter: 319  total_loss: 1.560  loss_cls: 0.433  loss_box_reg: 0.755  loss_mask: 0.333  loss_rpn_cls: 0.000  loss_rpn_loc: 0.016  time: 0.4785  data_time: 0.0017  lr: 0.000080  max_mem: 3769M\n",
      "\u001b[32m[04/12 22:24:17 d2.utils.events]: \u001b[0m eta: 0:09:20  iter: 339  total_loss: 1.349  loss_cls: 0.365  loss_box_reg: 0.608  loss_mask: 0.319  loss_rpn_cls: 0.000  loss_rpn_loc: 0.017  time: 0.4790  data_time: 0.0016  lr: 0.000085  max_mem: 3769M\n",
      "\u001b[32m[04/12 22:24:26 d2.utils.events]: \u001b[0m eta: 0:09:10  iter: 359  total_loss: 1.354  loss_cls: 0.376  loss_box_reg: 0.560  loss_mask: 0.275  loss_rpn_cls: 0.000  loss_rpn_loc: 0.012  time: 0.4789  data_time: 0.0016  lr: 0.000090  max_mem: 3769M\n",
      "\u001b[32m[04/12 22:24:36 d2.utils.events]: \u001b[0m eta: 0:09:00  iter: 379  total_loss: 1.159  loss_cls: 0.348  loss_box_reg: 0.619  loss_mask: 0.254  loss_rpn_cls: 0.000  loss_rpn_loc: 0.017  time: 0.4782  data_time: 0.0017  lr: 0.000095  max_mem: 3769M\n",
      "\u001b[32m[04/12 22:24:45 d2.utils.events]: \u001b[0m eta: 0:08:50  iter: 399  total_loss: 1.550  loss_cls: 0.496  loss_box_reg: 0.658  loss_mask: 0.242  loss_rpn_cls: 0.000  loss_rpn_loc: 0.012  time: 0.4779  data_time: 0.0016  lr: 0.000100  max_mem: 3769M\n",
      "\u001b[32m[04/12 22:24:55 d2.utils.events]: \u001b[0m eta: 0:08:41  iter: 419  total_loss: 1.584  loss_cls: 0.495  loss_box_reg: 0.712  loss_mask: 0.294  loss_rpn_cls: 0.000  loss_rpn_loc: 0.018  time: 0.4781  data_time: 0.0017  lr: 0.000105  max_mem: 3769M\n",
      "\u001b[32m[04/12 22:25:05 d2.utils.events]: \u001b[0m eta: 0:08:32  iter: 439  total_loss: 1.005  loss_cls: 0.349  loss_box_reg: 0.425  loss_mask: 0.175  loss_rpn_cls: 0.000  loss_rpn_loc: 0.012  time: 0.4788  data_time: 0.0017  lr: 0.000110  max_mem: 3769M\n",
      "\u001b[32m[04/12 22:25:14 d2.utils.events]: \u001b[0m eta: 0:08:22  iter: 459  total_loss: 0.938  loss_cls: 0.336  loss_box_reg: 0.404  loss_mask: 0.172  loss_rpn_cls: 0.000  loss_rpn_loc: 0.014  time: 0.4788  data_time: 0.0016  lr: 0.000115  max_mem: 3769M\n",
      "\u001b[32m[04/12 22:25:24 d2.utils.events]: \u001b[0m eta: 0:08:12  iter: 479  total_loss: 0.991  loss_cls: 0.353  loss_box_reg: 0.425  loss_mask: 0.181  loss_rpn_cls: 0.000  loss_rpn_loc: 0.012  time: 0.4782  data_time: 0.0017  lr: 0.000120  max_mem: 3769M\n",
      "\u001b[32m[04/12 22:25:34 d2.utils.events]: \u001b[0m eta: 0:08:03  iter: 499  total_loss: 0.855  loss_cls: 0.368  loss_box_reg: 0.333  loss_mask: 0.155  loss_rpn_cls: 0.000  loss_rpn_loc: 0.012  time: 0.4789  data_time: 0.0016  lr: 0.000125  max_mem: 3769M\n",
      "\u001b[32m[04/12 22:25:44 d2.utils.events]: \u001b[0m eta: 0:07:53  iter: 519  total_loss: 0.840  loss_cls: 0.287  loss_box_reg: 0.368  loss_mask: 0.190  loss_rpn_cls: 0.000  loss_rpn_loc: 0.014  time: 0.4796  data_time: 0.0017  lr: 0.000130  max_mem: 3769M\n",
      "\u001b[32m[04/12 22:25:54 d2.utils.events]: \u001b[0m eta: 0:07:45  iter: 539  total_loss: 0.664  loss_cls: 0.257  loss_box_reg: 0.252  loss_mask: 0.145  loss_rpn_cls: 0.000  loss_rpn_loc: 0.014  time: 0.4799  data_time: 0.0019  lr: 0.000135  max_mem: 3769M\n",
      "\u001b[32m[04/12 22:26:03 d2.utils.events]: \u001b[0m eta: 0:07:35  iter: 559  total_loss: 0.862  loss_cls: 0.203  loss_box_reg: 0.305  loss_mask: 0.159  loss_rpn_cls: 0.000  loss_rpn_loc: 0.017  time: 0.4800  data_time: 0.0019  lr: 0.000140  max_mem: 3769M\n",
      "\u001b[32m[04/12 22:26:13 d2.utils.events]: \u001b[0m eta: 0:07:26  iter: 579  total_loss: 0.683  loss_cls: 0.229  loss_box_reg: 0.336  loss_mask: 0.114  loss_rpn_cls: 0.000  loss_rpn_loc: 0.010  time: 0.4795  data_time: 0.0016  lr: 0.000145  max_mem: 3769M\n",
      "\u001b[32m[04/12 22:26:22 d2.utils.events]: \u001b[0m eta: 0:07:16  iter: 599  total_loss: 0.871  loss_cls: 0.262  loss_box_reg: 0.351  loss_mask: 0.187  loss_rpn_cls: 0.000  loss_rpn_loc: 0.014  time: 0.4795  data_time: 0.0016  lr: 0.000150  max_mem: 3769M\n",
      "\u001b[32m[04/12 22:26:33 d2.utils.events]: \u001b[0m eta: 0:07:07  iter: 619  total_loss: 0.621  loss_cls: 0.210  loss_box_reg: 0.232  loss_mask: 0.109  loss_rpn_cls: 0.000  loss_rpn_loc: 0.019  time: 0.4805  data_time: 0.0017  lr: 0.000155  max_mem: 3769M\n",
      "\u001b[32m[04/12 22:26:43 d2.utils.events]: \u001b[0m eta: 0:06:58  iter: 639  total_loss: 0.632  loss_cls: 0.219  loss_box_reg: 0.237  loss_mask: 0.138  loss_rpn_cls: 0.000  loss_rpn_loc: 0.008  time: 0.4810  data_time: 0.0016  lr: 0.000160  max_mem: 3769M\n",
      "\u001b[32m[04/12 22:26:52 d2.utils.events]: \u001b[0m eta: 0:06:48  iter: 659  total_loss: 0.629  loss_cls: 0.194  loss_box_reg: 0.230  loss_mask: 0.119  loss_rpn_cls: 0.000  loss_rpn_loc: 0.013  time: 0.4809  data_time: 0.0019  lr: 0.000165  max_mem: 3769M\n",
      "\u001b[32m[04/12 22:27:02 d2.utils.events]: \u001b[0m eta: 0:06:39  iter: 679  total_loss: 0.581  loss_cls: 0.211  loss_box_reg: 0.228  loss_mask: 0.141  loss_rpn_cls: 0.000  loss_rpn_loc: 0.018  time: 0.4814  data_time: 0.0019  lr: 0.000170  max_mem: 3769M\n",
      "\u001b[32m[04/12 22:27:12 d2.utils.events]: \u001b[0m eta: 0:06:29  iter: 699  total_loss: 0.584  loss_cls: 0.189  loss_box_reg: 0.304  loss_mask: 0.113  loss_rpn_cls: 0.000  loss_rpn_loc: 0.013  time: 0.4816  data_time: 0.0020  lr: 0.000175  max_mem: 3769M\n",
      "\u001b[32m[04/12 22:27:22 d2.utils.events]: \u001b[0m eta: 0:06:20  iter: 719  total_loss: 0.481  loss_cls: 0.157  loss_box_reg: 0.211  loss_mask: 0.151  loss_rpn_cls: 0.000  loss_rpn_loc: 0.016  time: 0.4816  data_time: 0.0019  lr: 0.000180  max_mem: 3769M\n",
      "\u001b[32m[04/12 22:27:31 d2.utils.events]: \u001b[0m eta: 0:06:10  iter: 739  total_loss: 0.554  loss_cls: 0.187  loss_box_reg: 0.188  loss_mask: 0.132  loss_rpn_cls: 0.000  loss_rpn_loc: 0.010  time: 0.4812  data_time: 0.0017  lr: 0.000185  max_mem: 3769M\n",
      "\u001b[32m[04/12 22:27:41 d2.utils.events]: \u001b[0m eta: 0:06:00  iter: 759  total_loss: 0.429  loss_cls: 0.105  loss_box_reg: 0.217  loss_mask: 0.107  loss_rpn_cls: 0.000  loss_rpn_loc: 0.008  time: 0.4811  data_time: 0.0017  lr: 0.000190  max_mem: 3769M\n",
      "\u001b[32m[04/12 22:27:51 d2.utils.events]: \u001b[0m eta: 0:05:51  iter: 779  total_loss: 0.572  loss_cls: 0.182  loss_box_reg: 0.264  loss_mask: 0.124  loss_rpn_cls: 0.000  loss_rpn_loc: 0.012  time: 0.4816  data_time: 0.0017  lr: 0.000195  max_mem: 3769M\n",
      "\u001b[32m[04/12 22:28:00 d2.utils.events]: \u001b[0m eta: 0:05:41  iter: 799  total_loss: 0.446  loss_cls: 0.123  loss_box_reg: 0.162  loss_mask: 0.116  loss_rpn_cls: 0.000  loss_rpn_loc: 0.008  time: 0.4816  data_time: 0.0018  lr: 0.000200  max_mem: 3769M\n",
      "\u001b[32m[04/12 22:28:10 d2.utils.events]: \u001b[0m eta: 0:05:31  iter: 819  total_loss: 0.427  loss_cls: 0.094  loss_box_reg: 0.202  loss_mask: 0.123  loss_rpn_cls: 0.000  loss_rpn_loc: 0.012  time: 0.4818  data_time: 0.0018  lr: 0.000205  max_mem: 3769M\n",
      "\u001b[32m[04/12 22:28:20 d2.utils.events]: \u001b[0m eta: 0:05:21  iter: 839  total_loss: 0.489  loss_cls: 0.098  loss_box_reg: 0.242  loss_mask: 0.106  loss_rpn_cls: 0.000  loss_rpn_loc: 0.009  time: 0.4814  data_time: 0.0018  lr: 0.000210  max_mem: 3769M\n",
      "\u001b[32m[04/12 22:28:29 d2.utils.events]: \u001b[0m eta: 0:05:11  iter: 859  total_loss: 0.442  loss_cls: 0.126  loss_box_reg: 0.179  loss_mask: 0.099  loss_rpn_cls: 0.000  loss_rpn_loc: 0.008  time: 0.4810  data_time: 0.0019  lr: 0.000215  max_mem: 3769M\n",
      "\u001b[32m[04/12 22:28:39 d2.utils.events]: \u001b[0m eta: 0:05:02  iter: 879  total_loss: 0.388  loss_cls: 0.125  loss_box_reg: 0.139  loss_mask: 0.101  loss_rpn_cls: 0.000  loss_rpn_loc: 0.008  time: 0.4811  data_time: 0.0019  lr: 0.000220  max_mem: 3769M\n",
      "\u001b[32m[04/12 22:28:49 d2.utils.events]: \u001b[0m eta: 0:04:53  iter: 899  total_loss: 0.464  loss_cls: 0.117  loss_box_reg: 0.215  loss_mask: 0.101  loss_rpn_cls: 0.000  loss_rpn_loc: 0.012  time: 0.4818  data_time: 0.0018  lr: 0.000225  max_mem: 3769M\n",
      "\u001b[32m[04/12 22:28:59 d2.utils.events]: \u001b[0m eta: 0:04:43  iter: 919  total_loss: 0.516  loss_cls: 0.142  loss_box_reg: 0.259  loss_mask: 0.133  loss_rpn_cls: 0.000  loss_rpn_loc: 0.010  time: 0.4820  data_time: 0.0020  lr: 0.000230  max_mem: 3769M\n",
      "\u001b[32m[04/12 22:29:08 d2.utils.events]: \u001b[0m eta: 0:04:33  iter: 939  total_loss: 0.367  loss_cls: 0.081  loss_box_reg: 0.164  loss_mask: 0.096  loss_rpn_cls: 0.000  loss_rpn_loc: 0.009  time: 0.4816  data_time: 0.0019  lr: 0.000235  max_mem: 3769M\n",
      "\u001b[32m[04/12 22:29:18 d2.utils.events]: \u001b[0m eta: 0:04:23  iter: 959  total_loss: 0.413  loss_cls: 0.075  loss_box_reg: 0.197  loss_mask: 0.100  loss_rpn_cls: 0.000  loss_rpn_loc: 0.010  time: 0.4819  data_time: 0.0020  lr: 0.000240  max_mem: 3769M\n",
      "\u001b[32m[04/12 22:29:28 d2.utils.events]: \u001b[0m eta: 0:04:13  iter: 979  total_loss: 0.370  loss_cls: 0.094  loss_box_reg: 0.176  loss_mask: 0.089  loss_rpn_cls: 0.000  loss_rpn_loc: 0.009  time: 0.4816  data_time: 0.0020  lr: 0.000245  max_mem: 3769M\n",
      "\u001b[32m[04/12 22:29:37 d2.utils.events]: \u001b[0m eta: 0:04:03  iter: 999  total_loss: 0.395  loss_cls: 0.086  loss_box_reg: 0.209  loss_mask: 0.078  loss_rpn_cls: 0.000  loss_rpn_loc: 0.007  time: 0.4814  data_time: 0.0020  lr: 0.000250  max_mem: 3769M\n",
      "\u001b[32m[04/12 22:29:47 d2.utils.events]: \u001b[0m eta: 0:03:54  iter: 1019  total_loss: 0.385  loss_cls: 0.062  loss_box_reg: 0.181  loss_mask: 0.099  loss_rpn_cls: 0.000  loss_rpn_loc: 0.012  time: 0.4818  data_time: 0.0020  lr: 0.000250  max_mem: 3769M\n",
      "\u001b[32m[04/12 22:29:57 d2.utils.events]: \u001b[0m eta: 0:03:45  iter: 1039  total_loss: 0.318  loss_cls: 0.072  loss_box_reg: 0.161  loss_mask: 0.084  loss_rpn_cls: 0.000  loss_rpn_loc: 0.010  time: 0.4822  data_time: 0.0017  lr: 0.000250  max_mem: 3769M\n",
      "\u001b[32m[04/12 22:30:07 d2.utils.events]: \u001b[0m eta: 0:03:35  iter: 1059  total_loss: 0.295  loss_cls: 0.063  loss_box_reg: 0.132  loss_mask: 0.088  loss_rpn_cls: 0.000  loss_rpn_loc: 0.009  time: 0.4819  data_time: 0.0017  lr: 0.000250  max_mem: 3769M\n",
      "\u001b[32m[04/12 22:30:16 d2.utils.events]: \u001b[0m eta: 0:03:25  iter: 1079  total_loss: 0.362  loss_cls: 0.080  loss_box_reg: 0.172  loss_mask: 0.103  loss_rpn_cls: 0.000  loss_rpn_loc: 0.009  time: 0.4814  data_time: 0.0018  lr: 0.000250  max_mem: 3769M\n",
      "\u001b[32m[04/12 22:30:26 d2.utils.events]: \u001b[0m eta: 0:03:15  iter: 1099  total_loss: 0.284  loss_cls: 0.051  loss_box_reg: 0.161  loss_mask: 0.095  loss_rpn_cls: 0.000  loss_rpn_loc: 0.007  time: 0.4816  data_time: 0.0019  lr: 0.000250  max_mem: 3769M\n",
      "\u001b[32m[04/12 22:30:35 d2.utils.events]: \u001b[0m eta: 0:03:06  iter: 1119  total_loss: 0.336  loss_cls: 0.069  loss_box_reg: 0.178  loss_mask: 0.094  loss_rpn_cls: 0.000  loss_rpn_loc: 0.010  time: 0.4817  data_time: 0.0019  lr: 0.000250  max_mem: 3769M\n",
      "\u001b[32m[04/12 22:30:45 d2.utils.events]: \u001b[0m eta: 0:02:55  iter: 1139  total_loss: 0.310  loss_cls: 0.054  loss_box_reg: 0.141  loss_mask: 0.079  loss_rpn_cls: 0.000  loss_rpn_loc: 0.008  time: 0.4812  data_time: 0.0019  lr: 0.000250  max_mem: 3769M\n",
      "\u001b[32m[04/12 22:30:54 d2.utils.events]: \u001b[0m eta: 0:02:45  iter: 1159  total_loss: 0.357  loss_cls: 0.048  loss_box_reg: 0.179  loss_mask: 0.093  loss_rpn_cls: 0.000  loss_rpn_loc: 0.010  time: 0.4813  data_time: 0.0020  lr: 0.000250  max_mem: 3769M\n",
      "\u001b[32m[04/12 22:31:04 d2.utils.events]: \u001b[0m eta: 0:02:36  iter: 1179  total_loss: 0.284  loss_cls: 0.045  loss_box_reg: 0.129  loss_mask: 0.080  loss_rpn_cls: 0.000  loss_rpn_loc: 0.007  time: 0.4815  data_time: 0.0018  lr: 0.000250  max_mem: 3769M\n",
      "\u001b[32m[04/12 22:31:14 d2.utils.events]: \u001b[0m eta: 0:02:26  iter: 1199  total_loss: 0.354  loss_cls: 0.064  loss_box_reg: 0.203  loss_mask: 0.090  loss_rpn_cls: 0.000  loss_rpn_loc: 0.007  time: 0.4811  data_time: 0.0019  lr: 0.000250  max_mem: 3769M\n",
      "\u001b[32m[04/12 22:31:23 d2.utils.events]: \u001b[0m eta: 0:02:17  iter: 1219  total_loss: 0.290  loss_cls: 0.041  loss_box_reg: 0.138  loss_mask: 0.082  loss_rpn_cls: 0.000  loss_rpn_loc: 0.013  time: 0.4812  data_time: 0.0019  lr: 0.000250  max_mem: 3769M\n",
      "\u001b[32m[04/12 22:31:33 d2.utils.events]: \u001b[0m eta: 0:02:07  iter: 1239  total_loss: 0.281  loss_cls: 0.061  loss_box_reg: 0.151  loss_mask: 0.078  loss_rpn_cls: 0.000  loss_rpn_loc: 0.008  time: 0.4810  data_time: 0.0020  lr: 0.000250  max_mem: 3769M\n",
      "\u001b[32m[04/12 22:31:43 d2.utils.events]: \u001b[0m eta: 0:01:57  iter: 1259  total_loss: 0.230  loss_cls: 0.029  loss_box_reg: 0.084  loss_mask: 0.078  loss_rpn_cls: 0.000  loss_rpn_loc: 0.007  time: 0.4814  data_time: 0.0019  lr: 0.000250  max_mem: 3769M\n",
      "\u001b[32m[04/12 22:31:52 d2.utils.events]: \u001b[0m eta: 0:01:48  iter: 1279  total_loss: 0.260  loss_cls: 0.054  loss_box_reg: 0.123  loss_mask: 0.066  loss_rpn_cls: 0.000  loss_rpn_loc: 0.012  time: 0.4811  data_time: 0.0019  lr: 0.000250  max_mem: 3769M\n",
      "\u001b[32m[04/12 22:32:02 d2.utils.events]: \u001b[0m eta: 0:01:38  iter: 1299  total_loss: 0.281  loss_cls: 0.059  loss_box_reg: 0.147  loss_mask: 0.083  loss_rpn_cls: 0.000  loss_rpn_loc: 0.008  time: 0.4813  data_time: 0.0020  lr: 0.000250  max_mem: 3769M\n",
      "\u001b[32m[04/12 22:32:12 d2.utils.events]: \u001b[0m eta: 0:01:28  iter: 1319  total_loss: 0.275  loss_cls: 0.035  loss_box_reg: 0.131  loss_mask: 0.088  loss_rpn_cls: 0.000  loss_rpn_loc: 0.011  time: 0.4813  data_time: 0.0020  lr: 0.000250  max_mem: 3769M\n",
      "\u001b[32m[04/12 22:32:22 d2.utils.events]: \u001b[0m eta: 0:01:18  iter: 1339  total_loss: 0.324  loss_cls: 0.053  loss_box_reg: 0.174  loss_mask: 0.097  loss_rpn_cls: 0.000  loss_rpn_loc: 0.012  time: 0.4813  data_time: 0.0018  lr: 0.000250  max_mem: 3769M\n",
      "\u001b[32m[04/12 22:32:31 d2.utils.events]: \u001b[0m eta: 0:01:09  iter: 1359  total_loss: 0.263  loss_cls: 0.042  loss_box_reg: 0.144  loss_mask: 0.074  loss_rpn_cls: 0.000  loss_rpn_loc: 0.009  time: 0.4813  data_time: 0.0019  lr: 0.000250  max_mem: 3769M\n",
      "\u001b[32m[04/12 22:32:41 d2.utils.events]: \u001b[0m eta: 0:00:59  iter: 1379  total_loss: 0.273  loss_cls: 0.041  loss_box_reg: 0.141  loss_mask: 0.073  loss_rpn_cls: 0.000  loss_rpn_loc: 0.009  time: 0.4812  data_time: 0.0020  lr: 0.000250  max_mem: 3769M\n",
      "\u001b[32m[04/12 22:32:50 d2.utils.events]: \u001b[0m eta: 0:00:49  iter: 1399  total_loss: 0.233  loss_cls: 0.030  loss_box_reg: 0.119  loss_mask: 0.081  loss_rpn_cls: 0.000  loss_rpn_loc: 0.009  time: 0.4812  data_time: 0.0019  lr: 0.000250  max_mem: 3769M\n",
      "\u001b[32m[04/12 22:33:00 d2.utils.events]: \u001b[0m eta: 0:00:39  iter: 1419  total_loss: 0.281  loss_cls: 0.054  loss_box_reg: 0.143  loss_mask: 0.082  loss_rpn_cls: 0.000  loss_rpn_loc: 0.007  time: 0.4811  data_time: 0.0018  lr: 0.000250  max_mem: 3769M\n",
      "\u001b[32m[04/12 22:33:10 d2.utils.events]: \u001b[0m eta: 0:00:29  iter: 1439  total_loss: 0.231  loss_cls: 0.034  loss_box_reg: 0.123  loss_mask: 0.068  loss_rpn_cls: 0.000  loss_rpn_loc: 0.005  time: 0.4811  data_time: 0.0019  lr: 0.000250  max_mem: 3769M\n",
      "\u001b[32m[04/12 22:33:20 d2.utils.events]: \u001b[0m eta: 0:00:20  iter: 1459  total_loss: 0.260  loss_cls: 0.039  loss_box_reg: 0.154  loss_mask: 0.075  loss_rpn_cls: 0.000  loss_rpn_loc: 0.011  time: 0.4814  data_time: 0.0019  lr: 0.000250  max_mem: 3769M\n",
      "\u001b[32m[04/12 22:33:30 d2.utils.events]: \u001b[0m eta: 0:00:10  iter: 1479  total_loss: 0.273  loss_cls: 0.043  loss_box_reg: 0.157  loss_mask: 0.092  loss_rpn_cls: 0.000  loss_rpn_loc: 0.011  time: 0.4815  data_time: 0.0019  lr: 0.000250  max_mem: 3769M\n",
      "\u001b[32m[04/12 22:33:48 d2.utils.events]: \u001b[0m eta: 0:00:00  iter: 1499  total_loss: 0.277  loss_cls: 0.045  loss_box_reg: 0.144  loss_mask: 0.087  loss_rpn_cls: 0.000  loss_rpn_loc: 0.006  time: 0.4813  data_time: 0.0018  lr: 0.000250  max_mem: 3769M\n",
      "\u001b[32m[04/12 22:33:48 d2.engine.hooks]: \u001b[0mOverall training speed: 1497 iterations in 0:12:01 (0.4817 s / it)\n",
      "\u001b[32m[04/12 22:33:48 d2.engine.hooks]: \u001b[0mTotal training time: 0:12:13 (0:00:12 on hooks)\n"
     ]
    }
   ],
   "source": [
    "# DefaultTrainer はサンプルなので、ガチにやる人は自分で作るらしい・・・\n",
    "from detectron2.engine import DefaultTrainer\n",
    "\n",
    "# 出力先のディレクトリを作る\n",
    "os.makedirs(cfg.OUTPUT_DIR, exist_ok=True)\n",
    "\n",
    "trainer = DefaultTrainer(cfg) \n",
    "trainer.resume_or_load(resume=False) # True で途中から学習できるらしい\n",
    "trainer.train()"
   ]
  },
  {
   "cell_type": "code",
   "execution_count": null,
   "metadata": {},
   "outputs": [],
   "source": []
  }
 ],
 "metadata": {
  "kernelspec": {
   "display_name": "Python 3",
   "language": "python",
   "name": "python3"
  },
  "language_info": {
   "codemirror_mode": {
    "name": "ipython",
    "version": 3
   },
   "file_extension": ".py",
   "mimetype": "text/x-python",
   "name": "python",
   "nbconvert_exporter": "python",
   "pygments_lexer": "ipython3",
   "version": "3.7.4"
  }
 },
 "nbformat": 4,
 "nbformat_minor": 4
}
