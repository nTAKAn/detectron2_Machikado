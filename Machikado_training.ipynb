{
 "cells": [
  {
   "cell_type": "markdown",
   "metadata": {},
   "source": [
    "# detectron2 for まちカドまぞく ～訓練編～\n",
    "\n",
    "<img src=\"top1.jpg\">\n",
    "\n",
    "detectron2 で独自データセット学習する方法\n",
    "\n",
    "参考にしたホームページ: https://demura.net/deeplearning/16807.html"
   ]
  },
  {
   "cell_type": "code",
   "execution_count": 1,
   "metadata": {},
   "outputs": [],
   "source": [
    "import os\n",
    "import numpy as np\n",
    "import json\n",
    "import matplotlib.pyplot as plt\n",
    "import cv2\n",
    "import random"
   ]
  },
  {
   "cell_type": "markdown",
   "metadata": {},
   "source": [
    "---\n",
    "## 独自のデータセットを読み込んで、データセットを用意する\n",
    "\n",
    "基本的に元になっているデータ形式をゴリゴリ自分で読み込んで、detectron2 の形式に変換していく\n",
    "\n",
    "### VoTT Export 形式からの読み込み"
   ]
  },
  {
   "cell_type": "code",
   "execution_count": 2,
   "metadata": {},
   "outputs": [],
   "source": [
    "# VoTT のエクスポートファイルや、画像が格納されているディレクトリ\n",
    "BASE_DIRECTORY = './vott-json-export/'\n",
    "# VoTT のエクスポートファイル名\n",
    "EXPORT_FILENAME = 'Machikado-export.json'\n",
    "# 訓練データに使用する割合\n",
    "TRAIN_RATIO = 0.7\n",
    "# 乱数シード\n",
    "RANDOM_STATE = 0"
   ]
  },
  {
   "cell_type": "code",
   "execution_count": 3,
   "metadata": {},
   "outputs": [
    {
     "data": {
      "text/plain": [
       "OrderedDict([(0, 'Shamiko'),\n",
       "             (1, 'Gosenzo'),\n",
       "             (2, 'Lilith'),\n",
       "             (3, 'Momo'),\n",
       "             (4, 'Mikan'),\n",
       "             (5, 'Mob')])"
      ]
     },
     "execution_count": 3,
     "metadata": {},
     "output_type": "execute_result"
    }
   ],
   "source": [
    "from collections import OrderedDict\n",
    "\n",
    "# エクスポートファイルからカテゴリ名を調べる\n",
    "with open(BASE_DIRECTORY + EXPORT_FILENAME, 'r') as f:\n",
    "    json_data = json.load(f)\n",
    "    \n",
    "CAT_NAME2ID = OrderedDict()\n",
    "CAT_ID2NAME = OrderedDict()\n",
    "\n",
    "for i, node in enumerate(json_data['tags']):\n",
    "    CAT_NAME2ID[node['name']] = i\n",
    "    CAT_ID2NAME[i] = node['name']\n",
    "\n",
    "CAT_ID2NAME"
   ]
  },
  {
   "cell_type": "markdown",
   "metadata": {},
   "source": [
    "* 所定の形式の辞書のリストと返す引数の必要の無い関数を作れば良い"
   ]
  },
  {
   "cell_type": "code",
   "execution_count": 4,
   "metadata": {},
   "outputs": [],
   "source": [
    "from detectron2.structures import BoxMode\n",
    "\n",
    "# machikado用にアレンジした読み込み関数\n",
    "def get_machikado_dicts():\n",
    "    with open(BASE_DIRECTORY + EXPORT_FILENAME, 'r') as f:\n",
    "        json_data = json.load(f, object_pairs_hook=OrderedDict) # データ順を固定しておく\n",
    "    \n",
    "    assets = json_data['assets']\n",
    "\n",
    "    dataset_dicts = []\n",
    "    for item in assets.values():\n",
    "        asset = item['asset']\n",
    "        regions = item['regions']\n",
    "\n",
    "        if len(regions) == 0:\n",
    "            print('警告: name: {} - 領域データが空だったのでスキップ'.format(asset['name']))\n",
    "            continue\n",
    "\n",
    "        record = {}\n",
    "        record['file_name'] = BASE_DIRECTORY + asset['name']\n",
    "        record['height'] = asset['size']['height']\n",
    "        record['width'] = asset['size']['width']\n",
    "\n",
    "        objs = []\n",
    "        for region in regions:\n",
    "            points = region['points']\n",
    "            assert len(points), '座標データが無い！'\n",
    "\n",
    "            if len(region['tags']) > 1:\n",
    "                print('警告: name: {} - 複数のタグを確認！ tags: {}'.format(asset['name'], region['tags']))\n",
    "\n",
    "            poly = []\n",
    "            for pt in points:\n",
    "                poly += [pt['x'], pt['y']]\n",
    "\n",
    "            bbox = region['boundingBox']\n",
    "\n",
    "            obj = {\n",
    "                'bbox': [bbox['left'], bbox['top'], bbox['left'] + bbox['width'], bbox['top'] + bbox['height']],\n",
    "                'bbox_mode': BoxMode.XYWH_ABS, # XYWH_REL はまだサポートされていないらしい\n",
    "                'segmentation': [poly],\n",
    "                'category_id': CAT_NAME2ID[region['tags'][0]],\n",
    "                'iscrowd': 0\n",
    "            }\n",
    "            objs.append(obj)\n",
    "\n",
    "        record['annotations'] = objs\n",
    "        dataset_dicts.append(record)\n",
    "        \n",
    "    return dataset_dicts"
   ]
  },
  {
   "cell_type": "markdown",
   "metadata": {},
   "source": [
    "### DatasetCatalogを用意する\n",
    "\n",
    "初めから訓練、テストが分かれてれば良いが、一緒のフォルダでも分割後にラムダ式で指定すれば良い"
   ]
  },
  {
   "cell_type": "code",
   "execution_count": 5,
   "metadata": {},
   "outputs": [
    {
     "name": "stdout",
     "output_type": "stream",
     "text": [
      "警告: name: 53.jpg - 領域データが空だったのでスキップ\n",
      "警告: name: 52.jpg - 領域データが空だったのでスキップ\n",
      "警告: name: 51.jpg - 領域データが空だったのでスキップ\n",
      "警告: name: 50.jpg - 領域データが空だったのでスキップ\n",
      "警告: name: 49.jpg - 領域データが空だったのでスキップ\n",
      "警告: name: 48.jpg - 領域データが空だったのでスキップ\n"
     ]
    }
   ],
   "source": [
    "from detectron2.data import DatasetCatalog\n",
    "\n",
    "dataset_dicts = get_machikado_dicts()\n",
    "\n",
    "# 訓練用、テスト用に分ける\n",
    "random.seed(RANDOM_STATE)\n",
    "random.shuffle(dataset_dicts)\n",
    "\n",
    "split_idx = int(len(dataset_dicts) * TRAIN_RATIO) + 1\n",
    "\n",
    "# 登録\n",
    "DatasetCatalog.clear()\n",
    "DatasetCatalog.register('train', lambda : dataset_dicts[:split_idx])\n",
    "DatasetCatalog.register('test', lambda : dataset_dicts[split_idx:])\n",
    "\n",
    "test_dataset_dicts = dataset_dicts[:split_idx]"
   ]
  },
  {
   "cell_type": "markdown",
   "metadata": {},
   "source": [
    "---\n",
    "\n",
    "## 学習\n",
    "\n",
    "* engine/defaults.py 399 行目コメントアウトでウザイモデル表示をしないように出来る\n",
    "* モデルを変更したい場合は https://github.com/facebookresearch/detectron2/blob/master/MODEL_ZOO.md ここに色々あるので試すと良い\n",
    "* merge_from_file はきちんと推論の時も揃えないとダメ！！"
   ]
  },
  {
   "cell_type": "code",
   "execution_count": 6,
   "metadata": {},
   "outputs": [],
   "source": [
    "from detectron2.config import get_cfg\n",
    "\n",
    "cfg = get_cfg()\n",
    "cfg.OUTPUT_DIR = './output'\n",
    "cfg.CUDA = 'cuda:0'\n",
    "\n",
    "# cfg.merge_from_file(\"../configs/COCO-InstanceSegmentation/mask_rcnn_R_50_FPN_3x.yaml\")\n",
    "# cfg.MODEL.WEIGHTS = './coco_models/model_final_f10217.pkl'\n",
    "# cfg.SOLVER.IMS_PER_BATCH = 2\n",
    "\n",
    "# cfg.merge_from_file('../configs/COCO-InstanceSegmentation/mask_rcnn_R_101_FPN_3x.yaml')\n",
    "# cfg.MODEL.WEIGHTS = './coco_models/model_final_a2914c.pkl'\n",
    "# cfg.SOLVER.IMS_PER_BATCH = 2\n",
    "\n",
    "# 重いけど、これ精度良いです。\n",
    "cfg.merge_from_file('../configs/COCO-InstanceSegmentation/mask_rcnn_X_101_32x8d_FPN_3x.yaml')\n",
    "cfg.MODEL.WEIGHTS = './coco_models/model_final_2d9806.pkl'\n",
    "cfg.SOLVER.IMS_PER_BATCH = 1 # GTX2070 ではこれが限界\n",
    "\n",
    "cfg.DATASETS.TRAIN = ('train',)\n",
    "cfg.DATASETS.TEST = ()   # no metrics implemented for this dataset\n",
    "cfg.DATALOADER.NUM_WORKERS = 2\n",
    "cfg.SOLVER.BASE_LR = 0.00025\n",
    "cfg.SOLVER.MAX_ITER = 1500    # 300 iterations seems good enough, but you can certainly train longer <- とあるが、まあデータセットによるよね・・・\n",
    "cfg.MODEL.ROI_HEADS.BATCH_SIZE_PER_IMAGE = 128   # faster, and good enough for this toy dataset\n",
    "cfg.MODEL.ROI_HEADS.NUM_CLASSES = len(CAT_ID2NAME) "
   ]
  },
  {
   "cell_type": "code",
   "execution_count": 7,
   "metadata": {},
   "outputs": [
    {
     "name": "stdout",
     "output_type": "stream",
     "text": [
      "\u001b[32m[04/11 08:59:02 d2.data.build]: \u001b[0mRemoved 0 images with no usable annotations. 34 images left.\n",
      "\u001b[32m[04/11 08:59:02 d2.data.common]: \u001b[0mSerializing 34 elements to byte tensors and concatenating them all ...\n",
      "\u001b[32m[04/11 08:59:02 d2.data.common]: \u001b[0mSerialized dataset takes 0.07 MiB\n",
      "\u001b[32m[04/11 08:59:02 d2.data.detection_utils]: \u001b[0mTransformGens used in training: [ResizeShortestEdge(short_edge_length=(640, 672, 704, 736, 768, 800), max_size=1333, sample_style='choice'), RandomFlip()]\n",
      "\u001b[32m[04/11 08:59:02 d2.data.build]: \u001b[0mUsing training sampler TrainingSampler\n"
     ]
    },
    {
     "name": "stderr",
     "output_type": "stream",
     "text": [
      "'roi_heads.box_predictor.cls_score.weight' has shape (81, 1024) in the checkpoint but (7, 1024) in the model! Skipped.\n",
      "'roi_heads.box_predictor.cls_score.bias' has shape (81,) in the checkpoint but (7,) in the model! Skipped.\n",
      "'roi_heads.box_predictor.bbox_pred.weight' has shape (320, 1024) in the checkpoint but (24, 1024) in the model! Skipped.\n",
      "'roi_heads.box_predictor.bbox_pred.bias' has shape (320,) in the checkpoint but (24,) in the model! Skipped.\n",
      "'roi_heads.mask_head.predictor.weight' has shape (80, 256, 1, 1) in the checkpoint but (6, 256, 1, 1) in the model! Skipped.\n",
      "'roi_heads.mask_head.predictor.bias' has shape (80,) in the checkpoint but (6,) in the model! Skipped.\n"
     ]
    },
    {
     "name": "stdout",
     "output_type": "stream",
     "text": [
      "\u001b[32m[04/11 08:59:04 d2.engine.train_loop]: \u001b[0mStarting training from iteration 0\n",
      "\u001b[32m[04/11 08:59:13 d2.utils.events]: \u001b[0m eta: 0:12:03  iter: 19  total_loss: 3.413  loss_cls: 2.048  loss_box_reg: 0.658  loss_mask: 0.691  loss_rpn_cls: 0.007  loss_rpn_loc: 0.023  time: 0.4915  data_time: 0.0055  lr: 0.000005  max_mem: 3685M\n",
      "\u001b[32m[04/11 08:59:23 d2.utils.events]: \u001b[0m eta: 0:11:50  iter: 39  total_loss: 3.327  loss_cls: 1.888  loss_box_reg: 0.759  loss_mask: 0.691  loss_rpn_cls: 0.010  loss_rpn_loc: 0.026  time: 0.4847  data_time: 0.0018  lr: 0.000010  max_mem: 3685M\n",
      "\u001b[32m[04/11 08:59:33 d2.utils.events]: \u001b[0m eta: 0:11:45  iter: 59  total_loss: 2.779  loss_cls: 1.595  loss_box_reg: 0.435  loss_mask: 0.686  loss_rpn_cls: 0.003  loss_rpn_loc: 0.033  time: 0.4874  data_time: 0.0019  lr: 0.000015  max_mem: 3685M\n",
      "\u001b[32m[04/11 08:59:43 d2.utils.events]: \u001b[0m eta: 0:11:37  iter: 79  total_loss: 2.598  loss_cls: 1.203  loss_box_reg: 0.688  loss_mask: 0.683  loss_rpn_cls: 0.004  loss_rpn_loc: 0.024  time: 0.4882  data_time: 0.0019  lr: 0.000020  max_mem: 3685M\n",
      "\u001b[32m[04/11 08:59:53 d2.utils.events]: \u001b[0m eta: 0:11:36  iter: 99  total_loss: 2.151  loss_cls: 0.851  loss_box_reg: 0.609  loss_mask: 0.672  loss_rpn_cls: 0.003  loss_rpn_loc: 0.029  time: 0.4929  data_time: 0.0019  lr: 0.000025  max_mem: 3764M\n",
      "\u001b[32m[04/11 09:00:03 d2.utils.events]: \u001b[0m eta: 0:11:19  iter: 119  total_loss: 2.032  loss_cls: 0.641  loss_box_reg: 0.744  loss_mask: 0.658  loss_rpn_cls: 0.005  loss_rpn_loc: 0.021  time: 0.4892  data_time: 0.0019  lr: 0.000030  max_mem: 3764M\n",
      "\u001b[32m[04/11 09:00:13 d2.utils.events]: \u001b[0m eta: 0:11:11  iter: 139  total_loss: 1.749  loss_cls: 0.579  loss_box_reg: 0.530  loss_mask: 0.637  loss_rpn_cls: 0.006  loss_rpn_loc: 0.030  time: 0.4908  data_time: 0.0019  lr: 0.000035  max_mem: 3764M\n",
      "\u001b[32m[04/11 09:00:22 d2.utils.events]: \u001b[0m eta: 0:11:01  iter: 159  total_loss: 1.727  loss_cls: 0.432  loss_box_reg: 0.563  loss_mask: 0.621  loss_rpn_cls: 0.002  loss_rpn_loc: 0.029  time: 0.4887  data_time: 0.0020  lr: 0.000040  max_mem: 3764M\n",
      "\u001b[32m[04/11 09:00:32 d2.utils.events]: \u001b[0m eta: 0:10:54  iter: 179  total_loss: 1.719  loss_cls: 0.455  loss_box_reg: 0.649  loss_mask: 0.611  loss_rpn_cls: 0.002  loss_rpn_loc: 0.021  time: 0.4897  data_time: 0.0018  lr: 0.000045  max_mem: 3764M\n",
      "\u001b[32m[04/11 09:00:42 d2.utils.events]: \u001b[0m eta: 0:10:42  iter: 199  total_loss: 1.831  loss_cls: 0.505  loss_box_reg: 0.732  loss_mask: 0.622  loss_rpn_cls: 0.001  loss_rpn_loc: 0.022  time: 0.4884  data_time: 0.0018  lr: 0.000050  max_mem: 3764M\n",
      "\u001b[32m[04/11 09:00:52 d2.utils.events]: \u001b[0m eta: 0:10:35  iter: 219  total_loss: 2.016  loss_cls: 0.582  loss_box_reg: 0.820  loss_mask: 0.543  loss_rpn_cls: 0.002  loss_rpn_loc: 0.031  time: 0.4893  data_time: 0.0020  lr: 0.000055  max_mem: 3764M\n",
      "\u001b[32m[04/11 09:01:02 d2.utils.events]: \u001b[0m eta: 0:10:26  iter: 239  total_loss: 1.642  loss_cls: 0.424  loss_box_reg: 0.680  loss_mask: 0.507  loss_rpn_cls: 0.001  loss_rpn_loc: 0.015  time: 0.4897  data_time: 0.0020  lr: 0.000060  max_mem: 3764M\n",
      "\u001b[32m[04/11 09:01:11 d2.utils.events]: \u001b[0m eta: 0:10:16  iter: 259  total_loss: 1.133  loss_cls: 0.277  loss_box_reg: 0.375  loss_mask: 0.427  loss_rpn_cls: 0.001  loss_rpn_loc: 0.019  time: 0.4889  data_time: 0.0019  lr: 0.000065  max_mem: 3764M\n",
      "\u001b[32m[04/11 09:01:21 d2.utils.events]: \u001b[0m eta: 0:10:01  iter: 279  total_loss: 1.832  loss_cls: 0.527  loss_box_reg: 0.911  loss_mask: 0.520  loss_rpn_cls: 0.001  loss_rpn_loc: 0.019  time: 0.4879  data_time: 0.0019  lr: 0.000070  max_mem: 3764M\n",
      "\u001b[32m[04/11 09:01:31 d2.utils.events]: \u001b[0m eta: 0:09:50  iter: 299  total_loss: 1.550  loss_cls: 0.378  loss_box_reg: 0.662  loss_mask: 0.364  loss_rpn_cls: 0.001  loss_rpn_loc: 0.021  time: 0.4874  data_time: 0.0019  lr: 0.000075  max_mem: 3764M\n",
      "\u001b[32m[04/11 09:01:40 d2.utils.events]: \u001b[0m eta: 0:09:39  iter: 319  total_loss: 1.617  loss_cls: 0.441  loss_box_reg: 0.881  loss_mask: 0.356  loss_rpn_cls: 0.001  loss_rpn_loc: 0.017  time: 0.4872  data_time: 0.0019  lr: 0.000080  max_mem: 3764M\n",
      "\u001b[32m[04/11 09:01:50 d2.utils.events]: \u001b[0m eta: 0:09:29  iter: 339  total_loss: 1.348  loss_cls: 0.348  loss_box_reg: 0.548  loss_mask: 0.337  loss_rpn_cls: 0.000  loss_rpn_loc: 0.025  time: 0.4873  data_time: 0.0019  lr: 0.000085  max_mem: 3764M\n",
      "\u001b[32m[04/11 09:02:00 d2.utils.events]: \u001b[0m eta: 0:09:19  iter: 359  total_loss: 1.422  loss_cls: 0.321  loss_box_reg: 0.703  loss_mask: 0.312  loss_rpn_cls: 0.000  loss_rpn_loc: 0.029  time: 0.4877  data_time: 0.0019  lr: 0.000090  max_mem: 3764M\n",
      "\u001b[32m[04/11 09:02:10 d2.utils.events]: \u001b[0m eta: 0:09:09  iter: 379  total_loss: 1.337  loss_cls: 0.365  loss_box_reg: 0.755  loss_mask: 0.266  loss_rpn_cls: 0.001  loss_rpn_loc: 0.022  time: 0.4876  data_time: 0.0019  lr: 0.000095  max_mem: 3764M\n",
      "\u001b[32m[04/11 09:02:19 d2.utils.events]: \u001b[0m eta: 0:08:59  iter: 399  total_loss: 1.228  loss_cls: 0.359  loss_box_reg: 0.665  loss_mask: 0.218  loss_rpn_cls: 0.001  loss_rpn_loc: 0.017  time: 0.4869  data_time: 0.0019  lr: 0.000100  max_mem: 3764M\n",
      "\u001b[32m[04/11 09:02:29 d2.utils.events]: \u001b[0m eta: 0:08:49  iter: 419  total_loss: 1.530  loss_cls: 0.456  loss_box_reg: 0.724  loss_mask: 0.218  loss_rpn_cls: 0.000  loss_rpn_loc: 0.023  time: 0.4860  data_time: 0.0019  lr: 0.000105  max_mem: 3764M\n",
      "\u001b[32m[04/11 09:02:39 d2.utils.events]: \u001b[0m eta: 0:08:39  iter: 439  total_loss: 1.046  loss_cls: 0.292  loss_box_reg: 0.470  loss_mask: 0.209  loss_rpn_cls: 0.000  loss_rpn_loc: 0.031  time: 0.4865  data_time: 0.0019  lr: 0.000110  max_mem: 3764M\n",
      "\u001b[32m[04/11 09:02:48 d2.utils.events]: \u001b[0m eta: 0:08:29  iter: 459  total_loss: 1.133  loss_cls: 0.286  loss_box_reg: 0.609  loss_mask: 0.276  loss_rpn_cls: 0.000  loss_rpn_loc: 0.018  time: 0.4862  data_time: 0.0019  lr: 0.000115  max_mem: 3764M\n",
      "\u001b[32m[04/11 09:02:58 d2.utils.events]: \u001b[0m eta: 0:08:20  iter: 479  total_loss: 1.060  loss_cls: 0.319  loss_box_reg: 0.532  loss_mask: 0.204  loss_rpn_cls: 0.000  loss_rpn_loc: 0.018  time: 0.4864  data_time: 0.0019  lr: 0.000120  max_mem: 3764M\n",
      "\u001b[32m[04/11 09:03:08 d2.utils.events]: \u001b[0m eta: 0:08:10  iter: 499  total_loss: 0.847  loss_cls: 0.255  loss_box_reg: 0.380  loss_mask: 0.170  loss_rpn_cls: 0.000  loss_rpn_loc: 0.018  time: 0.4861  data_time: 0.0019  lr: 0.000125  max_mem: 3764M\n",
      "\u001b[32m[04/11 09:03:18 d2.utils.events]: \u001b[0m eta: 0:08:00  iter: 519  total_loss: 0.951  loss_cls: 0.261  loss_box_reg: 0.367  loss_mask: 0.188  loss_rpn_cls: 0.000  loss_rpn_loc: 0.032  time: 0.4865  data_time: 0.0019  lr: 0.000130  max_mem: 3764M\n",
      "\u001b[32m[04/11 09:03:28 d2.utils.events]: \u001b[0m eta: 0:07:51  iter: 539  total_loss: 0.995  loss_cls: 0.277  loss_box_reg: 0.478  loss_mask: 0.164  loss_rpn_cls: 0.001  loss_rpn_loc: 0.021  time: 0.4870  data_time: 0.0019  lr: 0.000135  max_mem: 3764M\n",
      "\u001b[32m[04/11 09:03:38 d2.utils.events]: \u001b[0m eta: 0:07:41  iter: 559  total_loss: 0.850  loss_cls: 0.245  loss_box_reg: 0.445  loss_mask: 0.130  loss_rpn_cls: 0.000  loss_rpn_loc: 0.025  time: 0.4872  data_time: 0.0021  lr: 0.000140  max_mem: 3764M\n",
      "\u001b[32m[04/11 09:03:48 d2.utils.events]: \u001b[0m eta: 0:07:31  iter: 579  total_loss: 0.944  loss_cls: 0.220  loss_box_reg: 0.424  loss_mask: 0.160  loss_rpn_cls: 0.000  loss_rpn_loc: 0.025  time: 0.4872  data_time: 0.0019  lr: 0.000145  max_mem: 3764M\n",
      "\u001b[32m[04/11 09:03:58 d2.utils.events]: \u001b[0m eta: 0:07:21  iter: 599  total_loss: 1.077  loss_cls: 0.290  loss_box_reg: 0.519  loss_mask: 0.156  loss_rpn_cls: 0.000  loss_rpn_loc: 0.022  time: 0.4874  data_time: 0.0019  lr: 0.000150  max_mem: 3764M\n",
      "\u001b[32m[04/11 09:04:07 d2.utils.events]: \u001b[0m eta: 0:07:12  iter: 619  total_loss: 0.672  loss_cls: 0.166  loss_box_reg: 0.370  loss_mask: 0.123  loss_rpn_cls: 0.000  loss_rpn_loc: 0.018  time: 0.4874  data_time: 0.0018  lr: 0.000155  max_mem: 3764M\n",
      "\u001b[32m[04/11 09:04:18 d2.utils.events]: \u001b[0m eta: 0:07:02  iter: 639  total_loss: 0.761  loss_cls: 0.233  loss_box_reg: 0.333  loss_mask: 0.126  loss_rpn_cls: 0.000  loss_rpn_loc: 0.016  time: 0.4879  data_time: 0.0019  lr: 0.000160  max_mem: 3764M\n",
      "\u001b[32m[04/11 09:04:27 d2.utils.events]: \u001b[0m eta: 0:06:52  iter: 659  total_loss: 0.713  loss_cls: 0.181  loss_box_reg: 0.351  loss_mask: 0.142  loss_rpn_cls: 0.000  loss_rpn_loc: 0.021  time: 0.4880  data_time: 0.0020  lr: 0.000165  max_mem: 3764M\n",
      "\u001b[32m[04/11 09:04:37 d2.utils.events]: \u001b[0m eta: 0:06:43  iter: 679  total_loss: 0.750  loss_cls: 0.169  loss_box_reg: 0.383  loss_mask: 0.119  loss_rpn_cls: 0.000  loss_rpn_loc: 0.028  time: 0.4881  data_time: 0.0020  lr: 0.000170  max_mem: 3764M\n",
      "\u001b[32m[04/11 09:04:47 d2.utils.events]: \u001b[0m eta: 0:06:33  iter: 699  total_loss: 0.524  loss_cls: 0.130  loss_box_reg: 0.262  loss_mask: 0.118  loss_rpn_cls: 0.000  loss_rpn_loc: 0.020  time: 0.4881  data_time: 0.0019  lr: 0.000175  max_mem: 3764M\n",
      "\u001b[32m[04/11 09:04:57 d2.utils.events]: \u001b[0m eta: 0:06:23  iter: 719  total_loss: 0.644  loss_cls: 0.188  loss_box_reg: 0.328  loss_mask: 0.125  loss_rpn_cls: 0.000  loss_rpn_loc: 0.014  time: 0.4877  data_time: 0.0019  lr: 0.000180  max_mem: 3764M\n",
      "\u001b[32m[04/11 09:05:06 d2.utils.events]: \u001b[0m eta: 0:06:13  iter: 739  total_loss: 0.743  loss_cls: 0.183  loss_box_reg: 0.360  loss_mask: 0.141  loss_rpn_cls: 0.000  loss_rpn_loc: 0.016  time: 0.4874  data_time: 0.0020  lr: 0.000185  max_mem: 3764M\n",
      "\u001b[32m[04/11 09:05:16 d2.utils.events]: \u001b[0m eta: 0:06:03  iter: 759  total_loss: 0.629  loss_cls: 0.149  loss_box_reg: 0.363  loss_mask: 0.103  loss_rpn_cls: 0.000  loss_rpn_loc: 0.020  time: 0.4876  data_time: 0.0019  lr: 0.000190  max_mem: 3764M\n",
      "\u001b[32m[04/11 09:05:26 d2.utils.events]: \u001b[0m eta: 0:05:53  iter: 779  total_loss: 0.606  loss_cls: 0.162  loss_box_reg: 0.300  loss_mask: 0.137  loss_rpn_cls: 0.000  loss_rpn_loc: 0.019  time: 0.4880  data_time: 0.0020  lr: 0.000195  max_mem: 3764M\n",
      "\u001b[32m[04/11 09:05:36 d2.utils.events]: \u001b[0m eta: 0:05:43  iter: 799  total_loss: 0.435  loss_cls: 0.103  loss_box_reg: 0.172  loss_mask: 0.104  loss_rpn_cls: 0.000  loss_rpn_loc: 0.024  time: 0.4879  data_time: 0.0019  lr: 0.000200  max_mem: 3764M\n",
      "\u001b[32m[04/11 09:05:46 d2.utils.events]: \u001b[0m eta: 0:05:33  iter: 819  total_loss: 0.629  loss_cls: 0.133  loss_box_reg: 0.321  loss_mask: 0.108  loss_rpn_cls: 0.000  loss_rpn_loc: 0.013  time: 0.4879  data_time: 0.0020  lr: 0.000205  max_mem: 3764M\n",
      "\u001b[32m[04/11 09:05:56 d2.utils.events]: \u001b[0m eta: 0:05:24  iter: 839  total_loss: 0.671  loss_cls: 0.121  loss_box_reg: 0.328  loss_mask: 0.125  loss_rpn_cls: 0.000  loss_rpn_loc: 0.031  time: 0.4881  data_time: 0.0019  lr: 0.000210  max_mem: 3764M\n",
      "\u001b[32m[04/11 09:06:06 d2.utils.events]: \u001b[0m eta: 0:05:14  iter: 859  total_loss: 0.411  loss_cls: 0.070  loss_box_reg: 0.189  loss_mask: 0.104  loss_rpn_cls: 0.000  loss_rpn_loc: 0.028  time: 0.4883  data_time: 0.0019  lr: 0.000215  max_mem: 3764M\n",
      "\u001b[32m[04/11 09:06:16 d2.utils.events]: \u001b[0m eta: 0:05:04  iter: 879  total_loss: 0.494  loss_cls: 0.092  loss_box_reg: 0.284  loss_mask: 0.106  loss_rpn_cls: 0.000  loss_rpn_loc: 0.016  time: 0.4884  data_time: 0.0020  lr: 0.000220  max_mem: 3764M\n",
      "\u001b[32m[04/11 09:06:25 d2.utils.events]: \u001b[0m eta: 0:04:54  iter: 899  total_loss: 0.567  loss_cls: 0.117  loss_box_reg: 0.312  loss_mask: 0.097  loss_rpn_cls: 0.000  loss_rpn_loc: 0.018  time: 0.4880  data_time: 0.0020  lr: 0.000225  max_mem: 3764M\n",
      "\u001b[32m[04/11 09:06:35 d2.utils.events]: \u001b[0m eta: 0:04:45  iter: 919  total_loss: 0.441  loss_cls: 0.084  loss_box_reg: 0.235  loss_mask: 0.104  loss_rpn_cls: 0.000  loss_rpn_loc: 0.018  time: 0.4884  data_time: 0.0018  lr: 0.000230  max_mem: 3764M\n",
      "\u001b[32m[04/11 09:06:46 d2.utils.events]: \u001b[0m eta: 0:04:35  iter: 939  total_loss: 0.358  loss_cls: 0.058  loss_box_reg: 0.125  loss_mask: 0.093  loss_rpn_cls: 0.000  loss_rpn_loc: 0.022  time: 0.4889  data_time: 0.0018  lr: 0.000235  max_mem: 3764M\n",
      "\u001b[32m[04/11 09:06:55 d2.utils.events]: \u001b[0m eta: 0:04:25  iter: 959  total_loss: 0.548  loss_cls: 0.118  loss_box_reg: 0.330  loss_mask: 0.108  loss_rpn_cls: 0.000  loss_rpn_loc: 0.015  time: 0.4886  data_time: 0.0019  lr: 0.000240  max_mem: 3764M\n",
      "\u001b[32m[04/11 09:07:05 d2.utils.events]: \u001b[0m eta: 0:04:15  iter: 979  total_loss: 0.356  loss_cls: 0.068  loss_box_reg: 0.171  loss_mask: 0.099  loss_rpn_cls: 0.000  loss_rpn_loc: 0.014  time: 0.4887  data_time: 0.0020  lr: 0.000245  max_mem: 3764M\n",
      "\u001b[32m[04/11 09:07:15 d2.utils.events]: \u001b[0m eta: 0:04:05  iter: 999  total_loss: 0.492  loss_cls: 0.100  loss_box_reg: 0.285  loss_mask: 0.085  loss_rpn_cls: 0.000  loss_rpn_loc: 0.009  time: 0.4885  data_time: 0.0020  lr: 0.000250  max_mem: 3764M\n",
      "\u001b[32m[04/11 09:07:25 d2.utils.events]: \u001b[0m eta: 0:03:55  iter: 1019  total_loss: 0.459  loss_cls: 0.079  loss_box_reg: 0.239  loss_mask: 0.094  loss_rpn_cls: 0.000  loss_rpn_loc: 0.023  time: 0.4886  data_time: 0.0020  lr: 0.000250  max_mem: 3764M\n",
      "\u001b[32m[04/11 09:07:34 d2.utils.events]: \u001b[0m eta: 0:03:46  iter: 1039  total_loss: 0.395  loss_cls: 0.070  loss_box_reg: 0.197  loss_mask: 0.088  loss_rpn_cls: 0.000  loss_rpn_loc: 0.008  time: 0.4882  data_time: 0.0020  lr: 0.000250  max_mem: 3764M\n",
      "\u001b[32m[04/11 09:07:44 d2.utils.events]: \u001b[0m eta: 0:03:36  iter: 1059  total_loss: 0.443  loss_cls: 0.071  loss_box_reg: 0.172  loss_mask: 0.103  loss_rpn_cls: 0.000  loss_rpn_loc: 0.018  time: 0.4883  data_time: 0.0020  lr: 0.000250  max_mem: 3764M\n",
      "\u001b[32m[04/11 09:07:54 d2.utils.events]: \u001b[0m eta: 0:03:26  iter: 1079  total_loss: 0.410  loss_cls: 0.068  loss_box_reg: 0.224  loss_mask: 0.083  loss_rpn_cls: 0.000  loss_rpn_loc: 0.012  time: 0.4882  data_time: 0.0019  lr: 0.000250  max_mem: 3764M\n",
      "\u001b[32m[04/11 09:08:04 d2.utils.events]: \u001b[0m eta: 0:03:16  iter: 1099  total_loss: 0.304  loss_cls: 0.057  loss_box_reg: 0.124  loss_mask: 0.084  loss_rpn_cls: 0.000  loss_rpn_loc: 0.027  time: 0.4889  data_time: 0.0020  lr: 0.000250  max_mem: 3764M\n",
      "\u001b[32m[04/11 09:08:14 d2.utils.events]: \u001b[0m eta: 0:03:06  iter: 1119  total_loss: 0.434  loss_cls: 0.076  loss_box_reg: 0.214  loss_mask: 0.084  loss_rpn_cls: 0.000  loss_rpn_loc: 0.012  time: 0.4888  data_time: 0.0020  lr: 0.000250  max_mem: 3764M\n",
      "\u001b[32m[04/11 09:08:24 d2.utils.events]: \u001b[0m eta: 0:02:57  iter: 1139  total_loss: 0.418  loss_cls: 0.047  loss_box_reg: 0.208  loss_mask: 0.083  loss_rpn_cls: 0.000  loss_rpn_loc: 0.018  time: 0.4892  data_time: 0.0020  lr: 0.000250  max_mem: 3764M\n",
      "\u001b[32m[04/11 09:08:34 d2.utils.events]: \u001b[0m eta: 0:02:47  iter: 1159  total_loss: 0.308  loss_cls: 0.040  loss_box_reg: 0.167  loss_mask: 0.078  loss_rpn_cls: 0.000  loss_rpn_loc: 0.012  time: 0.4891  data_time: 0.0020  lr: 0.000250  max_mem: 3764M\n",
      "\u001b[32m[04/11 09:08:44 d2.utils.events]: \u001b[0m eta: 0:02:37  iter: 1179  total_loss: 0.395  loss_cls: 0.048  loss_box_reg: 0.213  loss_mask: 0.069  loss_rpn_cls: 0.000  loss_rpn_loc: 0.016  time: 0.4890  data_time: 0.0020  lr: 0.000250  max_mem: 3764M\n",
      "\u001b[32m[04/11 09:08:54 d2.utils.events]: \u001b[0m eta: 0:02:27  iter: 1199  total_loss: 0.487  loss_cls: 0.083  loss_box_reg: 0.218  loss_mask: 0.110  loss_rpn_cls: 0.000  loss_rpn_loc: 0.024  time: 0.4890  data_time: 0.0020  lr: 0.000250  max_mem: 3764M\n",
      "\u001b[32m[04/11 09:09:04 d2.utils.events]: \u001b[0m eta: 0:02:17  iter: 1219  total_loss: 0.265  loss_cls: 0.054  loss_box_reg: 0.130  loss_mask: 0.069  loss_rpn_cls: 0.000  loss_rpn_loc: 0.016  time: 0.4890  data_time: 0.0020  lr: 0.000250  max_mem: 3764M\n",
      "\u001b[32m[04/11 09:09:13 d2.utils.events]: \u001b[0m eta: 0:02:07  iter: 1239  total_loss: 0.348  loss_cls: 0.050  loss_box_reg: 0.169  loss_mask: 0.084  loss_rpn_cls: 0.000  loss_rpn_loc: 0.017  time: 0.4886  data_time: 0.0020  lr: 0.000250  max_mem: 3764M\n",
      "\u001b[32m[04/11 09:09:23 d2.utils.events]: \u001b[0m eta: 0:01:57  iter: 1259  total_loss: 0.387  loss_cls: 0.060  loss_box_reg: 0.224  loss_mask: 0.076  loss_rpn_cls: 0.000  loss_rpn_loc: 0.011  time: 0.4890  data_time: 0.0020  lr: 0.000250  max_mem: 3764M\n",
      "\u001b[32m[04/11 09:09:33 d2.utils.events]: \u001b[0m eta: 0:01:48  iter: 1279  total_loss: 0.285  loss_cls: 0.040  loss_box_reg: 0.160  loss_mask: 0.076  loss_rpn_cls: 0.000  loss_rpn_loc: 0.016  time: 0.4892  data_time: 0.0019  lr: 0.000250  max_mem: 3764M\n",
      "\u001b[32m[04/11 09:09:43 d2.utils.events]: \u001b[0m eta: 0:01:38  iter: 1299  total_loss: 0.302  loss_cls: 0.053  loss_box_reg: 0.131  loss_mask: 0.079  loss_rpn_cls: 0.000  loss_rpn_loc: 0.009  time: 0.4890  data_time: 0.0019  lr: 0.000250  max_mem: 3764M\n",
      "\u001b[32m[04/11 09:09:53 d2.utils.events]: \u001b[0m eta: 0:01:28  iter: 1319  total_loss: 0.246  loss_cls: 0.025  loss_box_reg: 0.102  loss_mask: 0.069  loss_rpn_cls: 0.000  loss_rpn_loc: 0.017  time: 0.4894  data_time: 0.0020  lr: 0.000250  max_mem: 3764M\n",
      "\u001b[32m[04/11 09:10:02 d2.utils.events]: \u001b[0m eta: 0:01:18  iter: 1339  total_loss: 0.211  loss_cls: 0.027  loss_box_reg: 0.077  loss_mask: 0.074  loss_rpn_cls: 0.000  loss_rpn_loc: 0.007  time: 0.4890  data_time: 0.0020  lr: 0.000250  max_mem: 3764M\n",
      "\u001b[32m[04/11 09:10:13 d2.utils.events]: \u001b[0m eta: 0:01:09  iter: 1359  total_loss: 0.365  loss_cls: 0.057  loss_box_reg: 0.219  loss_mask: 0.079  loss_rpn_cls: 0.000  loss_rpn_loc: 0.015  time: 0.4893  data_time: 0.0020  lr: 0.000250  max_mem: 3764M\n",
      "\u001b[32m[04/11 09:10:23 d2.utils.events]: \u001b[0m eta: 0:00:59  iter: 1379  total_loss: 0.328  loss_cls: 0.053  loss_box_reg: 0.176  loss_mask: 0.072  loss_rpn_cls: 0.000  loss_rpn_loc: 0.014  time: 0.4893  data_time: 0.0018  lr: 0.000250  max_mem: 3764M\n",
      "\u001b[32m[04/11 09:10:32 d2.utils.events]: \u001b[0m eta: 0:00:49  iter: 1399  total_loss: 0.183  loss_cls: 0.027  loss_box_reg: 0.061  loss_mask: 0.073  loss_rpn_cls: 0.000  loss_rpn_loc: 0.022  time: 0.4893  data_time: 0.0019  lr: 0.000250  max_mem: 3764M\n",
      "\u001b[32m[04/11 09:10:43 d2.utils.events]: \u001b[0m eta: 0:00:39  iter: 1419  total_loss: 0.317  loss_cls: 0.046  loss_box_reg: 0.175  loss_mask: 0.071  loss_rpn_cls: 0.000  loss_rpn_loc: 0.011  time: 0.4895  data_time: 0.0018  lr: 0.000250  max_mem: 3764M\n",
      "\u001b[32m[04/11 09:10:52 d2.utils.events]: \u001b[0m eta: 0:00:30  iter: 1439  total_loss: 0.261  loss_cls: 0.031  loss_box_reg: 0.128  loss_mask: 0.066  loss_rpn_cls: 0.000  loss_rpn_loc: 0.014  time: 0.4896  data_time: 0.0016  lr: 0.000250  max_mem: 3764M\n",
      "\u001b[32m[04/11 09:11:02 d2.utils.events]: \u001b[0m eta: 0:00:20  iter: 1459  total_loss: 0.325  loss_cls: 0.040  loss_box_reg: 0.164  loss_mask: 0.072  loss_rpn_cls: 0.000  loss_rpn_loc: 0.010  time: 0.4894  data_time: 0.0017  lr: 0.000250  max_mem: 3764M\n",
      "\u001b[32m[04/11 09:11:12 d2.utils.events]: \u001b[0m eta: 0:00:10  iter: 1479  total_loss: 0.313  loss_cls: 0.031  loss_box_reg: 0.169  loss_mask: 0.071  loss_rpn_cls: 0.000  loss_rpn_loc: 0.009  time: 0.4893  data_time: 0.0019  lr: 0.000250  max_mem: 3764M\n",
      "\u001b[32m[04/11 09:11:22 d2.utils.events]: \u001b[0m eta: 0:00:00  iter: 1499  total_loss: 0.284  loss_cls: 0.055  loss_box_reg: 0.136  loss_mask: 0.073  loss_rpn_cls: 0.000  loss_rpn_loc: 0.012  time: 0.4892  data_time: 0.0020  lr: 0.000250  max_mem: 3764M\n",
      "\u001b[32m[04/11 09:11:22 d2.engine.hooks]: \u001b[0mOverall training speed: 1497 iterations in 0:12:12 (0.4896 s / it)\n",
      "\u001b[32m[04/11 09:11:22 d2.engine.hooks]: \u001b[0mTotal training time: 0:12:17 (0:00:04 on hooks)\n"
     ]
    }
   ],
   "source": [
    "# DefaultTrainer はサンプルなので、ガチにやる人は自分で作るらしい・・・\n",
    "from detectron2.engine import DefaultTrainer\n",
    "\n",
    "# 出力先のディレクトリを作る\n",
    "os.makedirs(cfg.OUTPUT_DIR, exist_ok=True)\n",
    "\n",
    "trainer = DefaultTrainer(cfg) \n",
    "trainer.resume_or_load(resume=False) # True で途中から学習できるらしい\n",
    "trainer.train()"
   ]
  },
  {
   "cell_type": "code",
   "execution_count": null,
   "metadata": {},
   "outputs": [],
   "source": []
  }
 ],
 "metadata": {
  "kernelspec": {
   "display_name": "Python 3",
   "language": "python",
   "name": "python3"
  },
  "language_info": {
   "codemirror_mode": {
    "name": "ipython",
    "version": 3
   },
   "file_extension": ".py",
   "mimetype": "text/x-python",
   "name": "python",
   "nbconvert_exporter": "python",
   "pygments_lexer": "ipython3",
   "version": "3.7.4"
  }
 },
 "nbformat": 4,
 "nbformat_minor": 4
}
