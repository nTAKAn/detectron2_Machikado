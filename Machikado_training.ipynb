{
 "cells": [
  {
   "cell_type": "markdown",
   "metadata": {},
   "source": [
    "# detectron2 for まちカドまぞく ～訓練編～\n",
    "\n",
    "<img src=\"https://user-images.githubusercontent.com/33882378/79055210-2ff0e600-7c86-11ea-93c6-8a65112f80f0.jpg\">\n",
    "\n",
    "detectron2 で独自データセット学習する方法\n",
    "\n",
    "参考にしたホームページ: https://demura.net/deeplearning/16807.html"
   ]
  },
  {
   "cell_type": "code",
   "execution_count": 1,
   "metadata": {},
   "outputs": [],
   "source": [
    "import os\n",
    "import numpy as np\n",
    "import json\n",
    "import matplotlib.pyplot as plt\n",
    "import cv2\n",
    "import random"
   ]
  },
  {
   "cell_type": "markdown",
   "metadata": {},
   "source": [
    "---\n",
    "## 独自のデータセットを読み込んで、データセットを用意する\n",
    "\n",
    "基本的に元になっているデータ形式をゴリゴリ自分で読み込んで、detectron2 の形式に変換していく\n",
    "\n",
    "### VoTT Export 形式からの読み込み"
   ]
  },
  {
   "cell_type": "code",
   "execution_count": 2,
   "metadata": {},
   "outputs": [],
   "source": [
    "# VoTT のエクスポートファイルや、画像が格納されているディレクトリ\n",
    "BASE_DIRECTORY = './vott-json-export/'\n",
    "# VoTT のエクスポートファイル名\n",
    "EXPORT_FILENAME = 'Machikado-export.json'\n",
    "# 訓練データに使用する割合\n",
    "TRAIN_RATIO = 0.7\n",
    "# 乱数シード\n",
    "RANDOM_STATE = 0"
   ]
  },
  {
   "cell_type": "markdown",
   "metadata": {},
   "source": [
    "* vott の場合は \"tags\" 格納されているカテゴリ名が格納されているのでそれを読み出せば良い"
   ]
  },
  {
   "cell_type": "code",
   "execution_count": 3,
   "metadata": {},
   "outputs": [
    {
     "data": {
      "text/plain": [
       "OrderedDict([(0, 'Shamiko'),\n",
       "             (1, 'Gosenzo'),\n",
       "             (2, 'Lilith'),\n",
       "             (3, 'Momo'),\n",
       "             (4, 'Mikan'),\n",
       "             (5, 'Mob')])"
      ]
     },
     "execution_count": 3,
     "metadata": {},
     "output_type": "execute_result"
    }
   ],
   "source": [
    "from collections import OrderedDict\n",
    "\n",
    "# エクスポートファイルからカテゴリ名を調べる\n",
    "with open(BASE_DIRECTORY + EXPORT_FILENAME, 'r') as f:\n",
    "    json_data = json.load(f)\n",
    "    \n",
    "CAT_NAME2ID = OrderedDict()\n",
    "CAT_ID2NAME = OrderedDict()\n",
    "\n",
    "for i, node in enumerate(json_data['tags']):\n",
    "    CAT_NAME2ID[node['name']] = i\n",
    "    CAT_ID2NAME[i] = node['name']\n",
    "\n",
    "CAT_ID2NAME"
   ]
  },
  {
   "cell_type": "markdown",
   "metadata": {},
   "source": [
    "* 所定の形式の辞書のリストと返す引数の無い関数を作れば良い\n",
    "* vott のアノテーションデータは \"assets\" に全て格納されているので、\"assets\" をゴリゴリ読み込んでいく。\n",
    "* マスクに必要な座標データは、\"regions\" に格納されている。\"regions\" は複数の領域データを含んでいる可能性があるので全て列挙する。\n",
    "領域データがない場合もあるのでそれも処理しておく。（VoTT で閲覧のみで、アノテーションされていないデータは領域データが無い）\n",
    "* 領域データの \"tags\" にカテゴリ名が格納されているので、１つ前のセルで読み込んだタグ情報(CAT_NAME2ID)を使用して整数のIDを振っていく。\n",
    "（tags は複数のカテゴリ名が格納されている可能性がある。VoTT で複数のタグをチェック出来るので注意）"
   ]
  },
  {
   "cell_type": "code",
   "execution_count": 4,
   "metadata": {},
   "outputs": [],
   "source": [
    "from detectron2.structures import BoxMode\n",
    "\n",
    "# machikado用にアレンジした読み込み関数\n",
    "def get_machikado_dicts():\n",
    "    with open(BASE_DIRECTORY + EXPORT_FILENAME, 'r') as f:\n",
    "        json_data = json.load(f, object_pairs_hook=OrderedDict) # データ順を固定しておく\n",
    "    \n",
    "    assets = json_data['assets']\n",
    "\n",
    "    dataset_dicts = []\n",
    "    for item in assets.values():\n",
    "        asset = item['asset']\n",
    "        regions = item['regions']\n",
    "\n",
    "        if len(regions) == 0:\n",
    "            print('警告: name: {} - 領域データが空だったのでスキップ'.format(asset['name']))\n",
    "            continue\n",
    "\n",
    "        record = {}\n",
    "        record['file_name'] = BASE_DIRECTORY + asset['name']\n",
    "        record['height'] = asset['size']['height']\n",
    "        record['width'] = asset['size']['width']\n",
    "\n",
    "        objs = []\n",
    "        for region in regions:\n",
    "            points = region['points']\n",
    "            assert len(points), '座標データが無い！'\n",
    "\n",
    "            if len(region['tags']) > 1:\n",
    "                print('警告: name: {} - 複数のタグを確認！ tags: {}'.format(asset['name'], region['tags']))\n",
    "\n",
    "            poly = []\n",
    "            for pt in points:\n",
    "                poly += [pt['x'], pt['y']]\n",
    "\n",
    "            bbox = region['boundingBox']\n",
    "\n",
    "            obj = {\n",
    "                'bbox': [bbox['left'], bbox['top'], bbox['left'] + bbox['width'], bbox['top'] + bbox['height']],\n",
    "                'bbox_mode': BoxMode.XYWH_ABS, # XYWH_REL はまだサポートされていないらしい\n",
    "                'segmentation': [poly],\n",
    "                'category_id': CAT_NAME2ID[region['tags'][0]],\n",
    "                'iscrowd': 0\n",
    "            }\n",
    "            objs.append(obj)\n",
    "\n",
    "        record['annotations'] = objs\n",
    "        dataset_dicts.append(record)\n",
    "        \n",
    "    return dataset_dicts"
   ]
  },
  {
   "cell_type": "markdown",
   "metadata": {},
   "source": [
    "### DatasetCatalogを用意する\n",
    "\n",
    "* 初めから訓練、テストが分かれてれば良いが、一緒のフォルダでも分割後にラムダ式で指定すれば良い"
   ]
  },
  {
   "cell_type": "code",
   "execution_count": 5,
   "metadata": {},
   "outputs": [
    {
     "name": "stdout",
     "output_type": "stream",
     "text": [
      "警告: name: 53.jpg - 領域データが空だったのでスキップ\n",
      "警告: name: 52.jpg - 領域データが空だったのでスキップ\n",
      "警告: name: 51.jpg - 領域データが空だったのでスキップ\n",
      "警告: name: 50.jpg - 領域データが空だったのでスキップ\n",
      "警告: name: 49.jpg - 領域データが空だったのでスキップ\n",
      "警告: name: 48.jpg - 領域データが空だったのでスキップ\n"
     ]
    }
   ],
   "source": [
    "from detectron2.data import DatasetCatalog\n",
    "\n",
    "dataset_dicts = get_machikado_dicts()\n",
    "\n",
    "# 訓練用、テスト用に分ける\n",
    "random.seed(RANDOM_STATE)\n",
    "random.shuffle(dataset_dicts)\n",
    "\n",
    "split_idx = int(len(dataset_dicts) * TRAIN_RATIO) + 1\n",
    "\n",
    "# 登録\n",
    "DatasetCatalog.clear()\n",
    "DatasetCatalog.register('train', lambda : dataset_dicts[:split_idx])\n",
    "DatasetCatalog.register('test', lambda : dataset_dicts[split_idx:])"
   ]
  },
  {
   "cell_type": "markdown",
   "metadata": {},
   "source": [
    "---\n",
    "\n",
    "## 学習\n",
    "\n",
    "* engine/defaults.py 399 行目コメントアウトでウザイ モデル表示をしないように出来る\n",
    "* モデルを変更したい場合は https://github.com/facebookresearch/detectron2/blob/master/MODEL_ZOO.md ここに色々あるので試すと良い\n",
    "* ```cfg.MODEL.WEIGHTS = ``` の部分は使用したい重みファイルに変える。(ダウンロードしてきた重みファイルへのパスを設定する)\n",
    "* merge_from_file はきちんと推論の時も揃えないとダメ！！"
   ]
  },
  {
   "cell_type": "code",
   "execution_count": 6,
   "metadata": {},
   "outputs": [],
   "source": [
    "from detectron2.config import get_cfg\n",
    "\n",
    "cfg = get_cfg()\n",
    "cfg.OUTPUT_DIR = './output'\n",
    "cfg.CUDA = 'cuda:0'\n",
    "\n",
    "# cfg.merge_from_file(\"../configs/COCO-InstanceSegmentation/mask_rcnn_R_50_FPN_3x.yaml\")\n",
    "# cfg.MODEL.WEIGHTS = './coco_models/model_final_f10217.pkl'\n",
    "# cfg.SOLVER.IMS_PER_BATCH = 2\n",
    "\n",
    "# 重いけど、これ精度良いです。\n",
    "cfg.merge_from_file('../configs/COCO-InstanceSegmentation/mask_rcnn_X_101_32x8d_FPN_3x.yaml')\n",
    "cfg.MODEL.WEIGHTS = './coco_models/model_final_2d9806.pkl'\n",
    "cfg.SOLVER.IMS_PER_BATCH = 1 # GTX2070 ではこれが限界\n",
    "\n",
    "cfg.DATASETS.TRAIN = ('train',)\n",
    "cfg.DATASETS.TEST = ()   # no metrics implemented for this dataset\n",
    "cfg.DATALOADER.NUM_WORKERS = 2\n",
    "cfg.SOLVER.BASE_LR = 0.00025\n",
    "cfg.SOLVER.MAX_ITER = 1500    # 300 iterations seems good enough, but you can certainly train longer <- とあるが、まあデータセットによるよね・・・\n",
    "cfg.MODEL.ROI_HEADS.BATCH_SIZE_PER_IMAGE = 128   # faster, and good enough for this toy dataset\n",
    "cfg.MODEL.ROI_HEADS.NUM_CLASSES = len(CAT_ID2NAME) "
   ]
  },
  {
   "cell_type": "code",
   "execution_count": 7,
   "metadata": {},
   "outputs": [
    {
     "name": "stdout",
     "output_type": "stream",
     "text": [
      "\u001b[32m[04/11 20:59:30 d2.data.build]: \u001b[0mRemoved 0 images with no usable annotations. 34 images left.\n",
      "\u001b[32m[04/11 20:59:30 d2.data.common]: \u001b[0mSerializing 34 elements to byte tensors and concatenating them all ...\n",
      "\u001b[32m[04/11 20:59:30 d2.data.common]: \u001b[0mSerialized dataset takes 0.07 MiB\n",
      "\u001b[32m[04/11 20:59:30 d2.data.detection_utils]: \u001b[0mTransformGens used in training: [ResizeShortestEdge(short_edge_length=(640, 672, 704, 736, 768, 800), max_size=1333, sample_style='choice'), RandomFlip()]\n",
      "\u001b[32m[04/11 20:59:30 d2.data.build]: \u001b[0mUsing training sampler TrainingSampler\n"
     ]
    },
    {
     "name": "stderr",
     "output_type": "stream",
     "text": [
      "'roi_heads.box_predictor.cls_score.weight' has shape (81, 1024) in the checkpoint but (7, 1024) in the model! Skipped.\n",
      "'roi_heads.box_predictor.cls_score.bias' has shape (81,) in the checkpoint but (7,) in the model! Skipped.\n",
      "'roi_heads.box_predictor.bbox_pred.weight' has shape (320, 1024) in the checkpoint but (24, 1024) in the model! Skipped.\n",
      "'roi_heads.box_predictor.bbox_pred.bias' has shape (320,) in the checkpoint but (24,) in the model! Skipped.\n",
      "'roi_heads.mask_head.predictor.weight' has shape (80, 256, 1, 1) in the checkpoint but (6, 256, 1, 1) in the model! Skipped.\n",
      "'roi_heads.mask_head.predictor.bias' has shape (80,) in the checkpoint but (6,) in the model! Skipped.\n"
     ]
    },
    {
     "name": "stdout",
     "output_type": "stream",
     "text": [
      "\u001b[32m[04/11 20:59:31 d2.engine.train_loop]: \u001b[0mStarting training from iteration 0\n",
      "\u001b[32m[04/11 20:59:39 d2.utils.events]: \u001b[0m eta: 0:08:37  iter: 19  total_loss: 3.169  loss_cls: 1.920  loss_box_reg: 0.551  loss_mask: 0.691  loss_rpn_cls: 0.009  loss_rpn_loc: 0.031  time: 0.3509  data_time: 0.0131  lr: 0.000005  max_mem: 2767M\n",
      "\u001b[32m[04/11 20:59:46 d2.utils.events]: \u001b[0m eta: 0:08:34  iter: 39  total_loss: 3.157  loss_cls: 1.779  loss_box_reg: 0.594  loss_mask: 0.690  loss_rpn_cls: 0.010  loss_rpn_loc: 0.048  time: 0.3496  data_time: 0.0042  lr: 0.000010  max_mem: 2767M\n",
      "\u001b[32m[04/11 20:59:53 d2.utils.events]: \u001b[0m eta: 0:08:34  iter: 59  total_loss: 2.880  loss_cls: 1.508  loss_box_reg: 0.652  loss_mask: 0.687  loss_rpn_cls: 0.007  loss_rpn_loc: 0.025  time: 0.3519  data_time: 0.0041  lr: 0.000015  max_mem: 2767M\n",
      "\u001b[32m[04/11 21:00:00 d2.utils.events]: \u001b[0m eta: 0:08:22  iter: 79  total_loss: 2.597  loss_cls: 1.200  loss_box_reg: 0.647  loss_mask: 0.683  loss_rpn_cls: 0.009  loss_rpn_loc: 0.045  time: 0.3507  data_time: 0.0044  lr: 0.000020  max_mem: 2767M\n",
      "\u001b[32m[04/11 21:00:07 d2.utils.events]: \u001b[0m eta: 0:08:10  iter: 99  total_loss: 2.133  loss_cls: 0.872  loss_box_reg: 0.577  loss_mask: 0.678  loss_rpn_cls: 0.007  loss_rpn_loc: 0.029  time: 0.3491  data_time: 0.0043  lr: 0.000025  max_mem: 2767M\n",
      "\u001b[32m[04/11 21:00:14 d2.utils.events]: \u001b[0m eta: 0:08:04  iter: 119  total_loss: 2.068  loss_cls: 0.708  loss_box_reg: 0.661  loss_mask: 0.673  loss_rpn_cls: 0.006  loss_rpn_loc: 0.030  time: 0.3494  data_time: 0.0043  lr: 0.000030  max_mem: 2767M\n",
      "\u001b[32m[04/11 21:00:20 d2.utils.events]: \u001b[0m eta: 0:07:56  iter: 139  total_loss: 1.954  loss_cls: 0.614  loss_box_reg: 0.632  loss_mask: 0.657  loss_rpn_cls: 0.005  loss_rpn_loc: 0.031  time: 0.3475  data_time: 0.0043  lr: 0.000035  max_mem: 2767M\n",
      "\u001b[32m[04/11 21:00:27 d2.utils.events]: \u001b[0m eta: 0:07:48  iter: 159  total_loss: 1.868  loss_cls: 0.569  loss_box_reg: 0.620  loss_mask: 0.650  loss_rpn_cls: 0.005  loss_rpn_loc: 0.025  time: 0.3463  data_time: 0.0043  lr: 0.000040  max_mem: 2767M\n",
      "\u001b[32m[04/11 21:00:34 d2.utils.events]: \u001b[0m eta: 0:07:39  iter: 179  total_loss: 1.887  loss_cls: 0.569  loss_box_reg: 0.637  loss_mask: 0.638  loss_rpn_cls: 0.004  loss_rpn_loc: 0.028  time: 0.3446  data_time: 0.0042  lr: 0.000045  max_mem: 2767M\n",
      "\u001b[32m[04/11 21:00:41 d2.utils.events]: \u001b[0m eta: 0:07:33  iter: 199  total_loss: 1.655  loss_cls: 0.452  loss_box_reg: 0.528  loss_mask: 0.625  loss_rpn_cls: 0.004  loss_rpn_loc: 0.036  time: 0.3445  data_time: 0.0044  lr: 0.000050  max_mem: 2767M\n",
      "\u001b[32m[04/11 21:00:48 d2.utils.events]: \u001b[0m eta: 0:07:26  iter: 219  total_loss: 1.716  loss_cls: 0.494  loss_box_reg: 0.583  loss_mask: 0.607  loss_rpn_cls: 0.003  loss_rpn_loc: 0.029  time: 0.3445  data_time: 0.0041  lr: 0.000055  max_mem: 2767M\n",
      "\u001b[32m[04/11 21:00:55 d2.utils.events]: \u001b[0m eta: 0:07:20  iter: 239  total_loss: 1.655  loss_cls: 0.452  loss_box_reg: 0.603  loss_mask: 0.593  loss_rpn_cls: 0.004  loss_rpn_loc: 0.034  time: 0.3455  data_time: 0.0042  lr: 0.000060  max_mem: 2767M\n",
      "\u001b[32m[04/11 21:01:02 d2.utils.events]: \u001b[0m eta: 0:07:14  iter: 259  total_loss: 1.652  loss_cls: 0.462  loss_box_reg: 0.604  loss_mask: 0.563  loss_rpn_cls: 0.005  loss_rpn_loc: 0.033  time: 0.3459  data_time: 0.0043  lr: 0.000065  max_mem: 2767M\n",
      "\u001b[32m[04/11 21:01:09 d2.utils.events]: \u001b[0m eta: 0:07:07  iter: 279  total_loss: 1.586  loss_cls: 0.418  loss_box_reg: 0.576  loss_mask: 0.564  loss_rpn_cls: 0.004  loss_rpn_loc: 0.024  time: 0.3460  data_time: 0.0042  lr: 0.000070  max_mem: 2767M\n",
      "\u001b[32m[04/11 21:01:16 d2.utils.events]: \u001b[0m eta: 0:07:00  iter: 299  total_loss: 1.558  loss_cls: 0.402  loss_box_reg: 0.591  loss_mask: 0.522  loss_rpn_cls: 0.003  loss_rpn_loc: 0.028  time: 0.3459  data_time: 0.0046  lr: 0.000075  max_mem: 2767M\n",
      "\u001b[32m[04/11 21:01:23 d2.utils.events]: \u001b[0m eta: 0:06:53  iter: 319  total_loss: 1.552  loss_cls: 0.425  loss_box_reg: 0.601  loss_mask: 0.471  loss_rpn_cls: 0.002  loss_rpn_loc: 0.039  time: 0.3461  data_time: 0.0044  lr: 0.000080  max_mem: 2767M\n",
      "\u001b[32m[04/11 21:01:30 d2.utils.events]: \u001b[0m eta: 0:06:46  iter: 339  total_loss: 1.428  loss_cls: 0.373  loss_box_reg: 0.585  loss_mask: 0.457  loss_rpn_cls: 0.003  loss_rpn_loc: 0.035  time: 0.3464  data_time: 0.0045  lr: 0.000085  max_mem: 2767M\n",
      "\u001b[32m[04/11 21:01:37 d2.utils.events]: \u001b[0m eta: 0:06:39  iter: 359  total_loss: 1.553  loss_cls: 0.375  loss_box_reg: 0.613  loss_mask: 0.408  loss_rpn_cls: 0.004  loss_rpn_loc: 0.037  time: 0.3465  data_time: 0.0044  lr: 0.000090  max_mem: 2767M\n",
      "\u001b[32m[04/11 21:01:44 d2.utils.events]: \u001b[0m eta: 0:06:32  iter: 379  total_loss: 1.277  loss_cls: 0.337  loss_box_reg: 0.545  loss_mask: 0.383  loss_rpn_cls: 0.003  loss_rpn_loc: 0.034  time: 0.3467  data_time: 0.0043  lr: 0.000095  max_mem: 2767M\n",
      "\u001b[32m[04/11 21:01:51 d2.utils.events]: \u001b[0m eta: 0:06:25  iter: 399  total_loss: 1.260  loss_cls: 0.344  loss_box_reg: 0.545  loss_mask: 0.334  loss_rpn_cls: 0.003  loss_rpn_loc: 0.038  time: 0.3468  data_time: 0.0043  lr: 0.000100  max_mem: 2767M\n",
      "\u001b[32m[04/11 21:01:58 d2.utils.events]: \u001b[0m eta: 0:06:18  iter: 419  total_loss: 1.257  loss_cls: 0.349  loss_box_reg: 0.545  loss_mask: 0.318  loss_rpn_cls: 0.003  loss_rpn_loc: 0.028  time: 0.3466  data_time: 0.0045  lr: 0.000105  max_mem: 2767M\n",
      "\u001b[32m[04/11 21:02:05 d2.utils.events]: \u001b[0m eta: 0:06:11  iter: 439  total_loss: 1.166  loss_cls: 0.320  loss_box_reg: 0.495  loss_mask: 0.288  loss_rpn_cls: 0.003  loss_rpn_loc: 0.038  time: 0.3465  data_time: 0.0048  lr: 0.000110  max_mem: 2767M\n",
      "\u001b[32m[04/11 21:02:12 d2.utils.events]: \u001b[0m eta: 0:06:04  iter: 459  total_loss: 1.048  loss_cls: 0.291  loss_box_reg: 0.461  loss_mask: 0.255  loss_rpn_cls: 0.001  loss_rpn_loc: 0.029  time: 0.3464  data_time: 0.0041  lr: 0.000115  max_mem: 2767M\n",
      "\u001b[32m[04/11 21:02:19 d2.utils.events]: \u001b[0m eta: 0:05:57  iter: 479  total_loss: 1.132  loss_cls: 0.329  loss_box_reg: 0.454  loss_mask: 0.230  loss_rpn_cls: 0.002  loss_rpn_loc: 0.030  time: 0.3465  data_time: 0.0042  lr: 0.000120  max_mem: 2767M\n",
      "\u001b[32m[04/11 21:02:26 d2.utils.events]: \u001b[0m eta: 0:05:50  iter: 499  total_loss: 1.087  loss_cls: 0.353  loss_box_reg: 0.483  loss_mask: 0.238  loss_rpn_cls: 0.002  loss_rpn_loc: 0.025  time: 0.3467  data_time: 0.0044  lr: 0.000125  max_mem: 2767M\n",
      "\u001b[32m[04/11 21:02:33 d2.utils.events]: \u001b[0m eta: 0:05:43  iter: 519  total_loss: 0.928  loss_cls: 0.259  loss_box_reg: 0.401  loss_mask: 0.202  loss_rpn_cls: 0.001  loss_rpn_loc: 0.033  time: 0.3467  data_time: 0.0041  lr: 0.000130  max_mem: 2767M\n",
      "\u001b[32m[04/11 21:02:40 d2.utils.events]: \u001b[0m eta: 0:05:36  iter: 539  total_loss: 1.132  loss_cls: 0.289  loss_box_reg: 0.487  loss_mask: 0.212  loss_rpn_cls: 0.003  loss_rpn_loc: 0.036  time: 0.3471  data_time: 0.0041  lr: 0.000135  max_mem: 2767M\n",
      "\u001b[32m[04/11 21:02:47 d2.utils.events]: \u001b[0m eta: 0:05:29  iter: 559  total_loss: 0.986  loss_cls: 0.255  loss_box_reg: 0.377  loss_mask: 0.200  loss_rpn_cls: 0.000  loss_rpn_loc: 0.035  time: 0.3469  data_time: 0.0042  lr: 0.000140  max_mem: 2767M\n",
      "\u001b[32m[04/11 21:02:54 d2.utils.events]: \u001b[0m eta: 0:05:22  iter: 579  total_loss: 0.893  loss_cls: 0.230  loss_box_reg: 0.385  loss_mask: 0.205  loss_rpn_cls: 0.001  loss_rpn_loc: 0.026  time: 0.3466  data_time: 0.0037  lr: 0.000145  max_mem: 2767M\n",
      "\u001b[32m[04/11 21:03:01 d2.utils.events]: \u001b[0m eta: 0:05:15  iter: 599  total_loss: 0.903  loss_cls: 0.231  loss_box_reg: 0.403  loss_mask: 0.161  loss_rpn_cls: 0.001  loss_rpn_loc: 0.034  time: 0.3466  data_time: 0.0038  lr: 0.000150  max_mem: 2767M\n",
      "\u001b[32m[04/11 21:03:08 d2.utils.events]: \u001b[0m eta: 0:05:08  iter: 619  total_loss: 0.885  loss_cls: 0.192  loss_box_reg: 0.374  loss_mask: 0.217  loss_rpn_cls: 0.002  loss_rpn_loc: 0.030  time: 0.3466  data_time: 0.0041  lr: 0.000155  max_mem: 2767M\n",
      "\u001b[32m[04/11 21:03:15 d2.utils.events]: \u001b[0m eta: 0:05:01  iter: 639  total_loss: 0.815  loss_cls: 0.208  loss_box_reg: 0.310  loss_mask: 0.153  loss_rpn_cls: 0.001  loss_rpn_loc: 0.026  time: 0.3468  data_time: 0.0044  lr: 0.000160  max_mem: 2767M\n",
      "\u001b[32m[04/11 21:03:22 d2.utils.events]: \u001b[0m eta: 0:04:54  iter: 659  total_loss: 0.781  loss_cls: 0.222  loss_box_reg: 0.318  loss_mask: 0.187  loss_rpn_cls: 0.001  loss_rpn_loc: 0.031  time: 0.3470  data_time: 0.0042  lr: 0.000165  max_mem: 2767M\n",
      "\u001b[32m[04/11 21:03:29 d2.utils.events]: \u001b[0m eta: 0:04:47  iter: 679  total_loss: 0.738  loss_cls: 0.195  loss_box_reg: 0.338  loss_mask: 0.187  loss_rpn_cls: 0.001  loss_rpn_loc: 0.030  time: 0.3470  data_time: 0.0040  lr: 0.000170  max_mem: 2767M\n",
      "\u001b[32m[04/11 21:03:36 d2.utils.events]: \u001b[0m eta: 0:04:40  iter: 699  total_loss: 0.720  loss_cls: 0.194  loss_box_reg: 0.320  loss_mask: 0.189  loss_rpn_cls: 0.001  loss_rpn_loc: 0.034  time: 0.3469  data_time: 0.0040  lr: 0.000175  max_mem: 2767M\n",
      "\u001b[32m[04/11 21:03:43 d2.utils.events]: \u001b[0m eta: 0:04:33  iter: 719  total_loss: 0.657  loss_cls: 0.131  loss_box_reg: 0.285  loss_mask: 0.168  loss_rpn_cls: 0.000  loss_rpn_loc: 0.032  time: 0.3469  data_time: 0.0040  lr: 0.000180  max_mem: 2767M\n",
      "\u001b[32m[04/11 21:03:50 d2.utils.events]: \u001b[0m eta: 0:04:26  iter: 739  total_loss: 0.666  loss_cls: 0.153  loss_box_reg: 0.338  loss_mask: 0.154  loss_rpn_cls: 0.001  loss_rpn_loc: 0.020  time: 0.3469  data_time: 0.0037  lr: 0.000185  max_mem: 2767M\n",
      "\u001b[32m[04/11 21:03:57 d2.utils.events]: \u001b[0m eta: 0:04:19  iter: 759  total_loss: 0.637  loss_cls: 0.154  loss_box_reg: 0.295  loss_mask: 0.143  loss_rpn_cls: 0.001  loss_rpn_loc: 0.026  time: 0.3467  data_time: 0.0035  lr: 0.000190  max_mem: 2767M\n",
      "\u001b[32m[04/11 21:04:04 d2.utils.events]: \u001b[0m eta: 0:04:12  iter: 779  total_loss: 0.734  loss_cls: 0.140  loss_box_reg: 0.312  loss_mask: 0.170  loss_rpn_cls: 0.000  loss_rpn_loc: 0.026  time: 0.3467  data_time: 0.0043  lr: 0.000195  max_mem: 2767M\n",
      "\u001b[32m[04/11 21:04:11 d2.utils.events]: \u001b[0m eta: 0:04:05  iter: 799  total_loss: 0.620  loss_cls: 0.133  loss_box_reg: 0.284  loss_mask: 0.134  loss_rpn_cls: 0.000  loss_rpn_loc: 0.032  time: 0.3467  data_time: 0.0043  lr: 0.000200  max_mem: 2767M\n",
      "\u001b[32m[04/11 21:04:18 d2.utils.events]: \u001b[0m eta: 0:03:58  iter: 819  total_loss: 0.560  loss_cls: 0.121  loss_box_reg: 0.248  loss_mask: 0.135  loss_rpn_cls: 0.000  loss_rpn_loc: 0.024  time: 0.3466  data_time: 0.0047  lr: 0.000205  max_mem: 2767M\n",
      "\u001b[32m[04/11 21:04:25 d2.utils.events]: \u001b[0m eta: 0:03:51  iter: 839  total_loss: 0.598  loss_cls: 0.130  loss_box_reg: 0.285  loss_mask: 0.127  loss_rpn_cls: 0.000  loss_rpn_loc: 0.031  time: 0.3466  data_time: 0.0042  lr: 0.000210  max_mem: 2767M\n",
      "\u001b[32m[04/11 21:04:32 d2.utils.events]: \u001b[0m eta: 0:03:44  iter: 859  total_loss: 0.564  loss_cls: 0.099  loss_box_reg: 0.238  loss_mask: 0.143  loss_rpn_cls: 0.000  loss_rpn_loc: 0.031  time: 0.3468  data_time: 0.0046  lr: 0.000215  max_mem: 2767M\n",
      "\u001b[32m[04/11 21:04:39 d2.utils.events]: \u001b[0m eta: 0:03:37  iter: 879  total_loss: 0.561  loss_cls: 0.113  loss_box_reg: 0.258  loss_mask: 0.131  loss_rpn_cls: 0.000  loss_rpn_loc: 0.023  time: 0.3467  data_time: 0.0045  lr: 0.000220  max_mem: 2767M\n",
      "\u001b[32m[04/11 21:04:46 d2.utils.events]: \u001b[0m eta: 0:03:30  iter: 899  total_loss: 0.566  loss_cls: 0.095  loss_box_reg: 0.270  loss_mask: 0.113  loss_rpn_cls: 0.001  loss_rpn_loc: 0.035  time: 0.3467  data_time: 0.0038  lr: 0.000225  max_mem: 2767M\n",
      "\u001b[32m[04/11 21:04:53 d2.utils.events]: \u001b[0m eta: 0:03:23  iter: 919  total_loss: 0.586  loss_cls: 0.110  loss_box_reg: 0.279  loss_mask: 0.130  loss_rpn_cls: 0.001  loss_rpn_loc: 0.024  time: 0.3468  data_time: 0.0038  lr: 0.000230  max_mem: 2767M\n",
      "\u001b[32m[04/11 21:05:00 d2.utils.events]: \u001b[0m eta: 0:03:16  iter: 939  total_loss: 0.549  loss_cls: 0.088  loss_box_reg: 0.254  loss_mask: 0.138  loss_rpn_cls: 0.000  loss_rpn_loc: 0.031  time: 0.3467  data_time: 0.0043  lr: 0.000235  max_mem: 2767M\n",
      "\u001b[32m[04/11 21:05:07 d2.utils.events]: \u001b[0m eta: 0:03:09  iter: 959  total_loss: 0.511  loss_cls: 0.079  loss_box_reg: 0.232  loss_mask: 0.116  loss_rpn_cls: 0.000  loss_rpn_loc: 0.022  time: 0.3466  data_time: 0.0045  lr: 0.000240  max_mem: 2767M\n",
      "\u001b[32m[04/11 21:05:14 d2.utils.events]: \u001b[0m eta: 0:03:02  iter: 979  total_loss: 0.532  loss_cls: 0.098  loss_box_reg: 0.207  loss_mask: 0.119  loss_rpn_cls: 0.000  loss_rpn_loc: 0.026  time: 0.3467  data_time: 0.0045  lr: 0.000245  max_mem: 2767M\n",
      "\u001b[32m[04/11 21:05:21 d2.utils.events]: \u001b[0m eta: 0:02:55  iter: 999  total_loss: 0.547  loss_cls: 0.095  loss_box_reg: 0.259  loss_mask: 0.112  loss_rpn_cls: 0.000  loss_rpn_loc: 0.028  time: 0.3468  data_time: 0.0046  lr: 0.000250  max_mem: 2767M\n",
      "\u001b[32m[04/11 21:05:28 d2.utils.events]: \u001b[0m eta: 0:02:48  iter: 1019  total_loss: 0.479  loss_cls: 0.070  loss_box_reg: 0.224  loss_mask: 0.114  loss_rpn_cls: 0.000  loss_rpn_loc: 0.028  time: 0.3469  data_time: 0.0045  lr: 0.000250  max_mem: 2767M\n",
      "\u001b[32m[04/11 21:05:35 d2.utils.events]: \u001b[0m eta: 0:02:41  iter: 1039  total_loss: 0.407  loss_cls: 0.075  loss_box_reg: 0.209  loss_mask: 0.099  loss_rpn_cls: 0.000  loss_rpn_loc: 0.024  time: 0.3469  data_time: 0.0048  lr: 0.000250  max_mem: 2767M\n",
      "\u001b[32m[04/11 21:05:42 d2.utils.events]: \u001b[0m eta: 0:02:34  iter: 1059  total_loss: 0.455  loss_cls: 0.073  loss_box_reg: 0.207  loss_mask: 0.112  loss_rpn_cls: 0.000  loss_rpn_loc: 0.020  time: 0.3467  data_time: 0.0043  lr: 0.000250  max_mem: 2767M\n",
      "\u001b[32m[04/11 21:05:49 d2.utils.events]: \u001b[0m eta: 0:02:27  iter: 1079  total_loss: 0.367  loss_cls: 0.064  loss_box_reg: 0.175  loss_mask: 0.094  loss_rpn_cls: 0.000  loss_rpn_loc: 0.031  time: 0.3468  data_time: 0.0047  lr: 0.000250  max_mem: 2767M\n",
      "\u001b[32m[04/11 21:05:56 d2.utils.events]: \u001b[0m eta: 0:02:20  iter: 1099  total_loss: 0.437  loss_cls: 0.075  loss_box_reg: 0.203  loss_mask: 0.116  loss_rpn_cls: 0.000  loss_rpn_loc: 0.025  time: 0.3470  data_time: 0.0047  lr: 0.000250  max_mem: 2767M\n",
      "\u001b[32m[04/11 21:06:03 d2.utils.events]: \u001b[0m eta: 0:02:13  iter: 1119  total_loss: 0.419  loss_cls: 0.073  loss_box_reg: 0.215  loss_mask: 0.116  loss_rpn_cls: 0.000  loss_rpn_loc: 0.030  time: 0.3471  data_time: 0.0036  lr: 0.000250  max_mem: 2767M\n",
      "\u001b[32m[04/11 21:06:10 d2.utils.events]: \u001b[0m eta: 0:02:06  iter: 1139  total_loss: 0.441  loss_cls: 0.063  loss_box_reg: 0.195  loss_mask: 0.107  loss_rpn_cls: 0.000  loss_rpn_loc: 0.026  time: 0.3470  data_time: 0.0039  lr: 0.000250  max_mem: 2767M\n",
      "\u001b[32m[04/11 21:06:17 d2.utils.events]: \u001b[0m eta: 0:01:59  iter: 1159  total_loss: 0.372  loss_cls: 0.061  loss_box_reg: 0.167  loss_mask: 0.104  loss_rpn_cls: 0.000  loss_rpn_loc: 0.021  time: 0.3472  data_time: 0.0039  lr: 0.000250  max_mem: 2767M\n",
      "\u001b[32m[04/11 21:06:24 d2.utils.events]: \u001b[0m eta: 0:01:52  iter: 1179  total_loss: 0.434  loss_cls: 0.068  loss_box_reg: 0.203  loss_mask: 0.109  loss_rpn_cls: 0.001  loss_rpn_loc: 0.030  time: 0.3472  data_time: 0.0042  lr: 0.000250  max_mem: 2767M\n",
      "\u001b[32m[04/11 21:06:32 d2.utils.events]: \u001b[0m eta: 0:01:45  iter: 1199  total_loss: 0.389  loss_cls: 0.060  loss_box_reg: 0.157  loss_mask: 0.101  loss_rpn_cls: 0.000  loss_rpn_loc: 0.026  time: 0.3473  data_time: 0.0045  lr: 0.000250  max_mem: 2767M\n",
      "\u001b[32m[04/11 21:06:38 d2.utils.events]: \u001b[0m eta: 0:01:38  iter: 1219  total_loss: 0.353  loss_cls: 0.074  loss_box_reg: 0.171  loss_mask: 0.092  loss_rpn_cls: 0.000  loss_rpn_loc: 0.016  time: 0.3472  data_time: 0.0039  lr: 0.000250  max_mem: 2767M\n",
      "\u001b[32m[04/11 21:06:46 d2.utils.events]: \u001b[0m eta: 0:01:31  iter: 1239  total_loss: 0.378  loss_cls: 0.058  loss_box_reg: 0.165  loss_mask: 0.092  loss_rpn_cls: 0.000  loss_rpn_loc: 0.027  time: 0.3474  data_time: 0.0044  lr: 0.000250  max_mem: 2767M\n",
      "\u001b[32m[04/11 21:06:53 d2.utils.events]: \u001b[0m eta: 0:01:24  iter: 1259  total_loss: 0.373  loss_cls: 0.046  loss_box_reg: 0.177  loss_mask: 0.102  loss_rpn_cls: 0.000  loss_rpn_loc: 0.021  time: 0.3474  data_time: 0.0040  lr: 0.000250  max_mem: 2767M\n",
      "\u001b[32m[04/11 21:07:00 d2.utils.events]: \u001b[0m eta: 0:01:17  iter: 1279  total_loss: 0.381  loss_cls: 0.062  loss_box_reg: 0.163  loss_mask: 0.091  loss_rpn_cls: 0.000  loss_rpn_loc: 0.021  time: 0.3474  data_time: 0.0043  lr: 0.000250  max_mem: 2767M\n",
      "\u001b[32m[04/11 21:07:06 d2.utils.events]: \u001b[0m eta: 0:01:10  iter: 1299  total_loss: 0.370  loss_cls: 0.054  loss_box_reg: 0.174  loss_mask: 0.091  loss_rpn_cls: 0.000  loss_rpn_loc: 0.023  time: 0.3472  data_time: 0.0040  lr: 0.000250  max_mem: 2767M\n",
      "\u001b[32m[04/11 21:07:13 d2.utils.events]: \u001b[0m eta: 0:01:03  iter: 1319  total_loss: 0.357  loss_cls: 0.059  loss_box_reg: 0.186  loss_mask: 0.089  loss_rpn_cls: 0.000  loss_rpn_loc: 0.017  time: 0.3470  data_time: 0.0040  lr: 0.000250  max_mem: 2767M\n",
      "\u001b[32m[04/11 21:07:20 d2.utils.events]: \u001b[0m eta: 0:00:56  iter: 1339  total_loss: 0.352  loss_cls: 0.046  loss_box_reg: 0.161  loss_mask: 0.092  loss_rpn_cls: 0.000  loss_rpn_loc: 0.023  time: 0.3469  data_time: 0.0044  lr: 0.000250  max_mem: 2767M\n",
      "\u001b[32m[04/11 21:07:27 d2.utils.events]: \u001b[0m eta: 0:00:49  iter: 1359  total_loss: 0.330  loss_cls: 0.049  loss_box_reg: 0.151  loss_mask: 0.089  loss_rpn_cls: 0.000  loss_rpn_loc: 0.028  time: 0.3468  data_time: 0.0046  lr: 0.000250  max_mem: 2767M\n",
      "\u001b[32m[04/11 21:07:34 d2.utils.events]: \u001b[0m eta: 0:00:42  iter: 1379  total_loss: 0.327  loss_cls: 0.044  loss_box_reg: 0.147  loss_mask: 0.093  loss_rpn_cls: 0.000  loss_rpn_loc: 0.025  time: 0.3467  data_time: 0.0045  lr: 0.000250  max_mem: 2767M\n",
      "\u001b[32m[04/11 21:07:41 d2.utils.events]: \u001b[0m eta: 0:00:35  iter: 1399  total_loss: 0.361  loss_cls: 0.054  loss_box_reg: 0.166  loss_mask: 0.080  loss_rpn_cls: 0.000  loss_rpn_loc: 0.020  time: 0.3466  data_time: 0.0045  lr: 0.000250  max_mem: 2767M\n",
      "\u001b[32m[04/11 21:07:48 d2.utils.events]: \u001b[0m eta: 0:00:28  iter: 1419  total_loss: 0.312  loss_cls: 0.042  loss_box_reg: 0.142  loss_mask: 0.100  loss_rpn_cls: 0.000  loss_rpn_loc: 0.022  time: 0.3466  data_time: 0.0046  lr: 0.000250  max_mem: 2767M\n",
      "\u001b[32m[04/11 21:07:55 d2.utils.events]: \u001b[0m eta: 0:00:21  iter: 1439  total_loss: 0.341  loss_cls: 0.043  loss_box_reg: 0.163  loss_mask: 0.096  loss_rpn_cls: 0.000  loss_rpn_loc: 0.023  time: 0.3466  data_time: 0.0044  lr: 0.000250  max_mem: 2767M\n",
      "\u001b[32m[04/11 21:08:02 d2.utils.events]: \u001b[0m eta: 0:00:14  iter: 1459  total_loss: 0.389  loss_cls: 0.060  loss_box_reg: 0.178  loss_mask: 0.095  loss_rpn_cls: 0.000  loss_rpn_loc: 0.030  time: 0.3466  data_time: 0.0048  lr: 0.000250  max_mem: 2767M\n",
      "\u001b[32m[04/11 21:08:09 d2.utils.events]: \u001b[0m eta: 0:00:07  iter: 1479  total_loss: 0.330  loss_cls: 0.041  loss_box_reg: 0.151  loss_mask: 0.093  loss_rpn_cls: 0.000  loss_rpn_loc: 0.022  time: 0.3467  data_time: 0.0045  lr: 0.000250  max_mem: 2767M\n",
      "\u001b[32m[04/11 21:08:20 d2.utils.events]: \u001b[0m eta: 0:00:00  iter: 1499  total_loss: 0.301  loss_cls: 0.037  loss_box_reg: 0.129  loss_mask: 0.087  loss_rpn_cls: 0.000  loss_rpn_loc: 0.021  time: 0.3467  data_time: 0.0045  lr: 0.000250  max_mem: 2767M\n",
      "\u001b[32m[04/11 21:08:20 d2.engine.hooks]: \u001b[0mOverall training speed: 1497 iterations in 0:08:39 (0.3470 s / it)\n",
      "\u001b[32m[04/11 21:08:20 d2.engine.hooks]: \u001b[0mTotal training time: 0:08:47 (0:00:08 on hooks)\n"
     ]
    }
   ],
   "source": [
    "# DefaultTrainer はサンプルなので、ガチにやる人は自分で作るらしい・・・\n",
    "from detectron2.engine import DefaultTrainer\n",
    "\n",
    "# 出力先のディレクトリを作る\n",
    "os.makedirs(cfg.OUTPUT_DIR, exist_ok=True)\n",
    "\n",
    "trainer = DefaultTrainer(cfg) \n",
    "trainer.resume_or_load(resume=False) # True で途中から学習できるらしい\n",
    "trainer.train()"
   ]
  },
  {
   "cell_type": "code",
   "execution_count": null,
   "metadata": {},
   "outputs": [],
   "source": []
  }
 ],
 "metadata": {
  "kernelspec": {
   "display_name": "Python 3",
   "language": "python",
   "name": "python3"
  },
  "language_info": {
   "codemirror_mode": {
    "name": "ipython",
    "version": 3
   },
   "file_extension": ".py",
   "mimetype": "text/x-python",
   "name": "python",
   "nbconvert_exporter": "python",
   "pygments_lexer": "ipython3",
   "version": "3.7.4"
  }
 },
 "nbformat": 4,
 "nbformat_minor": 4
}
