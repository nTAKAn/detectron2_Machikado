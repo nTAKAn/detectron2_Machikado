{
 "cells": [
  {
   "cell_type": "markdown",
   "metadata": {},
   "source": [
    "# detectron2 for まちカドまぞく ～訓練編～\n",
    "\n",
    "<img src=\"https://user-images.githubusercontent.com/33882378/79055210-2ff0e600-7c86-11ea-93c6-8a65112f80f0.jpg\">\n",
    "\n",
    "detectron2 で独自データセット学習する方法\n",
    "\n",
    "参考にしたホームページ: https://demura.net/deeplearning/16807.html"
   ]
  },
  {
   "cell_type": "code",
   "execution_count": 1,
   "metadata": {},
   "outputs": [],
   "source": [
    "import os\n",
    "import numpy as np\n",
    "import json\n",
    "import matplotlib.pyplot as plt\n",
    "import cv2\n",
    "import random"
   ]
  },
  {
   "cell_type": "markdown",
   "metadata": {},
   "source": [
    "---\n",
    "## 独自のデータセットを読み込んで、データセットを用意する\n",
    "\n",
    "基本的に元になっているデータ形式をゴリゴリ自分で読み込んで、detectron2 の形式に変換していく\n",
    "\n",
    "### VoTT Export 形式からの読み込み"
   ]
  },
  {
   "cell_type": "code",
   "execution_count": 2,
   "metadata": {},
   "outputs": [],
   "source": [
    "# VoTT のエクスポートファイルや、画像が格納されているディレクトリ\n",
    "BASE_DIRECTORY = './vott-json-export/'\n",
    "# VoTT のエクスポートファイル名\n",
    "EXPORT_FILENAME = 'Machikado-export.json'\n",
    "# 訓練データに使用する割合\n",
    "TRAIN_RATIO = 0.7\n",
    "# 乱数シード\n",
    "RANDOM_STATE = 0"
   ]
  },
  {
   "cell_type": "markdown",
   "metadata": {},
   "source": [
    "* vott の場合は \"tags\" 格納されているカテゴリ名が格納されているのでそれを読み出せば良い"
   ]
  },
  {
   "cell_type": "code",
   "execution_count": 3,
   "metadata": {},
   "outputs": [
    {
     "data": {
      "text/plain": [
       "OrderedDict([(0, 'Shamiko'),\n",
       "             (1, 'Gosenzo'),\n",
       "             (2, 'Lilith'),\n",
       "             (3, 'Momo'),\n",
       "             (4, 'Mikan'),\n",
       "             (5, 'Mob')])"
      ]
     },
     "execution_count": 3,
     "metadata": {},
     "output_type": "execute_result"
    }
   ],
   "source": [
    "from collections import OrderedDict\n",
    "\n",
    "# エクスポートファイルからカテゴリ名を調べる\n",
    "with open(BASE_DIRECTORY + EXPORT_FILENAME, 'r') as f:\n",
    "    json_data = json.load(f)\n",
    "    \n",
    "CAT_NAME2ID = OrderedDict()\n",
    "CAT_ID2NAME = OrderedDict()\n",
    "\n",
    "for i, node in enumerate(json_data['tags']):\n",
    "    CAT_NAME2ID[node['name']] = i\n",
    "    CAT_ID2NAME[i] = node['name']\n",
    "\n",
    "CAT_ID2NAME"
   ]
  },
  {
   "cell_type": "markdown",
   "metadata": {},
   "source": [
    "* 所定の形式の辞書のリストと返す引数の無い関数を作れば良い\n",
    "* vott のアノテーションデータは \"assets\" に全て格納されているので、\"assets\" をゴリゴリ読み込んでいく。\n",
    "* マスクに必要な座標データは、\"regions\" に格納されている。\"regions\" は複数の領域データを含んでいる可能性があるので全て列挙する。\n",
    "領域データがない場合もあるのでそれも処理しておく。（VoTT で閲覧のみで、アノテーションされていないデータは領域データが無い）\n",
    "* 領域データの \"tags\" にカテゴリ名が格納されているので、１つ前のセルで読み込んだタグ情報(CAT_NAME2ID)を使用して整数のIDを振っていく。\n",
    "（tags は複数のカテゴリ名が格納されている可能性がある。VoTT で複数のタグをチェック出来るので注意）"
   ]
  },
  {
   "cell_type": "code",
   "execution_count": 4,
   "metadata": {},
   "outputs": [],
   "source": [
    "from detectron2.structures import BoxMode\n",
    "\n",
    "# machikado用にアレンジした読み込み関数\n",
    "def get_machikado_dicts():\n",
    "    with open(BASE_DIRECTORY + EXPORT_FILENAME, 'r') as f:\n",
    "        json_data = json.load(f, object_pairs_hook=OrderedDict) # データ順を固定しておく\n",
    "    \n",
    "    assets = json_data['assets']\n",
    "\n",
    "    dataset_dicts = []\n",
    "    for item in assets.values():\n",
    "        asset = item['asset']\n",
    "        regions = item['regions']\n",
    "\n",
    "        if len(regions) == 0:\n",
    "            print('警告: name: {} - 領域データが空だったのでスキップ'.format(asset['name']))\n",
    "            continue\n",
    "\n",
    "        record = {}\n",
    "        record['file_name'] = BASE_DIRECTORY + asset['name']\n",
    "        record['height'] = asset['size']['height']\n",
    "        record['width'] = asset['size']['width']\n",
    "\n",
    "        objs = []\n",
    "        for region in regions:\n",
    "            points = region['points']\n",
    "            assert len(points), '座標データが無い！'\n",
    "\n",
    "            if len(region['tags']) > 1:\n",
    "                print('警告: name: {} - 複数のタグを確認！ tags: {}'.format(asset['name'], region['tags']))\n",
    "\n",
    "            poly = []\n",
    "            for pt in points:\n",
    "                poly += [pt['x'], pt['y']]\n",
    "\n",
    "            bbox = region['boundingBox']\n",
    "\n",
    "            obj = {\n",
    "                'bbox': [bbox['left'], bbox['top'], bbox['left'] + bbox['width'], bbox['top'] + bbox['height']],\n",
    "                'bbox_mode': BoxMode.XYWH_ABS, # XYWH_REL はまだサポートされていないらしい\n",
    "                'segmentation': [poly],\n",
    "                'category_id': CAT_NAME2ID[region['tags'][0]],\n",
    "                'iscrowd': 0\n",
    "            }\n",
    "            objs.append(obj)\n",
    "\n",
    "        record['annotations'] = objs\n",
    "        dataset_dicts.append(record)\n",
    "        \n",
    "    return dataset_dicts"
   ]
  },
  {
   "cell_type": "markdown",
   "metadata": {},
   "source": [
    "### DatasetCatalogを用意する\n",
    "\n",
    "* 初めから訓練、テストが分かれてれば良いが、一緒のフォルダでも分割後にラムダ式で指定すれば良い"
   ]
  },
  {
   "cell_type": "code",
   "execution_count": 5,
   "metadata": {},
   "outputs": [],
   "source": [
    "from detectron2.data import DatasetCatalog\n",
    "\n",
    "dataset_dicts = get_machikado_dicts()\n",
    "\n",
    "# 訓練用、テスト用に分ける\n",
    "random.seed(RANDOM_STATE)\n",
    "random.shuffle(dataset_dicts)\n",
    "\n",
    "split_idx = int(len(dataset_dicts) * TRAIN_RATIO) + 1\n",
    "\n",
    "# 登録\n",
    "DatasetCatalog.clear()\n",
    "DatasetCatalog.register('train', lambda : dataset_dicts[:split_idx])\n",
    "DatasetCatalog.register('test', lambda : dataset_dicts[split_idx:])"
   ]
  },
  {
   "cell_type": "markdown",
   "metadata": {},
   "source": [
    "---\n",
    "\n",
    "## 学習\n",
    "\n",
    "* engine/defaults.py 399 行目コメントアウトでウザイ モデル表示をしないように出来る\n",
    "* モデルを変更したい場合は https://github.com/facebookresearch/detectron2/blob/master/MODEL_ZOO.md ここに色々あるので試すと良い\n",
    "* ```cfg.MODEL.WEIGHTS = ``` の部分は使用したい重みファイルに変える。(ダウンロードしてきた重みファイルへのパスを設定する)\n",
    "* merge_from_file はきちんと推論の時も揃えないとダメ！！"
   ]
  },
  {
   "cell_type": "code",
   "execution_count": 6,
   "metadata": {},
   "outputs": [],
   "source": [
    "from detectron2.config import get_cfg\n",
    "\n",
    "cfg = get_cfg()\n",
    "cfg.OUTPUT_DIR = './output'\n",
    "cfg.CUDA = 'cuda:0'\n",
    "\n",
    "# cfg.merge_from_file(\"../configs/COCO-InstanceSegmentation/mask_rcnn_R_50_FPN_3x.yaml\")\n",
    "# cfg.MODEL.WEIGHTS = './coco_models/model_final_f10217.pkl'\n",
    "# cfg.SOLVER.IMS_PER_BATCH = 2\n",
    "\n",
    "# 重いけど、これ精度良いです。\n",
    "cfg.merge_from_file('../configs/COCO-InstanceSegmentation/mask_rcnn_X_101_32x8d_FPN_3x.yaml')\n",
    "cfg.MODEL.WEIGHTS = './coco_models/model_final_2d9806.pkl'\n",
    "cfg.SOLVER.IMS_PER_BATCH = 1 # GTX2070 ではこれが限界\n",
    "\n",
    "cfg.DATASETS.TRAIN = ('train',)\n",
    "cfg.DATASETS.TEST = ()   # no metrics implemented for this dataset\n",
    "cfg.DATALOADER.NUM_WORKERS = 2\n",
    "cfg.SOLVER.BASE_LR = 0.00025\n",
    "cfg.SOLVER.MAX_ITER = 1500    # 300 iterations seems good enough, but you can certainly train longer <- とあるが、まあデータセットによるよね・・・\n",
    "cfg.MODEL.ROI_HEADS.BATCH_SIZE_PER_IMAGE = 128   # faster, and good enough for this toy dataset\n",
    "cfg.MODEL.ROI_HEADS.NUM_CLASSES = len(CAT_ID2NAME) "
   ]
  },
  {
   "cell_type": "markdown",
   "metadata": {},
   "source": [
    "TensorBoard を見たければ、detectron2_Machikado まで cd で移動して・・・\n",
    "\n",
    "```\n",
    "tensorboard --logdir output\n",
    "```\n",
    "\n",
    "docker な人は以下の様にする\n",
    "（事前に6006ポートをポートフォワーディングしておくことと、--bind_all が必要）\n",
    "\n",
    "```\n",
    "tensorboard --logdir output --bind_all\n",
    "```"
   ]
  },
  {
   "cell_type": "code",
   "execution_count": null,
   "metadata": {},
   "outputs": [
    {
     "name": "stdout",
     "output_type": "stream",
     "text": [
      "\u001b[32m[04/11 23:35:01 d2.data.build]: \u001b[0mRemoved 0 images with no usable annotations. 44 images left.\n",
      "\u001b[32m[04/11 23:35:01 d2.data.common]: \u001b[0mSerializing 44 elements to byte tensors and concatenating them all ...\n",
      "\u001b[32m[04/11 23:35:01 d2.data.common]: \u001b[0mSerialized dataset takes 0.10 MiB\n",
      "\u001b[32m[04/11 23:35:01 d2.data.detection_utils]: \u001b[0mTransformGens used in training: [ResizeShortestEdge(short_edge_length=(640, 672, 704, 736, 768, 800), max_size=1333, sample_style='choice'), RandomFlip()]\n",
      "\u001b[32m[04/11 23:35:01 d2.data.build]: \u001b[0mUsing training sampler TrainingSampler\n"
     ]
    },
    {
     "name": "stderr",
     "output_type": "stream",
     "text": [
      "'roi_heads.box_predictor.cls_score.weight' has shape (81, 1024) in the checkpoint but (7, 1024) in the model! Skipped.\n",
      "'roi_heads.box_predictor.cls_score.bias' has shape (81,) in the checkpoint but (7,) in the model! Skipped.\n",
      "'roi_heads.box_predictor.bbox_pred.weight' has shape (320, 1024) in the checkpoint but (24, 1024) in the model! Skipped.\n",
      "'roi_heads.box_predictor.bbox_pred.bias' has shape (320,) in the checkpoint but (24,) in the model! Skipped.\n",
      "'roi_heads.mask_head.predictor.weight' has shape (80, 256, 1, 1) in the checkpoint but (6, 256, 1, 1) in the model! Skipped.\n",
      "'roi_heads.mask_head.predictor.bias' has shape (80,) in the checkpoint but (6,) in the model! Skipped.\n"
     ]
    },
    {
     "name": "stdout",
     "output_type": "stream",
     "text": [
      "\u001b[32m[04/11 23:35:02 d2.engine.train_loop]: \u001b[0mStarting training from iteration 0\n",
      "\u001b[32m[04/11 23:35:12 d2.utils.events]: \u001b[0m eta: 0:12:17  iter: 19  total_loss: 3.356  loss_cls: 2.078  loss_box_reg: 0.537  loss_mask: 0.694  loss_rpn_cls: 0.010  loss_rpn_loc: 0.019  time: 0.4983  data_time: 0.0056  lr: 0.000005  max_mem: 3687M\n",
      "\u001b[32m[04/11 23:35:22 d2.utils.events]: \u001b[0m eta: 0:12:01  iter: 39  total_loss: 3.498  loss_cls: 1.915  loss_box_reg: 0.823  loss_mask: 0.692  loss_rpn_cls: 0.005  loss_rpn_loc: 0.023  time: 0.4890  data_time: 0.0018  lr: 0.000010  max_mem: 3687M\n",
      "\u001b[32m[04/11 23:35:32 d2.utils.events]: \u001b[0m eta: 0:11:47  iter: 59  total_loss: 3.006  loss_cls: 1.628  loss_box_reg: 0.637  loss_mask: 0.688  loss_rpn_cls: 0.005  loss_rpn_loc: 0.019  time: 0.4821  data_time: 0.0019  lr: 0.000015  max_mem: 3687M\n",
      "\u001b[32m[04/11 23:35:41 d2.utils.events]: \u001b[0m eta: 0:11:36  iter: 79  total_loss: 2.535  loss_cls: 1.207  loss_box_reg: 0.624  loss_mask: 0.681  loss_rpn_cls: 0.006  loss_rpn_loc: 0.026  time: 0.4824  data_time: 0.0018  lr: 0.000020  max_mem: 3687M\n",
      "\u001b[32m[04/11 23:35:51 d2.utils.events]: \u001b[0m eta: 0:11:23  iter: 99  total_loss: 2.344  loss_cls: 0.884  loss_box_reg: 0.731  loss_mask: 0.677  loss_rpn_cls: 0.007  loss_rpn_loc: 0.021  time: 0.4845  data_time: 0.0018  lr: 0.000025  max_mem: 3687M\n",
      "\u001b[32m[04/11 23:36:01 d2.utils.events]: \u001b[0m eta: 0:11:21  iter: 119  total_loss: 2.185  loss_cls: 0.684  loss_box_reg: 0.778  loss_mask: 0.667  loss_rpn_cls: 0.014  loss_rpn_loc: 0.018  time: 0.4878  data_time: 0.0019  lr: 0.000030  max_mem: 3687M\n",
      "\u001b[32m[04/11 23:36:11 d2.utils.events]: \u001b[0m eta: 0:11:06  iter: 139  total_loss: 2.213  loss_cls: 0.666  loss_box_reg: 0.836  loss_mask: 0.632  loss_rpn_cls: 0.003  loss_rpn_loc: 0.016  time: 0.4849  data_time: 0.0016  lr: 0.000035  max_mem: 3687M\n",
      "\u001b[32m[04/11 23:36:20 d2.utils.events]: \u001b[0m eta: 0:10:50  iter: 159  total_loss: 2.188  loss_cls: 0.677  loss_box_reg: 0.876  loss_mask: 0.625  loss_rpn_cls: 0.004  loss_rpn_loc: 0.019  time: 0.4836  data_time: 0.0015  lr: 0.000040  max_mem: 3687M\n",
      "\u001b[32m[04/11 23:36:30 d2.utils.events]: \u001b[0m eta: 0:10:40  iter: 179  total_loss: 1.670  loss_cls: 0.392  loss_box_reg: 0.572  loss_mask: 0.600  loss_rpn_cls: 0.001  loss_rpn_loc: 0.027  time: 0.4847  data_time: 0.0016  lr: 0.000045  max_mem: 3687M\n",
      "\u001b[32m[04/11 23:36:40 d2.utils.events]: \u001b[0m eta: 0:10:31  iter: 199  total_loss: 1.721  loss_cls: 0.433  loss_box_reg: 0.691  loss_mask: 0.559  loss_rpn_cls: 0.002  loss_rpn_loc: 0.016  time: 0.4851  data_time: 0.0016  lr: 0.000050  max_mem: 3687M\n",
      "\u001b[32m[04/11 23:36:49 d2.utils.events]: \u001b[0m eta: 0:10:20  iter: 219  total_loss: 2.169  loss_cls: 0.618  loss_box_reg: 0.980  loss_mask: 0.529  loss_rpn_cls: 0.004  loss_rpn_loc: 0.017  time: 0.4833  data_time: 0.0015  lr: 0.000055  max_mem: 3687M\n",
      "\u001b[32m[04/11 23:36:59 d2.utils.events]: \u001b[0m eta: 0:10:11  iter: 239  total_loss: 1.809  loss_cls: 0.489  loss_box_reg: 0.748  loss_mask: 0.553  loss_rpn_cls: 0.002  loss_rpn_loc: 0.014  time: 0.4824  data_time: 0.0016  lr: 0.000060  max_mem: 3687M\n",
      "\u001b[32m[04/11 23:37:09 d2.utils.events]: \u001b[0m eta: 0:10:04  iter: 259  total_loss: 1.774  loss_cls: 0.508  loss_box_reg: 0.859  loss_mask: 0.414  loss_rpn_cls: 0.001  loss_rpn_loc: 0.017  time: 0.4847  data_time: 0.0016  lr: 0.000065  max_mem: 3687M\n",
      "\u001b[32m[04/11 23:37:19 d2.utils.events]: \u001b[0m eta: 0:09:53  iter: 279  total_loss: 1.613  loss_cls: 0.378  loss_box_reg: 0.649  loss_mask: 0.398  loss_rpn_cls: 0.001  loss_rpn_loc: 0.023  time: 0.4848  data_time: 0.0017  lr: 0.000070  max_mem: 3687M\n",
      "\u001b[32m[04/11 23:37:29 d2.utils.events]: \u001b[0m eta: 0:09:48  iter: 299  total_loss: 1.657  loss_cls: 0.462  loss_box_reg: 0.844  loss_mask: 0.403  loss_rpn_cls: 0.001  loss_rpn_loc: 0.023  time: 0.4869  data_time: 0.0017  lr: 0.000075  max_mem: 3687M\n",
      "\u001b[32m[04/11 23:37:39 d2.utils.events]: \u001b[0m eta: 0:09:43  iter: 319  total_loss: 1.873  loss_cls: 0.557  loss_box_reg: 0.898  loss_mask: 0.343  loss_rpn_cls: 0.001  loss_rpn_loc: 0.018  time: 0.4878  data_time: 0.0016  lr: 0.000080  max_mem: 3687M\n",
      "\u001b[32m[04/11 23:37:49 d2.utils.events]: \u001b[0m eta: 0:09:32  iter: 339  total_loss: 1.438  loss_cls: 0.387  loss_box_reg: 0.805  loss_mask: 0.303  loss_rpn_cls: 0.001  loss_rpn_loc: 0.012  time: 0.4876  data_time: 0.0018  lr: 0.000085  max_mem: 3687M\n",
      "\u001b[32m[04/11 23:37:59 d2.utils.events]: \u001b[0m eta: 0:09:22  iter: 359  total_loss: 1.390  loss_cls: 0.299  loss_box_reg: 0.621  loss_mask: 0.231  loss_rpn_cls: 0.003  loss_rpn_loc: 0.028  time: 0.4880  data_time: 0.0019  lr: 0.000090  max_mem: 3687M\n",
      "\u001b[32m[04/11 23:38:09 d2.utils.events]: \u001b[0m eta: 0:09:13  iter: 379  total_loss: 1.328  loss_cls: 0.365  loss_box_reg: 0.734  loss_mask: 0.270  loss_rpn_cls: 0.000  loss_rpn_loc: 0.021  time: 0.4890  data_time: 0.0019  lr: 0.000095  max_mem: 3687M\n",
      "\u001b[32m[04/11 23:38:19 d2.utils.events]: \u001b[0m eta: 0:09:04  iter: 399  total_loss: 1.586  loss_cls: 0.485  loss_box_reg: 0.687  loss_mask: 0.366  loss_rpn_cls: 0.000  loss_rpn_loc: 0.021  time: 0.4896  data_time: 0.0020  lr: 0.000100  max_mem: 3687M\n",
      "\u001b[32m[04/11 23:38:29 d2.utils.events]: \u001b[0m eta: 0:08:54  iter: 419  total_loss: 1.357  loss_cls: 0.361  loss_box_reg: 0.649  loss_mask: 0.182  loss_rpn_cls: 0.000  loss_rpn_loc: 0.015  time: 0.4900  data_time: 0.0020  lr: 0.000105  max_mem: 3687M\n",
      "\u001b[32m[04/11 23:38:39 d2.utils.events]: \u001b[0m eta: 0:08:44  iter: 439  total_loss: 1.058  loss_cls: 0.297  loss_box_reg: 0.593  loss_mask: 0.264  loss_rpn_cls: 0.000  loss_rpn_loc: 0.017  time: 0.4899  data_time: 0.0019  lr: 0.000110  max_mem: 3687M\n",
      "\u001b[32m[04/11 23:38:49 d2.utils.events]: \u001b[0m eta: 0:08:35  iter: 459  total_loss: 1.416  loss_cls: 0.416  loss_box_reg: 0.629  loss_mask: 0.203  loss_rpn_cls: 0.000  loss_rpn_loc: 0.018  time: 0.4901  data_time: 0.0019  lr: 0.000115  max_mem: 3687M\n",
      "\u001b[32m[04/11 23:38:59 d2.utils.events]: \u001b[0m eta: 0:08:24  iter: 479  total_loss: 1.297  loss_cls: 0.379  loss_box_reg: 0.624  loss_mask: 0.204  loss_rpn_cls: 0.000  loss_rpn_loc: 0.024  time: 0.4898  data_time: 0.0020  lr: 0.000120  max_mem: 3687M\n",
      "\u001b[32m[04/11 23:39:09 d2.utils.events]: \u001b[0m eta: 0:08:15  iter: 499  total_loss: 0.811  loss_cls: 0.247  loss_box_reg: 0.398  loss_mask: 0.153  loss_rpn_cls: 0.000  loss_rpn_loc: 0.019  time: 0.4905  data_time: 0.0020  lr: 0.000125  max_mem: 3687M\n",
      "\u001b[32m[04/11 23:39:19 d2.utils.events]: \u001b[0m eta: 0:08:05  iter: 519  total_loss: 1.125  loss_cls: 0.309  loss_box_reg: 0.540  loss_mask: 0.177  loss_rpn_cls: 0.000  loss_rpn_loc: 0.016  time: 0.4913  data_time: 0.0020  lr: 0.000130  max_mem: 3687M\n",
      "\u001b[32m[04/11 23:39:29 d2.utils.events]: \u001b[0m eta: 0:07:55  iter: 539  total_loss: 1.171  loss_cls: 0.392  loss_box_reg: 0.573  loss_mask: 0.171  loss_rpn_cls: 0.000  loss_rpn_loc: 0.014  time: 0.4903  data_time: 0.0019  lr: 0.000135  max_mem: 3687M\n",
      "\u001b[32m[04/11 23:39:38 d2.utils.events]: \u001b[0m eta: 0:07:44  iter: 559  total_loss: 0.848  loss_cls: 0.238  loss_box_reg: 0.434  loss_mask: 0.175  loss_rpn_cls: 0.000  loss_rpn_loc: 0.023  time: 0.4898  data_time: 0.0020  lr: 0.000140  max_mem: 3687M\n",
      "\u001b[32m[04/11 23:39:48 d2.utils.events]: \u001b[0m eta: 0:07:35  iter: 579  total_loss: 1.017  loss_cls: 0.267  loss_box_reg: 0.510  loss_mask: 0.117  loss_rpn_cls: 0.000  loss_rpn_loc: 0.016  time: 0.4899  data_time: 0.0019  lr: 0.000145  max_mem: 3687M\n",
      "\u001b[32m[04/11 23:39:58 d2.utils.events]: \u001b[0m eta: 0:07:25  iter: 599  total_loss: 1.120  loss_cls: 0.279  loss_box_reg: 0.527  loss_mask: 0.177  loss_rpn_cls: 0.000  loss_rpn_loc: 0.026  time: 0.4904  data_time: 0.0019  lr: 0.000150  max_mem: 3687M\n",
      "\u001b[32m[04/11 23:40:08 d2.utils.events]: \u001b[0m eta: 0:07:15  iter: 619  total_loss: 0.769  loss_cls: 0.171  loss_box_reg: 0.437  loss_mask: 0.134  loss_rpn_cls: 0.000  loss_rpn_loc: 0.019  time: 0.4905  data_time: 0.0020  lr: 0.000155  max_mem: 3687M\n",
      "\u001b[32m[04/11 23:40:18 d2.utils.events]: \u001b[0m eta: 0:07:05  iter: 639  total_loss: 0.853  loss_cls: 0.159  loss_box_reg: 0.352  loss_mask: 0.127  loss_rpn_cls: 0.000  loss_rpn_loc: 0.014  time: 0.4896  data_time: 0.0019  lr: 0.000160  max_mem: 3687M\n",
      "\u001b[32m[04/11 23:40:28 d2.utils.events]: \u001b[0m eta: 0:06:55  iter: 659  total_loss: 0.833  loss_cls: 0.215  loss_box_reg: 0.415  loss_mask: 0.174  loss_rpn_cls: 0.000  loss_rpn_loc: 0.020  time: 0.4898  data_time: 0.0019  lr: 0.000165  max_mem: 3687M\n",
      "\u001b[32m[04/11 23:40:38 d2.utils.events]: \u001b[0m eta: 0:06:45  iter: 679  total_loss: 0.813  loss_cls: 0.216  loss_box_reg: 0.433  loss_mask: 0.156  loss_rpn_cls: 0.000  loss_rpn_loc: 0.012  time: 0.4902  data_time: 0.0019  lr: 0.000170  max_mem: 3687M\n",
      "\u001b[32m[04/11 23:40:47 d2.utils.events]: \u001b[0m eta: 0:06:34  iter: 699  total_loss: 0.719  loss_cls: 0.179  loss_box_reg: 0.401  loss_mask: 0.116  loss_rpn_cls: 0.000  loss_rpn_loc: 0.019  time: 0.4900  data_time: 0.0019  lr: 0.000175  max_mem: 3687M\n",
      "\u001b[32m[04/11 23:40:57 d2.utils.events]: \u001b[0m eta: 0:06:24  iter: 719  total_loss: 0.730  loss_cls: 0.130  loss_box_reg: 0.410  loss_mask: 0.186  loss_rpn_cls: 0.000  loss_rpn_loc: 0.016  time: 0.4897  data_time: 0.0018  lr: 0.000180  max_mem: 3687M\n",
      "\u001b[32m[04/11 23:41:07 d2.utils.events]: \u001b[0m eta: 0:06:14  iter: 739  total_loss: 0.921  loss_cls: 0.215  loss_box_reg: 0.448  loss_mask: 0.171  loss_rpn_cls: 0.000  loss_rpn_loc: 0.012  time: 0.4894  data_time: 0.0018  lr: 0.000185  max_mem: 3687M\n",
      "\u001b[32m[04/11 23:41:16 d2.utils.events]: \u001b[0m eta: 0:06:04  iter: 759  total_loss: 0.423  loss_cls: 0.066  loss_box_reg: 0.240  loss_mask: 0.099  loss_rpn_cls: 0.000  loss_rpn_loc: 0.022  time: 0.4890  data_time: 0.0019  lr: 0.000190  max_mem: 3687M\n",
      "\u001b[32m[04/11 23:41:26 d2.utils.events]: \u001b[0m eta: 0:05:54  iter: 779  total_loss: 0.756  loss_cls: 0.191  loss_box_reg: 0.408  loss_mask: 0.117  loss_rpn_cls: 0.000  loss_rpn_loc: 0.017  time: 0.4893  data_time: 0.0019  lr: 0.000195  max_mem: 3687M\n",
      "\u001b[32m[04/11 23:41:36 d2.utils.events]: \u001b[0m eta: 0:05:44  iter: 799  total_loss: 0.741  loss_cls: 0.143  loss_box_reg: 0.397  loss_mask: 0.105  loss_rpn_cls: 0.000  loss_rpn_loc: 0.028  time: 0.4897  data_time: 0.0019  lr: 0.000200  max_mem: 3687M\n",
      "\u001b[32m[04/11 23:41:46 d2.utils.events]: \u001b[0m eta: 0:05:34  iter: 819  total_loss: 0.566  loss_cls: 0.114  loss_box_reg: 0.328  loss_mask: 0.146  loss_rpn_cls: 0.000  loss_rpn_loc: 0.013  time: 0.4894  data_time: 0.0020  lr: 0.000205  max_mem: 3687M\n",
      "\u001b[32m[04/11 23:41:56 d2.utils.events]: \u001b[0m eta: 0:05:25  iter: 839  total_loss: 0.545  loss_cls: 0.122  loss_box_reg: 0.249  loss_mask: 0.095  loss_rpn_cls: 0.000  loss_rpn_loc: 0.009  time: 0.4897  data_time: 0.0020  lr: 0.000210  max_mem: 3687M\n",
      "\u001b[32m[04/11 23:42:06 d2.utils.events]: \u001b[0m eta: 0:05:16  iter: 859  total_loss: 0.634  loss_cls: 0.134  loss_box_reg: 0.290  loss_mask: 0.125  loss_rpn_cls: 0.000  loss_rpn_loc: 0.018  time: 0.4901  data_time: 0.0020  lr: 0.000215  max_mem: 3687M\n",
      "\u001b[32m[04/11 23:42:16 d2.utils.events]: \u001b[0m eta: 0:05:05  iter: 879  total_loss: 0.636  loss_cls: 0.115  loss_box_reg: 0.340  loss_mask: 0.137  loss_rpn_cls: 0.000  loss_rpn_loc: 0.014  time: 0.4894  data_time: 0.0019  lr: 0.000220  max_mem: 3687M\n",
      "\u001b[32m[04/11 23:42:26 d2.utils.events]: \u001b[0m eta: 0:04:56  iter: 899  total_loss: 0.495  loss_cls: 0.093  loss_box_reg: 0.280  loss_mask: 0.094  loss_rpn_cls: 0.000  loss_rpn_loc: 0.019  time: 0.4897  data_time: 0.0019  lr: 0.000225  max_mem: 3687M\n",
      "\u001b[32m[04/11 23:42:35 d2.utils.events]: \u001b[0m eta: 0:04:46  iter: 919  total_loss: 0.560  loss_cls: 0.114  loss_box_reg: 0.287  loss_mask: 0.111  loss_rpn_cls: 0.000  loss_rpn_loc: 0.015  time: 0.4896  data_time: 0.0018  lr: 0.000230  max_mem: 3687M\n",
      "\u001b[32m[04/11 23:42:46 d2.utils.events]: \u001b[0m eta: 0:04:37  iter: 939  total_loss: 0.645  loss_cls: 0.149  loss_box_reg: 0.316  loss_mask: 0.105  loss_rpn_cls: 0.000  loss_rpn_loc: 0.011  time: 0.4899  data_time: 0.0020  lr: 0.000235  max_mem: 3687M\n",
      "\u001b[32m[04/11 23:42:55 d2.utils.events]: \u001b[0m eta: 0:04:27  iter: 959  total_loss: 0.547  loss_cls: 0.113  loss_box_reg: 0.256  loss_mask: 0.125  loss_rpn_cls: 0.000  loss_rpn_loc: 0.013  time: 0.4898  data_time: 0.0017  lr: 0.000240  max_mem: 3687M\n",
      "\u001b[32m[04/11 23:43:05 d2.utils.events]: \u001b[0m eta: 0:04:17  iter: 979  total_loss: 0.709  loss_cls: 0.114  loss_box_reg: 0.295  loss_mask: 0.115  loss_rpn_cls: 0.000  loss_rpn_loc: 0.023  time: 0.4901  data_time: 0.0018  lr: 0.000245  max_mem: 3687M\n",
      "\u001b[32m[04/11 23:43:15 d2.utils.events]: \u001b[0m eta: 0:04:07  iter: 999  total_loss: 0.457  loss_cls: 0.110  loss_box_reg: 0.249  loss_mask: 0.117  loss_rpn_cls: 0.000  loss_rpn_loc: 0.011  time: 0.4902  data_time: 0.0017  lr: 0.000250  max_mem: 3687M\n",
      "\u001b[32m[04/11 23:43:25 d2.utils.events]: \u001b[0m eta: 0:03:57  iter: 1019  total_loss: 0.511  loss_cls: 0.097  loss_box_reg: 0.304  loss_mask: 0.102  loss_rpn_cls: 0.000  loss_rpn_loc: 0.008  time: 0.4900  data_time: 0.0017  lr: 0.000250  max_mem: 3687M\n",
      "\u001b[32m[04/11 23:43:35 d2.utils.events]: \u001b[0m eta: 0:03:47  iter: 1039  total_loss: 0.530  loss_cls: 0.072  loss_box_reg: 0.250  loss_mask: 0.091  loss_rpn_cls: 0.000  loss_rpn_loc: 0.019  time: 0.4903  data_time: 0.0018  lr: 0.000250  max_mem: 3687M\n",
      "\u001b[32m[04/11 23:43:45 d2.utils.events]: \u001b[0m eta: 0:03:38  iter: 1059  total_loss: 0.490  loss_cls: 0.079  loss_box_reg: 0.298  loss_mask: 0.100  loss_rpn_cls: 0.000  loss_rpn_loc: 0.016  time: 0.4907  data_time: 0.0019  lr: 0.000250  max_mem: 3687M\n",
      "\u001b[32m[04/11 23:43:55 d2.utils.events]: \u001b[0m eta: 0:03:28  iter: 1079  total_loss: 0.520  loss_cls: 0.098  loss_box_reg: 0.277  loss_mask: 0.096  loss_rpn_cls: 0.000  loss_rpn_loc: 0.009  time: 0.4908  data_time: 0.0019  lr: 0.000250  max_mem: 3687M\n",
      "\u001b[32m[04/11 23:44:05 d2.utils.events]: \u001b[0m eta: 0:03:18  iter: 1099  total_loss: 0.366  loss_cls: 0.045  loss_box_reg: 0.208  loss_mask: 0.092  loss_rpn_cls: 0.000  loss_rpn_loc: 0.013  time: 0.4908  data_time: 0.0019  lr: 0.000250  max_mem: 3687M\n",
      "\u001b[32m[04/11 23:44:15 d2.utils.events]: \u001b[0m eta: 0:03:08  iter: 1119  total_loss: 0.415  loss_cls: 0.070  loss_box_reg: 0.241  loss_mask: 0.092  loss_rpn_cls: 0.000  loss_rpn_loc: 0.009  time: 0.4907  data_time: 0.0019  lr: 0.000250  max_mem: 3687M\n",
      "\u001b[32m[04/11 23:44:25 d2.utils.events]: \u001b[0m eta: 0:02:58  iter: 1139  total_loss: 0.404  loss_cls: 0.050  loss_box_reg: 0.216  loss_mask: 0.090  loss_rpn_cls: 0.000  loss_rpn_loc: 0.019  time: 0.4906  data_time: 0.0019  lr: 0.000250  max_mem: 3687M\n",
      "\u001b[32m[04/11 23:44:35 d2.utils.events]: \u001b[0m eta: 0:02:48  iter: 1159  total_loss: 0.463  loss_cls: 0.080  loss_box_reg: 0.258  loss_mask: 0.096  loss_rpn_cls: 0.000  loss_rpn_loc: 0.015  time: 0.4905  data_time: 0.0018  lr: 0.000250  max_mem: 3687M\n",
      "\u001b[32m[04/11 23:44:45 d2.utils.events]: \u001b[0m eta: 0:02:39  iter: 1179  total_loss: 0.370  loss_cls: 0.060  loss_box_reg: 0.220  loss_mask: 0.084  loss_rpn_cls: 0.000  loss_rpn_loc: 0.010  time: 0.4906  data_time: 0.0018  lr: 0.000250  max_mem: 3687M\n",
      "\u001b[32m[04/11 23:44:54 d2.utils.events]: \u001b[0m eta: 0:02:29  iter: 1199  total_loss: 0.423  loss_cls: 0.058  loss_box_reg: 0.228  loss_mask: 0.081  loss_rpn_cls: 0.000  loss_rpn_loc: 0.016  time: 0.4905  data_time: 0.0019  lr: 0.000250  max_mem: 3687M\n",
      "\u001b[32m[04/11 23:45:05 d2.utils.events]: \u001b[0m eta: 0:02:19  iter: 1219  total_loss: 0.352  loss_cls: 0.053  loss_box_reg: 0.201  loss_mask: 0.081  loss_rpn_cls: 0.000  loss_rpn_loc: 0.017  time: 0.4910  data_time: 0.0020  lr: 0.000250  max_mem: 3687M\n",
      "\u001b[32m[04/11 23:45:15 d2.utils.events]: \u001b[0m eta: 0:02:09  iter: 1239  total_loss: 0.422  loss_cls: 0.058  loss_box_reg: 0.229  loss_mask: 0.085  loss_rpn_cls: 0.000  loss_rpn_loc: 0.011  time: 0.4909  data_time: 0.0018  lr: 0.000250  max_mem: 3687M\n",
      "\u001b[32m[04/11 23:45:24 d2.utils.events]: \u001b[0m eta: 0:01:59  iter: 1259  total_loss: 0.370  loss_cls: 0.076  loss_box_reg: 0.207  loss_mask: 0.078  loss_rpn_cls: 0.000  loss_rpn_loc: 0.012  time: 0.4909  data_time: 0.0016  lr: 0.000250  max_mem: 3687M\n",
      "\u001b[32m[04/11 23:45:34 d2.utils.events]: \u001b[0m eta: 0:01:49  iter: 1279  total_loss: 0.433  loss_cls: 0.070  loss_box_reg: 0.248  loss_mask: 0.092  loss_rpn_cls: 0.000  loss_rpn_loc: 0.014  time: 0.4909  data_time: 0.0019  lr: 0.000250  max_mem: 3687M\n"
     ]
    }
   ],
   "source": [
    "# DefaultTrainer はサンプルなので、ガチにやる人は自分で作るらしい・・・\n",
    "from detectron2.engine import DefaultTrainer\n",
    "\n",
    "# 出力先のディレクトリを作る\n",
    "os.makedirs(cfg.OUTPUT_DIR, exist_ok=True)\n",
    "\n",
    "trainer = DefaultTrainer(cfg) \n",
    "trainer.resume_or_load(resume=False) # True で途中から学習できるらしい\n",
    "trainer.train()"
   ]
  },
  {
   "cell_type": "code",
   "execution_count": null,
   "metadata": {},
   "outputs": [],
   "source": []
  }
 ],
 "metadata": {
  "kernelspec": {
   "display_name": "Python 3",
   "language": "python",
   "name": "python3"
  },
  "language_info": {
   "codemirror_mode": {
    "name": "ipython",
    "version": 3
   },
   "file_extension": ".py",
   "mimetype": "text/x-python",
   "name": "python",
   "nbconvert_exporter": "python",
   "pygments_lexer": "ipython3",
   "version": "3.7.4"
  }
 },
 "nbformat": 4,
 "nbformat_minor": 4
}
