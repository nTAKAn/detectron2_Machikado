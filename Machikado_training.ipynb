{
 "cells": [
  {
   "cell_type": "markdown",
   "metadata": {},
   "source": [
    "# detectron2 for まちカドまぞく ～訓練編～\n",
    "\n",
    "<img src=\"https://user-images.githubusercontent.com/33882378/79055210-2ff0e600-7c86-11ea-93c6-8a65112f80f0.jpg\">\n",
    "\n",
    "detectron2 で独自データセット学習する方法\n",
    "\n",
    "参考にしたホームページ: https://demura.net/deeplearning/16807.html"
   ]
  },
  {
   "cell_type": "code",
   "execution_count": 1,
   "metadata": {},
   "outputs": [],
   "source": [
    "import os\n",
    "import numpy as np\n",
    "import json\n",
    "import matplotlib.pyplot as plt\n",
    "import cv2\n",
    "import random"
   ]
  },
  {
   "cell_type": "markdown",
   "metadata": {},
   "source": [
    "---\n",
    "## 独自のデータセットを読み込んで、データセットを用意する\n",
    "\n",
    "基本的に元になっているデータ形式をゴリゴリ自分で読み込んで、detectron2 の形式に変換していく\n",
    "\n",
    "### VoTT Export 形式からの読み込み"
   ]
  },
  {
   "cell_type": "code",
   "execution_count": 2,
   "metadata": {},
   "outputs": [],
   "source": [
    "# VoTT のエクスポートファイルや、画像が格納されているディレクトリ\n",
    "BASE_DIRECTORY = './vott-json-export/'\n",
    "# VoTT のエクスポートファイル名\n",
    "EXPORT_FILENAME = 'Machikado-export.json'\n",
    "# 訓練データに使用する割合\n",
    "TRAIN_RATIO = 0.8\n",
    "# 乱数シード\n",
    "RANDOM_STATE = 0"
   ]
  },
  {
   "cell_type": "markdown",
   "metadata": {},
   "source": [
    "* vott の場合は \"tags\" 格納されているカテゴリ名が格納されているのでそれを読み出せば良い"
   ]
  },
  {
   "cell_type": "code",
   "execution_count": 3,
   "metadata": {},
   "outputs": [
    {
     "data": {
      "text/plain": [
       "OrderedDict([(0, 'Shamiko'),\n",
       "             (1, 'Gosenzo'),\n",
       "             (2, 'Lilith'),\n",
       "             (3, 'Momo'),\n",
       "             (4, 'Mikan'),\n",
       "             (5, 'Mob')])"
      ]
     },
     "execution_count": 3,
     "metadata": {},
     "output_type": "execute_result"
    }
   ],
   "source": [
    "from collections import OrderedDict\n",
    "\n",
    "# エクスポートファイルからカテゴリ名を調べる\n",
    "with open(os.path.join(BASE_DIRECTORY, EXPORT_FILENAME), 'r') as f:\n",
    "    json_data = json.load(f)\n",
    "    \n",
    "CAT_NAME2ID = OrderedDict()\n",
    "CAT_ID2NAME = OrderedDict()\n",
    "\n",
    "for i, node in enumerate(json_data['tags']):\n",
    "    CAT_NAME2ID[node['name']] = i\n",
    "    CAT_ID2NAME[i] = node['name']\n",
    "\n",
    "CAT_ID2NAME"
   ]
  },
  {
   "cell_type": "markdown",
   "metadata": {},
   "source": [
    "* 所定の形式の辞書のリストと返す引数の無い関数を作れば良い\n",
    "* vott のアノテーションデータは \"assets\" に全て格納されているので、\"assets\" をゴリゴリ読み込んでいく。\n",
    "* マスクに必要な座標データは、\"regions\" に格納されている。\"regions\" は複数の領域データを含んでいる可能性があるので全て列挙する。\n",
    "領域データがない場合もあるのでそれも処理しておく。（VoTT で閲覧のみで、アノテーションされていないデータは領域データが無い）\n",
    "* 領域データの \"tags\" にカテゴリ名が格納されているので、１つ前のセルで読み込んだタグ情報(CAT_NAME2ID)を使用して整数のIDを振っていく。\n",
    "（tags は複数のカテゴリ名が格納されている可能性がある。VoTT で複数のタグをチェック出来るので注意）"
   ]
  },
  {
   "cell_type": "code",
   "execution_count": 4,
   "metadata": {},
   "outputs": [],
   "source": [
    "from PIL import Image\n",
    "from detectron2.structures import BoxMode\n",
    "\n",
    "# machikado用にアレンジした読み込み関数\n",
    "def get_machikado_dicts():\n",
    "    with open(os.path.join(BASE_DIRECTORY, EXPORT_FILENAME), 'r') as f:\n",
    "        json_data = json.load(f, object_pairs_hook=OrderedDict) # データ順を固定しておく\n",
    "    \n",
    "    assets = json_data['assets']\n",
    "\n",
    "    dataset_dicts = []\n",
    "    for item in assets.values():\n",
    "        asset = item['asset']\n",
    "        regions = item['regions']\n",
    "\n",
    "        if len(regions) == 0:\n",
    "            print('警告: name: {} - 領域データが空だったのでスキップ'.format(asset['name']))\n",
    "            continue\n",
    "        \n",
    "        # 画像サイズを取得し確認する\n",
    "        # （VoTT でアノテーション中画像を差し替えると画像のサイズが古い画像のままになるので修正する）\n",
    "        file_name = os.path.join(BASE_DIRECTORY, asset['name'])\n",
    "        im = Image.open(file_name)\n",
    "        w, h = im.size\n",
    "        \n",
    "        if asset['size']['height'] != h or asset['size']['width'] != w:\n",
    "            print('警告: name: {} - 画像サイズの不整合 image_size:({}, {}), {}: ({}, {})'.format(\n",
    "                asset['name'], asset['size']['width'], asset['size']['height'], EXPORT_FILENAME, w, h))\n",
    "        \n",
    "        record = {}\n",
    "        record['file_name'] = file_name\n",
    "        record['height'] = h\n",
    "        record['width'] = w\n",
    "        \n",
    "        objs = []\n",
    "        for region in regions:\n",
    "            points = region['points']\n",
    "            assert len(points), '座標データが無い！'\n",
    "\n",
    "            if len(region['tags']) > 1:\n",
    "                print('警告: name: {} - 複数のタグを確認！ tags: {}'.format(asset['name'], region['tags']))\n",
    "\n",
    "            poly = []\n",
    "            for pt in points:\n",
    "                poly += [pt['x'], pt['y']]\n",
    "\n",
    "            bbox = region['boundingBox']\n",
    "\n",
    "            obj = {\n",
    "                'bbox': [bbox['left'], bbox['top'], bbox['left'] + bbox['width'], bbox['top'] + bbox['height']],\n",
    "                'bbox_mode': BoxMode.XYWH_ABS, # XYWH_REL はまだサポートされていないらしい\n",
    "                'segmentation': [poly],\n",
    "                'category_id': CAT_NAME2ID[region['tags'][0]],\n",
    "                'iscrowd': 0\n",
    "            }\n",
    "            objs.append(obj)\n",
    "\n",
    "        record['annotations'] = objs\n",
    "        dataset_dicts.append(record)\n",
    "        \n",
    "    return dataset_dicts"
   ]
  },
  {
   "cell_type": "markdown",
   "metadata": {},
   "source": [
    "### DatasetCatalogを用意する\n",
    "\n",
    "* 初めから訓練、テストが分かれてれば良いが、一緒のフォルダでも分割後にラムダ式で指定すれば良い\n",
    "\n",
    "> まあ最初から分けた方が後々楽そうではあるので VoTT のデータを分けて保存出来れば良いと思うが、\n",
    "> VoTT の標準ではないんですよね・・・"
   ]
  },
  {
   "cell_type": "code",
   "execution_count": 5,
   "metadata": {},
   "outputs": [
    {
     "name": "stdout",
     "output_type": "stream",
     "text": [
      "警告: name: 59.jpg - 画像サイズの不整合 image_size:(268, 201), Machikado-export.json: (600, 600)\n"
     ]
    },
    {
     "data": {
      "text/plain": [
       "Metadata(name='test', thing_classes=['Shamiko', 'Gosenzo', 'Lilith', 'Momo', 'Mikan', 'Mob'])"
      ]
     },
     "execution_count": 5,
     "metadata": {},
     "output_type": "execute_result"
    }
   ],
   "source": [
    "from detectron2.data import DatasetCatalog, MetadataCatalog\n",
    "\n",
    "dataset_dicts = get_machikado_dicts()\n",
    "\n",
    "# 訓練用、テスト用に分ける\n",
    "random.seed(RANDOM_STATE)\n",
    "random.shuffle(dataset_dicts)\n",
    "\n",
    "split_idx = int(len(dataset_dicts) * TRAIN_RATIO) + 1\n",
    "\n",
    "# 登録\n",
    "DatasetCatalog.clear()\n",
    "DatasetCatalog.register('train', lambda : dataset_dicts[:split_idx])\n",
    "DatasetCatalog.register('test', lambda : dataset_dicts[split_idx:])\n",
    "\n",
    "MetadataCatalog.get('train').set(thing_classes=list(CAT_NAME2ID.keys()))\n",
    "MetadataCatalog.get('test').set(thing_classes=list(CAT_NAME2ID.keys()))"
   ]
  },
  {
   "cell_type": "markdown",
   "metadata": {},
   "source": [
    "---\n",
    "\n",
    "## 学習\n",
    "\n",
    "* engine/defaults.py 399 行目コメントアウトでウザイ モデル表示をしないように出来る\n",
    "* モデルを変更したい場合は https://github.com/facebookresearch/detectron2/blob/master/MODEL_ZOO.md ここに色々あるので試すと良い\n",
    "* ```cfg.MODEL.WEIGHTS = ``` の部分は使用したい重みファイルに変える。(ダウンロードしてきた重みファイルへのパスを設定する)\n",
    "* merge_from_file はきちんと推論の時も揃えないとダメ！！"
   ]
  },
  {
   "cell_type": "code",
   "execution_count": 6,
   "metadata": {},
   "outputs": [],
   "source": [
    "from detectron2.config import get_cfg\n",
    "\n",
    "cfg = get_cfg()\n",
    "cfg.OUTPUT_DIR = './output'\n",
    "cfg.CUDA = 'cuda:0'\n",
    "\n",
    "# cfg.merge_from_file(\"../configs/COCO-InstanceSegmentation/mask_rcnn_R_50_FPN_3x.yaml\")\n",
    "# cfg.MODEL.WEIGHTS = './coco_models/model_final_f10217.pkl'\n",
    "# cfg.SOLVER.IMS_PER_BATCH = 2\n",
    "\n",
    "# 重いけど、これ精度良いです。\n",
    "cfg.merge_from_file('../configs/COCO-InstanceSegmentation/mask_rcnn_X_101_32x8d_FPN_3x.yaml')\n",
    "cfg.MODEL.WEIGHTS = './coco_models/model_final_2d9806.pkl'\n",
    "cfg.SOLVER.IMS_PER_BATCH = 1 # GTX2070 ではこれが限界\n",
    "\n",
    "cfg.DATASETS.TRAIN = ('train',)\n",
    "cfg.DATASETS.TEST = ()   # no metrics implemented for this dataset\n",
    "cfg.DATALOADER.NUM_WORKERS = 2\n",
    "cfg.SOLVER.BASE_LR = 0.00025\n",
    "cfg.SOLVER.MAX_ITER = 1500    # 300 iterations seems good enough, but you can certainly train longer <- とあるが、まあデータセットによるよね・・・\n",
    "cfg.MODEL.ROI_HEADS.BATCH_SIZE_PER_IMAGE = 128   # faster, and good enough for this toy dataset\n",
    "cfg.MODEL.ROI_HEADS.NUM_CLASSES = len(CAT_ID2NAME) "
   ]
  },
  {
   "cell_type": "markdown",
   "metadata": {},
   "source": [
    "TensorBoard を見たければ、detectron2_Machikado まで cd で移動して・・・\n",
    "\n",
    "```\n",
    "tensorboard --logdir output\n",
    "```\n",
    "\n",
    "docker な人は以下の様にする\n",
    "（事前に6006ポートをポートフォワーディングしておくことと、--bind_all が必要）\n",
    "\n",
    "```\n",
    "tensorboard --logdir output --bind_all\n",
    "```"
   ]
  },
  {
   "cell_type": "code",
   "execution_count": 7,
   "metadata": {},
   "outputs": [
    {
     "name": "stdout",
     "output_type": "stream",
     "text": [
      "\u001b[32m[04/12 10:59:49 d2.data.build]: \u001b[0mRemoved 0 images with no usable annotations. 57 images left.\n",
      "\u001b[32m[04/12 10:59:49 d2.data.build]: \u001b[0mDistribution of instances among all 6 categories:\n",
      "\u001b[36m|  category  | #instances   |  category  | #instances   |  category  | #instances   |\n",
      "|:----------:|:-------------|:----------:|:-------------|:----------:|:-------------|\n",
      "|  Shamiko   | 39           |  Gosenzo   | 16           |   Lilith   | 11           |\n",
      "|    Momo    | 19           |   Mikan    | 8            |    Mob     | 11           |\n",
      "|            |              |            |              |            |              |\n",
      "|   total    | 104          |            |              |            |              |\u001b[0m\n",
      "\u001b[32m[04/12 10:59:49 d2.data.common]: \u001b[0mSerializing 57 elements to byte tensors and concatenating them all ...\n",
      "\u001b[32m[04/12 10:59:49 d2.data.common]: \u001b[0mSerialized dataset takes 0.13 MiB\n",
      "\u001b[32m[04/12 10:59:49 d2.data.detection_utils]: \u001b[0mTransformGens used in training: [ResizeShortestEdge(short_edge_length=(640, 672, 704, 736, 768, 800), max_size=1333, sample_style='choice'), RandomFlip()]\n",
      "\u001b[32m[04/12 10:59:49 d2.data.build]: \u001b[0mUsing training sampler TrainingSampler\n"
     ]
    },
    {
     "name": "stderr",
     "output_type": "stream",
     "text": [
      "'roi_heads.box_predictor.cls_score.weight' has shape (81, 1024) in the checkpoint but (7, 1024) in the model! Skipped.\n",
      "'roi_heads.box_predictor.cls_score.bias' has shape (81,) in the checkpoint but (7,) in the model! Skipped.\n",
      "'roi_heads.box_predictor.bbox_pred.weight' has shape (320, 1024) in the checkpoint but (24, 1024) in the model! Skipped.\n",
      "'roi_heads.box_predictor.bbox_pred.bias' has shape (320,) in the checkpoint but (24,) in the model! Skipped.\n",
      "'roi_heads.mask_head.predictor.weight' has shape (80, 256, 1, 1) in the checkpoint but (6, 256, 1, 1) in the model! Skipped.\n",
      "'roi_heads.mask_head.predictor.bias' has shape (80,) in the checkpoint but (6,) in the model! Skipped.\n"
     ]
    },
    {
     "name": "stdout",
     "output_type": "stream",
     "text": [
      "\u001b[32m[04/12 10:59:50 d2.engine.train_loop]: \u001b[0mStarting training from iteration 0\n",
      "\u001b[32m[04/12 10:59:59 d2.utils.events]: \u001b[0m eta: 0:10:34  iter: 19  total_loss: 3.050  loss_cls: 1.904  loss_box_reg: 0.419  loss_mask: 0.693  loss_rpn_cls: 0.002  loss_rpn_loc: 0.014  time: 0.4346  data_time: 0.0059  lr: 0.000005  max_mem: 3675M\n",
      "\u001b[32m[04/12 11:00:09 d2.utils.events]: \u001b[0m eta: 0:11:35  iter: 39  total_loss: 3.137  loss_cls: 1.749  loss_box_reg: 0.620  loss_mask: 0.692  loss_rpn_cls: 0.007  loss_rpn_loc: 0.020  time: 0.4670  data_time: 0.0019  lr: 0.000010  max_mem: 3675M\n",
      "\u001b[32m[04/12 11:00:19 d2.utils.events]: \u001b[0m eta: 0:11:37  iter: 59  total_loss: 2.840  loss_cls: 1.396  loss_box_reg: 0.674  loss_mask: 0.689  loss_rpn_cls: 0.007  loss_rpn_loc: 0.028  time: 0.4745  data_time: 0.0018  lr: 0.000015  max_mem: 3675M\n",
      "\u001b[32m[04/12 11:00:29 d2.utils.events]: \u001b[0m eta: 0:11:22  iter: 79  total_loss: 2.104  loss_cls: 0.976  loss_box_reg: 0.399  loss_mask: 0.686  loss_rpn_cls: 0.006  loss_rpn_loc: 0.031  time: 0.4790  data_time: 0.0018  lr: 0.000020  max_mem: 3675M\n",
      "\u001b[32m[04/12 11:00:42 d2.utils.events]: \u001b[0m eta: 0:11:25  iter: 99  total_loss: 2.232  loss_cls: 0.807  loss_box_reg: 0.714  loss_mask: 0.682  loss_rpn_cls: 0.010  loss_rpn_loc: 0.020  time: 0.5090  data_time: 0.0017  lr: 0.000025  max_mem: 3769M\n",
      "\u001b[32m[04/12 11:00:51 d2.utils.events]: \u001b[0m eta: 0:11:15  iter: 119  total_loss: 1.863  loss_cls: 0.557  loss_box_reg: 0.574  loss_mask: 0.669  loss_rpn_cls: 0.003  loss_rpn_loc: 0.024  time: 0.5059  data_time: 0.0020  lr: 0.000030  max_mem: 3769M\n",
      "\u001b[32m[04/12 11:01:01 d2.utils.events]: \u001b[0m eta: 0:11:01  iter: 139  total_loss: 1.890  loss_cls: 0.567  loss_box_reg: 0.680  loss_mask: 0.665  loss_rpn_cls: 0.004  loss_rpn_loc: 0.018  time: 0.4998  data_time: 0.0019  lr: 0.000035  max_mem: 3769M\n",
      "\u001b[32m[04/12 11:01:10 d2.utils.events]: \u001b[0m eta: 0:10:50  iter: 159  total_loss: 2.048  loss_cls: 0.598  loss_box_reg: 0.755  loss_mask: 0.647  loss_rpn_cls: 0.002  loss_rpn_loc: 0.021  time: 0.4976  data_time: 0.0018  lr: 0.000040  max_mem: 3769M\n",
      "\u001b[32m[04/12 11:01:20 d2.utils.events]: \u001b[0m eta: 0:10:39  iter: 179  total_loss: 1.325  loss_cls: 0.307  loss_box_reg: 0.355  loss_mask: 0.629  loss_rpn_cls: 0.002  loss_rpn_loc: 0.015  time: 0.4943  data_time: 0.0018  lr: 0.000045  max_mem: 3769M\n",
      "\u001b[32m[04/12 11:01:29 d2.utils.events]: \u001b[0m eta: 0:10:29  iter: 199  total_loss: 1.775  loss_cls: 0.419  loss_box_reg: 0.670  loss_mask: 0.616  loss_rpn_cls: 0.001  loss_rpn_loc: 0.014  time: 0.4924  data_time: 0.0019  lr: 0.000050  max_mem: 3769M\n",
      "\u001b[32m[04/12 11:01:39 d2.utils.events]: \u001b[0m eta: 0:10:19  iter: 219  total_loss: 1.993  loss_cls: 0.530  loss_box_reg: 0.885  loss_mask: 0.551  loss_rpn_cls: 0.002  loss_rpn_loc: 0.017  time: 0.4921  data_time: 0.0020  lr: 0.000055  max_mem: 3769M\n",
      "\u001b[32m[04/12 11:01:49 d2.utils.events]: \u001b[0m eta: 0:10:10  iter: 239  total_loss: 1.692  loss_cls: 0.422  loss_box_reg: 0.636  loss_mask: 0.533  loss_rpn_cls: 0.000  loss_rpn_loc: 0.011  time: 0.4913  data_time: 0.0019  lr: 0.000060  max_mem: 3769M\n",
      "\u001b[32m[04/12 11:01:59 d2.utils.events]: \u001b[0m eta: 0:10:01  iter: 259  total_loss: 1.849  loss_cls: 0.498  loss_box_reg: 0.765  loss_mask: 0.550  loss_rpn_cls: 0.001  loss_rpn_loc: 0.023  time: 0.4915  data_time: 0.0017  lr: 0.000065  max_mem: 3769M\n",
      "\u001b[32m[04/12 11:02:09 d2.utils.events]: \u001b[0m eta: 0:09:51  iter: 279  total_loss: 1.530  loss_cls: 0.415  loss_box_reg: 0.718  loss_mask: 0.455  loss_rpn_cls: 0.001  loss_rpn_loc: 0.026  time: 0.4914  data_time: 0.0017  lr: 0.000070  max_mem: 3769M\n",
      "\u001b[32m[04/12 11:02:18 d2.utils.events]: \u001b[0m eta: 0:09:42  iter: 299  total_loss: 1.632  loss_cls: 0.492  loss_box_reg: 0.637  loss_mask: 0.468  loss_rpn_cls: 0.000  loss_rpn_loc: 0.017  time: 0.4904  data_time: 0.0016  lr: 0.000075  max_mem: 3769M\n",
      "\u001b[32m[04/12 11:02:28 d2.utils.events]: \u001b[0m eta: 0:09:33  iter: 319  total_loss: 1.257  loss_cls: 0.327  loss_box_reg: 0.499  loss_mask: 0.339  loss_rpn_cls: 0.000  loss_rpn_loc: 0.027  time: 0.4901  data_time: 0.0016  lr: 0.000080  max_mem: 3769M\n",
      "\u001b[32m[04/12 11:02:38 d2.utils.events]: \u001b[0m eta: 0:09:22  iter: 339  total_loss: 1.622  loss_cls: 0.425  loss_box_reg: 0.581  loss_mask: 0.391  loss_rpn_cls: 0.000  loss_rpn_loc: 0.022  time: 0.4888  data_time: 0.0017  lr: 0.000085  max_mem: 3769M\n",
      "\u001b[32m[04/12 11:02:48 d2.utils.events]: \u001b[0m eta: 0:09:14  iter: 359  total_loss: 1.513  loss_cls: 0.415  loss_box_reg: 0.710  loss_mask: 0.332  loss_rpn_cls: 0.000  loss_rpn_loc: 0.025  time: 0.4893  data_time: 0.0016  lr: 0.000090  max_mem: 3769M\n",
      "\u001b[32m[04/12 11:02:58 d2.utils.events]: \u001b[0m eta: 0:09:06  iter: 379  total_loss: 1.208  loss_cls: 0.365  loss_box_reg: 0.607  loss_mask: 0.305  loss_rpn_cls: 0.001  loss_rpn_loc: 0.023  time: 0.4901  data_time: 0.0017  lr: 0.000095  max_mem: 3769M\n",
      "\u001b[32m[04/12 11:03:08 d2.utils.events]: \u001b[0m eta: 0:08:56  iter: 399  total_loss: 1.458  loss_cls: 0.399  loss_box_reg: 0.586  loss_mask: 0.285  loss_rpn_cls: 0.000  loss_rpn_loc: 0.017  time: 0.4905  data_time: 0.0018  lr: 0.000100  max_mem: 3769M\n",
      "\u001b[32m[04/12 11:03:17 d2.utils.events]: \u001b[0m eta: 0:08:46  iter: 419  total_loss: 1.490  loss_cls: 0.443  loss_box_reg: 0.753  loss_mask: 0.273  loss_rpn_cls: 0.000  loss_rpn_loc: 0.019  time: 0.4897  data_time: 0.0018  lr: 0.000105  max_mem: 3769M\n",
      "\u001b[32m[04/12 11:03:27 d2.utils.events]: \u001b[0m eta: 0:08:37  iter: 439  total_loss: 1.245  loss_cls: 0.378  loss_box_reg: 0.561  loss_mask: 0.270  loss_rpn_cls: 0.000  loss_rpn_loc: 0.018  time: 0.4896  data_time: 0.0017  lr: 0.000110  max_mem: 3769M\n",
      "\u001b[32m[04/12 11:03:37 d2.utils.events]: \u001b[0m eta: 0:08:28  iter: 459  total_loss: 1.171  loss_cls: 0.371  loss_box_reg: 0.549  loss_mask: 0.214  loss_rpn_cls: 0.000  loss_rpn_loc: 0.016  time: 0.4899  data_time: 0.0016  lr: 0.000115  max_mem: 3769M\n",
      "\u001b[32m[04/12 11:03:47 d2.utils.events]: \u001b[0m eta: 0:08:17  iter: 479  total_loss: 0.989  loss_cls: 0.319  loss_box_reg: 0.410  loss_mask: 0.198  loss_rpn_cls: 0.000  loss_rpn_loc: 0.024  time: 0.4894  data_time: 0.0016  lr: 0.000120  max_mem: 3769M\n",
      "\u001b[32m[04/12 11:03:57 d2.utils.events]: \u001b[0m eta: 0:08:08  iter: 499  total_loss: 1.396  loss_cls: 0.445  loss_box_reg: 0.618  loss_mask: 0.211  loss_rpn_cls: 0.000  loss_rpn_loc: 0.018  time: 0.4899  data_time: 0.0016  lr: 0.000125  max_mem: 3769M\n",
      "\u001b[32m[04/12 11:04:06 d2.utils.events]: \u001b[0m eta: 0:07:58  iter: 519  total_loss: 1.399  loss_cls: 0.448  loss_box_reg: 0.636  loss_mask: 0.306  loss_rpn_cls: 0.000  loss_rpn_loc: 0.027  time: 0.4891  data_time: 0.0016  lr: 0.000130  max_mem: 3769M\n",
      "\u001b[32m[04/12 11:04:16 d2.utils.events]: \u001b[0m eta: 0:07:48  iter: 539  total_loss: 0.991  loss_cls: 0.335  loss_box_reg: 0.355  loss_mask: 0.191  loss_rpn_cls: 0.000  loss_rpn_loc: 0.025  time: 0.4894  data_time: 0.0018  lr: 0.000135  max_mem: 3769M\n",
      "\u001b[32m[04/12 11:04:26 d2.utils.events]: \u001b[0m eta: 0:07:38  iter: 559  total_loss: 1.004  loss_cls: 0.361  loss_box_reg: 0.562  loss_mask: 0.157  loss_rpn_cls: 0.000  loss_rpn_loc: 0.017  time: 0.4894  data_time: 0.0017  lr: 0.000140  max_mem: 3769M\n",
      "\u001b[32m[04/12 11:04:38 d2.utils.events]: \u001b[0m eta: 0:07:29  iter: 579  total_loss: 1.044  loss_cls: 0.361  loss_box_reg: 0.407  loss_mask: 0.167  loss_rpn_cls: 0.000  loss_rpn_loc: 0.019  time: 0.4922  data_time: 0.0016  lr: 0.000145  max_mem: 3769M\n",
      "\u001b[32m[04/12 11:04:47 d2.utils.events]: \u001b[0m eta: 0:07:19  iter: 599  total_loss: 0.952  loss_cls: 0.329  loss_box_reg: 0.470  loss_mask: 0.159  loss_rpn_cls: 0.000  loss_rpn_loc: 0.021  time: 0.4921  data_time: 0.0019  lr: 0.000150  max_mem: 3769M\n",
      "\u001b[32m[04/12 11:04:56 d2.utils.events]: \u001b[0m eta: 0:07:09  iter: 619  total_loss: 1.168  loss_cls: 0.343  loss_box_reg: 0.501  loss_mask: 0.177  loss_rpn_cls: 0.000  loss_rpn_loc: 0.026  time: 0.4907  data_time: 0.0018  lr: 0.000155  max_mem: 3769M\n",
      "\u001b[32m[04/12 11:05:09 d2.utils.events]: \u001b[0m eta: 0:07:00  iter: 639  total_loss: 0.911  loss_cls: 0.279  loss_box_reg: 0.439  loss_mask: 0.139  loss_rpn_cls: 0.000  loss_rpn_loc: 0.018  time: 0.4943  data_time: 0.0018  lr: 0.000160  max_mem: 3769M\n",
      "\u001b[32m[04/12 11:05:19 d2.utils.events]: \u001b[0m eta: 0:06:51  iter: 659  total_loss: 0.664  loss_cls: 0.279  loss_box_reg: 0.262  loss_mask: 0.132  loss_rpn_cls: 0.000  loss_rpn_loc: 0.019  time: 0.4945  data_time: 0.0019  lr: 0.000165  max_mem: 3769M\n",
      "\u001b[32m[04/12 11:05:28 d2.utils.events]: \u001b[0m eta: 0:06:41  iter: 679  total_loss: 0.937  loss_cls: 0.346  loss_box_reg: 0.416  loss_mask: 0.123  loss_rpn_cls: 0.000  loss_rpn_loc: 0.029  time: 0.4943  data_time: 0.0020  lr: 0.000170  max_mem: 3769M\n",
      "\u001b[32m[04/12 11:05:38 d2.utils.events]: \u001b[0m eta: 0:06:32  iter: 699  total_loss: 0.960  loss_cls: 0.312  loss_box_reg: 0.399  loss_mask: 0.199  loss_rpn_cls: 0.000  loss_rpn_loc: 0.017  time: 0.4938  data_time: 0.0019  lr: 0.000175  max_mem: 3769M\n",
      "\u001b[32m[04/12 11:05:48 d2.utils.events]: \u001b[0m eta: 0:06:22  iter: 719  total_loss: 0.812  loss_cls: 0.197  loss_box_reg: 0.365  loss_mask: 0.136  loss_rpn_cls: 0.000  loss_rpn_loc: 0.013  time: 0.4933  data_time: 0.0019  lr: 0.000180  max_mem: 3769M\n",
      "\u001b[32m[04/12 11:05:58 d2.utils.events]: \u001b[0m eta: 0:06:12  iter: 739  total_loss: 0.959  loss_cls: 0.314  loss_box_reg: 0.416  loss_mask: 0.151  loss_rpn_cls: 0.000  loss_rpn_loc: 0.021  time: 0.4933  data_time: 0.0019  lr: 0.000185  max_mem: 3769M\n",
      "\u001b[32m[04/12 11:06:07 d2.utils.events]: \u001b[0m eta: 0:06:02  iter: 759  total_loss: 0.699  loss_cls: 0.218  loss_box_reg: 0.316  loss_mask: 0.119  loss_rpn_cls: 0.000  loss_rpn_loc: 0.027  time: 0.4932  data_time: 0.0020  lr: 0.000190  max_mem: 3769M\n",
      "\u001b[32m[04/12 11:06:18 d2.utils.events]: \u001b[0m eta: 0:05:53  iter: 779  total_loss: 0.878  loss_cls: 0.194  loss_box_reg: 0.500  loss_mask: 0.131  loss_rpn_cls: 0.000  loss_rpn_loc: 0.021  time: 0.4935  data_time: 0.0018  lr: 0.000195  max_mem: 3769M\n",
      "\u001b[32m[04/12 11:06:27 d2.utils.events]: \u001b[0m eta: 0:05:43  iter: 799  total_loss: 0.668  loss_cls: 0.229  loss_box_reg: 0.293  loss_mask: 0.140  loss_rpn_cls: 0.000  loss_rpn_loc: 0.014  time: 0.4930  data_time: 0.0019  lr: 0.000200  max_mem: 3769M\n",
      "\u001b[32m[04/12 11:06:37 d2.utils.events]: \u001b[0m eta: 0:05:33  iter: 819  total_loss: 0.638  loss_cls: 0.197  loss_box_reg: 0.302  loss_mask: 0.127  loss_rpn_cls: 0.000  loss_rpn_loc: 0.015  time: 0.4936  data_time: 0.0018  lr: 0.000205  max_mem: 3769M\n",
      "\u001b[32m[04/12 11:06:47 d2.utils.events]: \u001b[0m eta: 0:05:23  iter: 839  total_loss: 0.818  loss_cls: 0.191  loss_box_reg: 0.353  loss_mask: 0.127  loss_rpn_cls: 0.000  loss_rpn_loc: 0.018  time: 0.4927  data_time: 0.0017  lr: 0.000210  max_mem: 3769M\n",
      "\u001b[32m[04/12 11:06:57 d2.utils.events]: \u001b[0m eta: 0:05:13  iter: 859  total_loss: 0.670  loss_cls: 0.234  loss_box_reg: 0.304  loss_mask: 0.140  loss_rpn_cls: 0.000  loss_rpn_loc: 0.016  time: 0.4927  data_time: 0.0018  lr: 0.000215  max_mem: 3769M\n",
      "\u001b[32m[04/12 11:07:07 d2.utils.events]: \u001b[0m eta: 0:05:04  iter: 879  total_loss: 0.663  loss_cls: 0.191  loss_box_reg: 0.304  loss_mask: 0.132  loss_rpn_cls: 0.000  loss_rpn_loc: 0.019  time: 0.4931  data_time: 0.0019  lr: 0.000220  max_mem: 3769M\n",
      "\u001b[32m[04/12 11:07:16 d2.utils.events]: \u001b[0m eta: 0:04:54  iter: 899  total_loss: 0.800  loss_cls: 0.203  loss_box_reg: 0.368  loss_mask: 0.123  loss_rpn_cls: 0.000  loss_rpn_loc: 0.012  time: 0.4927  data_time: 0.0018  lr: 0.000225  max_mem: 3769M\n",
      "\u001b[32m[04/12 11:07:26 d2.utils.events]: \u001b[0m eta: 0:04:44  iter: 919  total_loss: 0.614  loss_cls: 0.173  loss_box_reg: 0.236  loss_mask: 0.116  loss_rpn_cls: 0.000  loss_rpn_loc: 0.014  time: 0.4919  data_time: 0.0020  lr: 0.000230  max_mem: 3769M\n",
      "\u001b[32m[04/12 11:07:35 d2.utils.events]: \u001b[0m eta: 0:04:34  iter: 939  total_loss: 0.448  loss_cls: 0.173  loss_box_reg: 0.208  loss_mask: 0.125  loss_rpn_cls: 0.000  loss_rpn_loc: 0.014  time: 0.4918  data_time: 0.0019  lr: 0.000235  max_mem: 3769M\n",
      "\u001b[32m[04/12 11:07:45 d2.utils.events]: \u001b[0m eta: 0:04:24  iter: 959  total_loss: 0.670  loss_cls: 0.175  loss_box_reg: 0.310  loss_mask: 0.127  loss_rpn_cls: 0.000  loss_rpn_loc: 0.020  time: 0.4914  data_time: 0.0019  lr: 0.000240  max_mem: 3769M\n",
      "\u001b[32m[04/12 11:07:55 d2.utils.events]: \u001b[0m eta: 0:04:14  iter: 979  total_loss: 0.522  loss_cls: 0.131  loss_box_reg: 0.248  loss_mask: 0.120  loss_rpn_cls: 0.000  loss_rpn_loc: 0.016  time: 0.4913  data_time: 0.0018  lr: 0.000245  max_mem: 3770M\n",
      "\u001b[32m[04/12 11:08:04 d2.utils.events]: \u001b[0m eta: 0:04:05  iter: 999  total_loss: 0.456  loss_cls: 0.138  loss_box_reg: 0.240  loss_mask: 0.100  loss_rpn_cls: 0.000  loss_rpn_loc: 0.012  time: 0.4909  data_time: 0.0016  lr: 0.000250  max_mem: 3770M\n",
      "\u001b[32m[04/12 11:08:14 d2.utils.events]: \u001b[0m eta: 0:03:55  iter: 1019  total_loss: 0.582  loss_cls: 0.137  loss_box_reg: 0.295  loss_mask: 0.123  loss_rpn_cls: 0.000  loss_rpn_loc: 0.015  time: 0.4909  data_time: 0.0017  lr: 0.000250  max_mem: 3770M\n",
      "\u001b[32m[04/12 11:08:24 d2.utils.events]: \u001b[0m eta: 0:03:45  iter: 1039  total_loss: 0.590  loss_cls: 0.134  loss_box_reg: 0.312  loss_mask: 0.117  loss_rpn_cls: 0.000  loss_rpn_loc: 0.017  time: 0.4909  data_time: 0.0018  lr: 0.000250  max_mem: 3770M\n",
      "\u001b[32m[04/12 11:08:34 d2.utils.events]: \u001b[0m eta: 0:03:35  iter: 1059  total_loss: 0.606  loss_cls: 0.113  loss_box_reg: 0.240  loss_mask: 0.128  loss_rpn_cls: 0.000  loss_rpn_loc: 0.024  time: 0.4909  data_time: 0.0017  lr: 0.000250  max_mem: 3770M\n",
      "\u001b[32m[04/12 11:08:44 d2.utils.events]: \u001b[0m eta: 0:03:26  iter: 1079  total_loss: 0.497  loss_cls: 0.132  loss_box_reg: 0.277  loss_mask: 0.094  loss_rpn_cls: 0.000  loss_rpn_loc: 0.010  time: 0.4908  data_time: 0.0018  lr: 0.000250  max_mem: 3770M\n",
      "\u001b[32m[04/12 11:08:53 d2.utils.events]: \u001b[0m eta: 0:03:16  iter: 1099  total_loss: 0.562  loss_cls: 0.138  loss_box_reg: 0.249  loss_mask: 0.122  loss_rpn_cls: 0.000  loss_rpn_loc: 0.012  time: 0.4907  data_time: 0.0019  lr: 0.000250  max_mem: 3770M\n",
      "\u001b[32m[04/12 11:09:03 d2.utils.events]: \u001b[0m eta: 0:03:06  iter: 1119  total_loss: 0.422  loss_cls: 0.101  loss_box_reg: 0.174  loss_mask: 0.099  loss_rpn_cls: 0.000  loss_rpn_loc: 0.016  time: 0.4907  data_time: 0.0020  lr: 0.000250  max_mem: 3770M\n",
      "\u001b[32m[04/12 11:09:13 d2.utils.events]: \u001b[0m eta: 0:02:57  iter: 1139  total_loss: 0.472  loss_cls: 0.101  loss_box_reg: 0.253  loss_mask: 0.114  loss_rpn_cls: 0.000  loss_rpn_loc: 0.025  time: 0.4910  data_time: 0.0020  lr: 0.000250  max_mem: 3770M\n",
      "\u001b[32m[04/12 11:09:23 d2.utils.events]: \u001b[0m eta: 0:02:47  iter: 1159  total_loss: 0.300  loss_cls: 0.094  loss_box_reg: 0.100  loss_mask: 0.097  loss_rpn_cls: 0.000  loss_rpn_loc: 0.017  time: 0.4910  data_time: 0.0017  lr: 0.000250  max_mem: 3770M\n",
      "\u001b[32m[04/12 11:09:33 d2.utils.events]: \u001b[0m eta: 0:02:37  iter: 1179  total_loss: 0.530  loss_cls: 0.112  loss_box_reg: 0.277  loss_mask: 0.106  loss_rpn_cls: 0.000  loss_rpn_loc: 0.010  time: 0.4909  data_time: 0.0017  lr: 0.000250  max_mem: 3770M\n",
      "\u001b[32m[04/12 11:09:43 d2.utils.events]: \u001b[0m eta: 0:02:28  iter: 1199  total_loss: 0.465  loss_cls: 0.112  loss_box_reg: 0.234  loss_mask: 0.114  loss_rpn_cls: 0.000  loss_rpn_loc: 0.014  time: 0.4910  data_time: 0.0016  lr: 0.000250  max_mem: 3770M\n",
      "\u001b[32m[04/12 11:09:53 d2.utils.events]: \u001b[0m eta: 0:02:18  iter: 1219  total_loss: 0.489  loss_cls: 0.121  loss_box_reg: 0.242  loss_mask: 0.085  loss_rpn_cls: 0.000  loss_rpn_loc: 0.010  time: 0.4912  data_time: 0.0018  lr: 0.000250  max_mem: 3770M\n",
      "\u001b[32m[04/12 11:10:03 d2.utils.events]: \u001b[0m eta: 0:02:08  iter: 1239  total_loss: 0.501  loss_cls: 0.086  loss_box_reg: 0.226  loss_mask: 0.108  loss_rpn_cls: 0.000  loss_rpn_loc: 0.012  time: 0.4908  data_time: 0.0017  lr: 0.000250  max_mem: 3770M\n",
      "\u001b[32m[04/12 11:10:13 d2.utils.events]: \u001b[0m eta: 0:01:58  iter: 1259  total_loss: 0.468  loss_cls: 0.085  loss_box_reg: 0.174  loss_mask: 0.101  loss_rpn_cls: 0.000  loss_rpn_loc: 0.018  time: 0.4911  data_time: 0.0016  lr: 0.000250  max_mem: 3770M\n",
      "\u001b[32m[04/12 11:10:23 d2.utils.events]: \u001b[0m eta: 0:01:49  iter: 1279  total_loss: 0.361  loss_cls: 0.073  loss_box_reg: 0.151  loss_mask: 0.087  loss_rpn_cls: 0.000  loss_rpn_loc: 0.024  time: 0.4912  data_time: 0.0017  lr: 0.000250  max_mem: 3770M\n",
      "\u001b[32m[04/12 11:10:33 d2.utils.events]: \u001b[0m eta: 0:01:39  iter: 1299  total_loss: 0.461  loss_cls: 0.121  loss_box_reg: 0.213  loss_mask: 0.099  loss_rpn_cls: 0.000  loss_rpn_loc: 0.011  time: 0.4912  data_time: 0.0017  lr: 0.000250  max_mem: 3770M\n",
      "\u001b[32m[04/12 11:10:42 d2.utils.events]: \u001b[0m eta: 0:01:29  iter: 1319  total_loss: 0.425  loss_cls: 0.085  loss_box_reg: 0.216  loss_mask: 0.086  loss_rpn_cls: 0.000  loss_rpn_loc: 0.008  time: 0.4909  data_time: 0.0017  lr: 0.000250  max_mem: 3770M\n",
      "\u001b[32m[04/12 11:10:52 d2.utils.events]: \u001b[0m eta: 0:01:19  iter: 1339  total_loss: 0.464  loss_cls: 0.100  loss_box_reg: 0.247  loss_mask: 0.106  loss_rpn_cls: 0.000  loss_rpn_loc: 0.011  time: 0.4906  data_time: 0.0019  lr: 0.000250  max_mem: 3770M\n",
      "\u001b[32m[04/12 11:11:01 d2.utils.events]: \u001b[0m eta: 0:01:09  iter: 1359  total_loss: 0.270  loss_cls: 0.038  loss_box_reg: 0.086  loss_mask: 0.092  loss_rpn_cls: 0.000  loss_rpn_loc: 0.014  time: 0.4902  data_time: 0.0017  lr: 0.000250  max_mem: 3770M\n",
      "\u001b[32m[04/12 11:11:11 d2.utils.events]: \u001b[0m eta: 0:00:59  iter: 1379  total_loss: 0.306  loss_cls: 0.055  loss_box_reg: 0.141  loss_mask: 0.079  loss_rpn_cls: 0.000  loss_rpn_loc: 0.006  time: 0.4903  data_time: 0.0016  lr: 0.000250  max_mem: 3770M\n",
      "\u001b[32m[04/12 11:11:21 d2.utils.events]: \u001b[0m eta: 0:00:49  iter: 1399  total_loss: 0.352  loss_cls: 0.052  loss_box_reg: 0.180  loss_mask: 0.095  loss_rpn_cls: 0.000  loss_rpn_loc: 0.023  time: 0.4902  data_time: 0.0017  lr: 0.000250  max_mem: 3770M\n",
      "\u001b[32m[04/12 11:11:30 d2.utils.events]: \u001b[0m eta: 0:00:39  iter: 1419  total_loss: 0.411  loss_cls: 0.073  loss_box_reg: 0.228  loss_mask: 0.096  loss_rpn_cls: 0.000  loss_rpn_loc: 0.014  time: 0.4900  data_time: 0.0016  lr: 0.000250  max_mem: 3770M\n",
      "\u001b[32m[04/12 11:11:40 d2.utils.events]: \u001b[0m eta: 0:00:30  iter: 1439  total_loss: 0.448  loss_cls: 0.087  loss_box_reg: 0.230  loss_mask: 0.083  loss_rpn_cls: 0.000  loss_rpn_loc: 0.010  time: 0.4898  data_time: 0.0017  lr: 0.000250  max_mem: 3770M\n",
      "\u001b[32m[04/12 11:11:49 d2.utils.events]: \u001b[0m eta: 0:00:20  iter: 1459  total_loss: 0.255  loss_cls: 0.055  loss_box_reg: 0.080  loss_mask: 0.089  loss_rpn_cls: 0.000  loss_rpn_loc: 0.012  time: 0.4894  data_time: 0.0016  lr: 0.000250  max_mem: 3770M\n",
      "\u001b[32m[04/12 11:11:59 d2.utils.events]: \u001b[0m eta: 0:00:10  iter: 1479  total_loss: 0.353  loss_cls: 0.076  loss_box_reg: 0.175  loss_mask: 0.085  loss_rpn_cls: 0.000  loss_rpn_loc: 0.013  time: 0.4894  data_time: 0.0017  lr: 0.000250  max_mem: 3770M\n",
      "\u001b[32m[04/12 11:12:17 d2.utils.events]: \u001b[0m eta: 0:00:00  iter: 1499  total_loss: 0.344  loss_cls: 0.064  loss_box_reg: 0.182  loss_mask: 0.101  loss_rpn_cls: 0.000  loss_rpn_loc: 0.009  time: 0.4891  data_time: 0.0017  lr: 0.000250  max_mem: 3770M\n",
      "\u001b[32m[04/12 11:12:17 d2.engine.hooks]: \u001b[0mOverall training speed: 1497 iterations in 0:12:12 (0.4894 s / it)\n",
      "\u001b[32m[04/12 11:12:17 d2.engine.hooks]: \u001b[0mTotal training time: 0:12:25 (0:00:13 on hooks)\n"
     ]
    }
   ],
   "source": [
    "# DefaultTrainer はサンプルなので、ガチにやる人は自分で作るらしい・・・\n",
    "from detectron2.engine import DefaultTrainer\n",
    "\n",
    "# 出力先のディレクトリを作る\n",
    "os.makedirs(cfg.OUTPUT_DIR, exist_ok=True)\n",
    "\n",
    "trainer = DefaultTrainer(cfg) \n",
    "trainer.resume_or_load(resume=False) # True で途中から学習できるらしい\n",
    "trainer.train()"
   ]
  },
  {
   "cell_type": "code",
   "execution_count": null,
   "metadata": {},
   "outputs": [],
   "source": []
  }
 ],
 "metadata": {
  "kernelspec": {
   "display_name": "Python 3",
   "language": "python",
   "name": "python3"
  },
  "language_info": {
   "codemirror_mode": {
    "name": "ipython",
    "version": 3
   },
   "file_extension": ".py",
   "mimetype": "text/x-python",
   "name": "python",
   "nbconvert_exporter": "python",
   "pygments_lexer": "ipython3",
   "version": "3.7.4"
  }
 },
 "nbformat": 4,
 "nbformat_minor": 4
}
