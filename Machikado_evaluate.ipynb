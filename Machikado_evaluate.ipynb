{
 "cells": [
  {
   "cell_type": "markdown",
   "metadata": {},
   "source": [
    "# detectron2 for まちカドまぞく ～評価編～\n",
    "\n",
    "<img src=\"https://user-images.githubusercontent.com/33882378/79189949-02f72b80-7e5e-11ea-81e4-cdc58a3d33c9.jpg\">\n",
    "\n",
    "detectron2 で独自データセット学習したモデルの AP, mAP を評価してみる。\n",
    "\n",
    "> 参考にさせていただいたホームページ（感謝です）<br/>\n",
    "> https://qiita.com/tmtakashi_dist/items/863e1781b5252e453b47<br/>\n",
    "> https://qiita.com/panchokyutech/items/2c972ede2bc883597a87<br/>\n",
    "> https://qiita.com/mdo4nt6n/items/08e11426e2fac8433fed<br/>"
   ]
  },
  {
   "cell_type": "code",
   "execution_count": 1,
   "metadata": {},
   "outputs": [],
   "source": [
    "import os\n",
    "import numpy as np\n",
    "import pandas as pd\n",
    "import json\n",
    "import cv2\n",
    "import random\n",
    "import matplotlib.pyplot as plt"
   ]
  },
  {
   "cell_type": "markdown",
   "metadata": {},
   "source": [
    "---\n",
    "## VoTT Export からの読み込み"
   ]
  },
  {
   "cell_type": "code",
   "execution_count": 2,
   "metadata": {},
   "outputs": [],
   "source": [
    "# VoTT のエクスポートファイルや、画像が格納されているディレクトリ\n",
    "BASE_DIRECTORY = './vott-json-export/'\n",
    "# VoTT のエクスポートファイル名\n",
    "EXPORT_FILENAME = 'Machikado-export.json'\n",
    "# 訓練データに使用する割合\n",
    "TRAIN_RATIO = 0.8\n",
    "# 乱数シード\n",
    "RANDOM_STATE = 0  # 訓練と同じにしておかないとズレちゃうよ！"
   ]
  },
  {
   "cell_type": "code",
   "execution_count": 3,
   "metadata": {},
   "outputs": [
    {
     "name": "stdout",
     "output_type": "stream",
     "text": [
      "警告: name: 59.jpg - 画像サイズが不一致であるためスキップ image_size:(268, 201), ./vott-json-export/Machikado-export.json: (600, 600)\n"
     ]
    },
    {
     "data": {
      "text/plain": [
       "Metadata(name='test', thing_classes=['シャミ子', 'ごせん像', 'リリス', 'もも', 'みかん', 'その他'])"
      ]
     },
     "execution_count": 3,
     "metadata": {},
     "output_type": "execute_result"
    }
   ],
   "source": [
    "from detectron2.data import DatasetCatalog, MetadataCatalog\n",
    "from machikado_util.Machikado_vott import get_cat_names, get_cat_color, get_machikado_dicts\n",
    "\n",
    "# vott の読み込み関係は py ファイルにした\n",
    "CAT_NAME2ID, CAT_ID2NAME = get_cat_names(os.path.join(BASE_DIRECTORY, EXPORT_FILENAME))\n",
    "dataset_dicts = get_machikado_dicts(os.path.join(BASE_DIRECTORY, EXPORT_FILENAME), BASE_DIRECTORY, CAT_NAME2ID)\n",
    "\n",
    "# VoTT のカテゴリの色も抽出する\n",
    "CAT_IDS, CAT_COLORS = get_cat_color(os.path.join(BASE_DIRECTORY, EXPORT_FILENAME))\n",
    "CAT_IDS, CAT_COLORS\n",
    "\n",
    "# 日本語表示を試す(CAT_ID2NAME と順番を一致させること！)\n",
    "CAT_NAME_JP = ['シャミ子', 'ごせん像', 'リリス', 'もも', 'みかん', 'その他']\n",
    "    \n",
    "# 訓練用、テスト用に分ける\n",
    "random.seed(RANDOM_STATE)\n",
    "random.shuffle(dataset_dicts)\n",
    "\n",
    "split_idx = int(len(dataset_dicts) * TRAIN_RATIO) + 1\n",
    "\n",
    "# 登録\n",
    "DatasetCatalog.clear()\n",
    "DatasetCatalog.register('train', lambda : dataset_dicts[:split_idx])\n",
    "DatasetCatalog.register('test', lambda : dataset_dicts[split_idx:])\n",
    "\n",
    "# 日本語名はこっち\n",
    "MetadataCatalog.get('train').set(thing_classes=CAT_NAME_JP)\n",
    "MetadataCatalog.get('test').set(thing_classes=CAT_NAME_JP)\n",
    "\n",
    "# VoTT のカテゴリ名はこっち\n",
    "# MetadataCatalog.get('train').set(thing_classes=list(CAT_NAME2ID.keys()))\n",
    "# MetadataCatalog.get('test').set(thing_classes=list(CAT_NAME2ID.keys()))"
   ]
  },
  {
   "cell_type": "markdown",
   "metadata": {},
   "source": [
    "---\n",
    "## 評価\n",
    "\n",
    "* AP、mAP を計算したいと思いますが、ちょっと自信がないので説明はしません。\n",
    "* コードは ./machikado_util/calc_ap.py にありますので、興味がお有りでしたらご覧下さい。"
   ]
  },
  {
   "cell_type": "code",
   "execution_count": 4,
   "metadata": {},
   "outputs": [],
   "source": [
    "from detectron2.config import get_cfg\n",
    "\n",
    "cfg = get_cfg()\n",
    "cfg.OUTPUT_DIR = './output'\n",
    "\n",
    "# cfg.merge_from_file(\"../configs/COCO-InstanceSegmentation/mask_rcnn_R_50_FPN_3x.yaml\") # ここの位置は ipynb ファイルの層泰一なので注意\n",
    "# cfg.SOLVER.IMS_PER_BATCH = 2\n",
    "# cfg.MODEL.WEIGHTS = os.path.join(cfg.OUTPUT_DIR, 'model_final.pth')\n",
    "\n",
    "cfg.merge_from_file('../configs/COCO-InstanceSegmentation/mask_rcnn_X_101_32x8d_FPN_3x.yaml')\n",
    "cfg.MODEL.WEIGHTS = os.path.join(cfg.OUTPUT_DIR, 'model_final.pth')\n",
    "\n",
    "cfg.DATALOADER.NUM_WORKERS = 2\n",
    "cfg.MODEL.ROI_HEADS.NUM_CLASSES = len(CAT_ID2NAME)  # machikado は6\n",
    "\n",
    "cfg.MODEL.ROI_HEADS.SCORE_THRESH_TEST = 0.6   # set the testing threshold for this model"
   ]
  },
  {
   "cell_type": "code",
   "execution_count": 5,
   "metadata": {},
   "outputs": [],
   "source": [
    "from detectron2.engine import DefaultPredictor\n",
    "from machikado_util.calc_ap import append_masks, get_true_datas, predict_datas, make_info_dict\n",
    "\n",
    "# データセットはテストを使用します\n",
    "catalog_name='test'\n",
    "# データセットにマスクデータを追加する\n",
    "append_masks(dataset_dicts)\n",
    "\n",
    "# 推論器を用意する\n",
    "predictor = DefaultPredictor(cfg)\n",
    "\n",
    "# 教師データから評価に必要な情報を取得する\n",
    "true_dicts = get_true_datas(catalog_name=catalog_name)\n",
    "# データセットを一度に推論して結果を取得する\n",
    "pred_dicts = predict_datas(predictor, catalog_name=catalog_name, verbose=False)\n",
    "# precision, recall を計算する\n",
    "df_dict = make_info_dict(true_dicts=true_dicts, pred_dicts=pred_dicts, classes=list(CAT_ID2NAME.keys()), th=0.5)"
   ]
  },
  {
   "cell_type": "markdown",
   "metadata": {},
   "source": [
    "### PR(Precision-Recall)曲線"
   ]
  },
  {
   "cell_type": "code",
   "execution_count": 6,
   "metadata": {},
   "outputs": [
    {
     "data": {
      "image/png": "[encoded data removed]",
      "text/plain": [
       "<Figure size 1080x576 with 6 Axes>"
      ]
     },
     "metadata": {
      "needs_background": "light"
     },
     "output_type": "display_data"
    }
   ],
   "source": [
    "# プロット\n",
    "plt.figure(figsize=(15, 8))\n",
    "\n",
    "for i, _cls in enumerate(df_dict.keys()):\n",
    "    df = df_dict[_cls]\n",
    "    \n",
    "    ax = plt.subplot(2, 3, i + 1)\n",
    "    ax.plot(df['rec'], df['pre'], '-o')\n",
    "    ax.fill_between(df['rec'], df['pre'], facecolor='b', alpha=0.3)\n",
    "    ax.set_xlim([0, 1.05])\n",
    "    ax.set_ylim([0.5, 1.03])\n",
    "    ax.grid(True)\n",
    "    ax.set_title(CAT_NAME_JP[_cls])\n",
    "    ax.set_xlabel('Recall')\n",
    "    ax.set_ylabel('Precision')\n",
    "    \n",
    "plt.tight_layout()\n",
    "plt.show()"
   ]
  },
  {
   "cell_type": "markdown",
   "metadata": {},
   "source": [
    "シャミ子がすごいです（笑）。次いで、モモ、ごせん像という感じです。これは、データ数の順番ですよねぇ・・・\n",
    "\n",
    "> ```\n",
    "[04/13 23:04:09 d2.data.build]: Removed 0 images with no usable annotations. 92 images left.\n",
    "[04/13 23:04:09 d2.data.build]: Distribution of instances among all 6 categories:\n",
    "|  category  | #instances   |  category  | #instances   |  category  | #instances   |\n",
    "|:----------:|:-------------|:----------:|:-------------|:----------:|:-------------|\n",
    "|  Shamiko   | 70           |  Gosenzo   | 28           |   Lilith   | 12           |\n",
    "|    Momo    | 41           |   Mikan    | 15           |    Mob     | 12           |\n",
    "|            |              |            |              |            |              |\n",
    "|   total    | 178          |            |              |            |              |\n",
    "```\n",
    "\n",
    "### AP, mAP の計算\n",
    "\n",
    "* mAP は期待できませんが、計算してみます。\n",
    "* AP は、上記チャートのハッチ部分の面積となります。方法は色々ありますが、今回はデータ数が少ないので普通に計算しました。\n",
    "* mAP は、全クラスの平均となります。\n",
    "* 今回はしきい値 0.5 です。"
   ]
  },
  {
   "cell_type": "code",
   "execution_count": 7,
   "metadata": {},
   "outputs": [],
   "source": [
    "def calc_AP(df_dict, cat_names):\n",
    "    \"\"\"\n",
    "    AP を計算する\n",
    "    \"\"\"\n",
    "    columns=['AP', 'iou']\n",
    "    tmp_dict = {key: [] for key in columns}\n",
    "    \n",
    "    for _cls in df_dict.keys():\n",
    "        df = df_dict[_cls]\n",
    "        rec, pre = df['rec'].values, df['pre'].values\n",
    "\n",
    "        # 1つしかない場合は 0\n",
    "        if len(rec) < 2:\n",
    "            tmp_dict['AP'].append(0)\n",
    "            tmp_dict['iou'].append(0)\n",
    "            continue\n",
    "\n",
    "        # 台形として面積を求めます\n",
    "        S = 0\n",
    "        for i in range(len(rec) - 1):\n",
    "            h = rec[i + 1] - rec[i]\n",
    "            p1, p2 = pre[i], pre[i + 1]\n",
    "\n",
    "            S += (p1 + p2) * h / 2\n",
    "\n",
    "        tmp_dict['AP'].append(S)\n",
    "        tmp_dict['iou'].append(df['iou'].mean())\n",
    "    \n",
    "    return pd.DataFrame(tmp_dict, columns=columns, index=(cat_names))"
   ]
  },
  {
   "cell_type": "code",
   "execution_count": 8,
   "metadata": {},
   "outputs": [
    {
     "data": {
      "text/html": [
       "<div>\n",
       "<style scoped>\n",
       "    .dataframe tbody tr th:only-of-type {\n",
       "        vertical-align: middle;\n",
       "    }\n",
       "\n",
       "    .dataframe tbody tr th {\n",
       "        vertical-align: top;\n",
       "    }\n",
       "\n",
       "    .dataframe thead th {\n",
       "        text-align: right;\n",
       "    }\n",
       "</style>\n",
       "<table border=\"1\" class=\"dataframe\">\n",
       "  <thead>\n",
       "    <tr style=\"text-align: right;\">\n",
       "      <th></th>\n",
       "      <th>AP</th>\n",
       "      <th>iou</th>\n",
       "    </tr>\n",
       "  </thead>\n",
       "  <tbody>\n",
       "    <tr>\n",
       "      <td>シャミ子</td>\n",
       "      <td>0.930458</td>\n",
       "      <td>0.565528</td>\n",
       "    </tr>\n",
       "    <tr>\n",
       "      <td>ごせん像</td>\n",
       "      <td>0.500000</td>\n",
       "      <td>0.554993</td>\n",
       "    </tr>\n",
       "    <tr>\n",
       "      <td>リリス</td>\n",
       "      <td>0.000000</td>\n",
       "      <td>0.000000</td>\n",
       "    </tr>\n",
       "    <tr>\n",
       "      <td>もも</td>\n",
       "      <td>0.727273</td>\n",
       "      <td>0.768603</td>\n",
       "    </tr>\n",
       "    <tr>\n",
       "      <td>みかん</td>\n",
       "      <td>0.000000</td>\n",
       "      <td>0.000000</td>\n",
       "    </tr>\n",
       "    <tr>\n",
       "      <td>その他</td>\n",
       "      <td>0.181818</td>\n",
       "      <td>0.815177</td>\n",
       "    </tr>\n",
       "  </tbody>\n",
       "</table>\n",
       "</div>"
      ],
      "text/plain": [
       "            AP       iou\n",
       "シャミ子  0.930458  0.565528\n",
       "ごせん像  0.500000  0.554993\n",
       "リリス   0.000000  0.000000\n",
       "もも    0.727273  0.768603\n",
       "みかん   0.000000  0.000000\n",
       "その他   0.181818  0.815177"
      ]
     },
     "execution_count": 8,
     "metadata": {},
     "output_type": "execute_result"
    }
   ],
   "source": [
    "df = calc_AP(df_dict, cat_names=CAT_NAME_JP)\n",
    "df"
   ]
  },
  {
   "cell_type": "code",
   "execution_count": 9,
   "metadata": {},
   "outputs": [
    {
     "data": {
      "text/plain": [
       "AP     0.389925\n",
       "iou    0.450717\n",
       "dtype: float64"
      ]
     },
     "execution_count": 9,
     "metadata": {},
     "output_type": "execute_result"
    }
   ],
   "source": [
    "df.mean()"
   ]
  },
  {
   "cell_type": "markdown",
   "metadata": {},
   "source": [
    "というか、上位以外が足をひっぱているのがよくわかりますね。\n",
    "\n",
    "データ数は正義です・・・"
   ]
  }
 ],
 "metadata": {
  "kernelspec": {
   "display_name": "Python 3",
   "language": "python",
   "name": "python3"
  },
  "language_info": {
   "codemirror_mode": {
    "name": "ipython",
    "version": 3
   },
   "file_extension": ".py",
   "mimetype": "text/x-python",
   "name": "python",
   "nbconvert_exporter": "python",
   "pygments_lexer": "ipython3",
   "version": "3.7.4"
  }
 },
 "nbformat": 4,
 "nbformat_minor": 4
}
